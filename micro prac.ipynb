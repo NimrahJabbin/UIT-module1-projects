{
 "cells": [
  {
   "cell_type": "code",
   "execution_count": 7,
   "metadata": {
    "scrolled": true
   },
   "outputs": [
    {
     "data": {
      "text/plain": [
       "'h'"
      ]
     },
     "execution_count": 7,
     "metadata": {},
     "output_type": "execute_result"
    }
   ],
   "source": [
    "def name_tel(names):\n",
    "    na=names[-1]\n",
    "    return na\n",
    "name_tel(\"nimrah\")"
   ]
  },
  {
   "cell_type": "code",
   "execution_count": 1,
   "metadata": {},
   "outputs": [
    {
     "data": {
      "text/plain": [
       "'C:\\\\Users\\\\nimra'"
      ]
     },
     "execution_count": 1,
     "metadata": {},
     "output_type": "execute_result"
    }
   ],
   "source": [
    "pwd"
   ]
  },
  {
   "cell_type": "code",
   "execution_count": 6,
   "metadata": {},
   "outputs": [
    {
     "name": "stdout",
     "output_type": "stream",
     "text": [
      "enter any number we will tell u the type of it20006\n",
      "the entered number is even\n"
     ]
    }
   ],
   "source": [
    "def num_type(num):\n",
    "    if num % 2==0:\n",
    "        print(\"the entered number is even\")\n",
    "    else:\n",
    "        print(\"the entered number is odd\")\n",
    "tel=int(input(\"enter any number we will tell u the type of it\"))\n",
    "num_type(tel)"
   ]
  },
  {
   "cell_type": "code",
   "execution_count": 42,
   "metadata": {},
   "outputs": [
    {
     "name": "stdout",
     "output_type": "stream",
     "text": [
      "4\n"
     ]
    }
   ],
   "source": [
    "def max_of_two(num1,num2):\n",
    "    if num1>num2:\n",
    "        return num1\n",
    "    else:\n",
    "        return num2\n",
    "def max_of_three(num1,num2,num3):\n",
    "    return max_of_two(num1,max_of_two(num2,num3))\n",
    "print(max_of_three(1,3,4))"
   ]
  },
  {
   "cell_type": "code",
   "execution_count": 40,
   "metadata": {},
   "outputs": [
    {
     "name": "stdout",
     "output_type": "stream",
     "text": [
      "6\n"
     ]
    }
   ],
   "source": [
    "def max_of_two( x, y ):\n",
    "    if x > y:\n",
    "        return x\n",
    "    return y\n",
    "def max_of_three( x, y, z ):\n",
    "    return max_of_two( x, max_of_two( y, z ) )\n",
    "print(max_of_three(3, 6, -5))\n"
   ]
  },
  {
   "cell_type": "code",
   "execution_count": 56,
   "metadata": {},
   "outputs": [
    {
     "name": "stdout",
     "output_type": "stream",
     "text": [
      "20\n"
     ]
    }
   ],
   "source": [
    "#Write a Python function to sum all the numbers in a list. Go to the editor\n",
    "#Sample List : (8, 2, 3, 0, 7)\n",
    "#Expected Output : 20 \n",
    "def adding_list(numlist):\n",
    "    i=0\n",
    "    for num in numlist:\n",
    "        i=i+num\n",
    "    return i\n",
    "print(adding_list((8, 2, 3, 0, 7)))"
   ]
  },
  {
   "cell_type": "code",
   "execution_count": 54,
   "metadata": {},
   "outputs": [
    {
     "name": "stdout",
     "output_type": "stream",
     "text": [
      "20\n"
     ]
    }
   ],
   "source": [
    "def sum(numbers):\n",
    "    total = 0\n",
    "    for x in numbers:\n",
    "        total += x\n",
    "    return total\n",
    "print(sum((8, 2, 3, 0, 7)))\n"
   ]
  },
  {
   "cell_type": "code",
   "execution_count": 59,
   "metadata": {},
   "outputs": [
    {
     "name": "stdout",
     "output_type": "stream",
     "text": [
      "-336\n"
     ]
    }
   ],
   "source": [
    "def adding_list(numlist):\n",
    "    i=1\n",
    "    for num in numlist:\n",
    "        i=i*num\n",
    "    return i\n",
    "print(adding_list((8, 2, 3, -1, 7)))"
   ]
  },
  {
   "cell_type": "code",
   "execution_count": 2,
   "metadata": {},
   "outputs": [
    {
     "name": "stdout",
     "output_type": "stream",
     "text": [
      "enter any stringnimrah\n",
      "harmin\n"
     ]
    }
   ],
   "source": [
    "#Write a Python program to reverse a string. Go to the editor\n",
    "#Sample String : \"1234abcd\"\n",
    "#Expected Output : \"dcba4321\"\n",
    "def rev_string(string):\n",
    "    reverse=\"\"\n",
    "    for i in string:\n",
    "        reverse=i+reverse\n",
    "    return reverse\n",
    "str=input(\"enter any string\")\n",
    "go=rev_string(str)\n",
    "print(go)"
   ]
  },
  {
   "cell_type": "code",
   "execution_count": 3,
   "metadata": {},
   "outputs": [
    {
     "name": "stdout",
     "output_type": "stream",
     "text": [
      "enter any number5\n",
      "120\n"
     ]
    }
   ],
   "source": [
    "#Write a Python function to calculate the factorial\n",
    "#of a number (a non-negative integer).\n",
    "#The function accepts the number as an argument\n",
    "def factorial(num):\n",
    "    i=1\n",
    "    fac=num\n",
    "    while i<num:\n",
    "        fac=fac*i\n",
    "        i+=1\n",
    "    return fac\n",
    "num=int(input(\"enter any number\"))\n",
    "go=factorial(num)\n",
    "print(go)"
   ]
  },
  {
   "cell_type": "code",
   "execution_count": 3,
   "metadata": {},
   "outputs": [
    {
     "name": "stdout",
     "output_type": "stream",
     "text": [
      "enter your starting range20\n",
      "enter ur ending range30\n",
      "enter any num5\n",
      "the entered number is not in range\n"
     ]
    }
   ],
   "source": [
    "#Write a Python function to check whether a number is in a given range\n",
    "def num_range(num):\n",
    "    if num in range(starting_range,ending_range+1):\n",
    "        print(\"the entered number is in range\")\n",
    "    else:\n",
    "        print(\"the entered number is not in range\")\n",
    "        \n",
    "        \n",
    "        \n",
    "        \n",
    "starting_range=int(input(\"enter your starting range\"))\n",
    "ending_range=int(input(\"enter ur ending range\"))\n",
    "num=int(input(\"enter any num\"))\n",
    "num_range(num)"
   ]
  },
  {
   "cell_type": "code",
   "execution_count": 18,
   "metadata": {},
   "outputs": [
    {
     "name": "stdout",
     "output_type": "stream",
     "text": [
      "enter any stringThe quick Brown Fox\n",
      "uppercase letters 3\n",
      "lowercase letters 13\n"
     ]
    }
   ],
   "source": [
    "#Write a Python function that accepts a string and calculate the number of upper case letters and lower case letters. Go to the editor\n",
    "#Sample String : 'The quick Brow Fox'\n",
    "#Expected Output : \n",
    "#No. of Upper case characters : 3\n",
    "#No. of Lower case Characters : 12\n",
    "def calculate(s):\n",
    "    d={\"UPPER_CASE\":0, \"LOWER_CASE\":0}\n",
    "    for i in s:\n",
    "        if i.isupper():\n",
    "          d[\"UPPER_CASE\"]+=1\n",
    "        elif i.islower():\n",
    "          d[\"LOWER_CASE\"]+=1\n",
    "        else:\n",
    "          pass\n",
    "    print(\"uppercase letters\",d[\"UPPER_CASE\"])\n",
    "    print(\"lowercase letters\",d[\"LOWER_CASE\"])\n",
    "    \n",
    "        \n",
    "s=input(\"enter any string\")\n",
    "calculate(s)\n"
   ]
  },
  {
   "cell_type": "code",
   "execution_count": 11,
   "metadata": {},
   "outputs": [
    {
     "name": "stdout",
     "output_type": "stream",
     "text": [
      "Original String :  The quick Brown Fox\n",
      "No. of Upper case characters :  3\n",
      "No. of Lower case Characters :  13\n"
     ]
    }
   ],
   "source": [
    "def string_test(s):\n",
    "    d={\"UPPER_CASE\":0, \"LOWER_CASE\":0}\n",
    "    for c in s:\n",
    "        if c.isupper():\n",
    "           d[\"UPPER_CASE\"]+=1\n",
    "        elif c.islower():\n",
    "           d[\"LOWER_CASE\"]+=1\n",
    "        else:\n",
    "           pass\n",
    "    print (\"Original String : \", s)\n",
    "    print (\"No. of Upper case characters : \", d[\"UPPER_CASE\"])\n",
    "    print (\"No. of Lower case Characters : \", d[\"LOWER_CASE\"])\n",
    "\n",
    "string_test('The quick Brown Fox')"
   ]
  },
  {
   "cell_type": "code",
   "execution_count": 17,
   "metadata": {},
   "outputs": [
    {
     "name": "stdout",
     "output_type": "stream",
     "text": [
      "[1, 2, 3, 4, 5]\n"
     ]
    }
   ],
   "source": [
    "#Write a Python function that takes a list and returns a new list with unique elements of the first list. Go to the editor\n",
    "#Sample List : [1,2,3,3,3,3,4,5]\n",
    "#Unique List : [1, 2, 3, 4, 5]\n",
    "def unique_list(l):\n",
    "    list=[]\n",
    "    for a in l:\n",
    "        if a not in list:\n",
    "            list.append(a)\n",
    "    return list\n",
    "print(unique_list([1,2,3,3,3,3,4,4,5]))"
   ]
  },
  {
   "cell_type": "code",
   "execution_count": 28,
   "metadata": {},
   "outputs": [
    {
     "name": "stdout",
     "output_type": "stream",
     "text": [
      "True\n"
     ]
    }
   ],
   "source": [
    "def prime_num(a):\n",
    "    if a==1:\n",
    "        return False\n",
    "    elif a==2:\n",
    "        return True\n",
    "    else:\n",
    "        for x in range(2,a):\n",
    "            if (a%x==0):\n",
    "                return False\n",
    "        return True\n",
    "print(prime_num(19))"
   ]
  },
  {
   "cell_type": "code",
   "execution_count": 25,
   "metadata": {},
   "outputs": [
    {
     "name": "stdout",
     "output_type": "stream",
     "text": [
      "False\n"
     ]
    }
   ],
   "source": [
    "def test_prime(n):\n",
    "    if (n==1):\n",
    "        return False\n",
    "    elif (n==2):\n",
    "        return True;\n",
    "    else:\n",
    "        for x in range(2,n):\n",
    "            if(n % x==0):\n",
    "                return False\n",
    "        return True             \n",
    "print(test_prime(9))"
   ]
  },
  {
   "cell_type": "code",
   "execution_count": 7,
   "metadata": {},
   "outputs": [
    {
     "name": "stdout",
     "output_type": "stream",
     "text": [
      "how many elements u want in a list9\n",
      "enter an element1\n",
      "enter an element2\n",
      "enter an element3\n",
      "enter an element4\n",
      "enter an element5\n",
      "enter an element6\n",
      "enter an element7\n",
      "enter an element8\n",
      "enter an element9\n",
      "[2, 4, 6, 8]\n"
     ]
    }
   ],
   "source": [
    "#Write a Python program to print the even numbers from a given list. Go to the editor\n",
    "#Sample List : [1, 2, 3, 4, 5, 6, 7, 8, 9] \n",
    "#Expected Result : [2, 4, 6, 8]\n",
    "\n",
    "\n",
    "\n",
    "def even_num(list):\n",
    "    list_of_even=[]\n",
    "    for n in list:\n",
    "        if n%2==0:\n",
    "            list_of_even.append(n)\n",
    "        else:\n",
    "          pass\n",
    "    return list_of_even     \n",
    "    \n",
    "\n",
    "    \n",
    "list=[]\n",
    "i=int(input(\"how many elements u want in a list\"))\n",
    "for x in range(0,i):\n",
    "    x=int(input(\"enter an element\"))\n",
    "    list.append(x)\n",
    "\n",
    "    \n",
    "    \n",
    "print(even_num(list))"
   ]
  },
  {
   "cell_type": "code",
   "execution_count": 2,
   "metadata": {},
   "outputs": [
    {
     "name": "stdout",
     "output_type": "stream",
     "text": [
      "how many elements u want in a list5\n",
      "enter an element1\n",
      "enter an element2\n",
      "enter an element3\n",
      "enter an element4\n",
      "enter an element5\n",
      "[1, 2, 3, 4, 5]\n"
     ]
    }
   ],
   "source": [
    "#taking list as input\n",
    "list=[]\n",
    "i=int(input(\"how many elements u want in a list\"))\n",
    "for x in range(0,i):\n",
    "    x=int(input(\"enter an element\"))\n",
    "    list.append(x)\n",
    "print(list)"
   ]
  },
  {
   "cell_type": "code",
   "execution_count": 18,
   "metadata": {},
   "outputs": [
    {
     "name": "stdout",
     "output_type": "stream",
     "text": [
      "True\n"
     ]
    }
   ],
   "source": [
    "#(Write a Python function to check whether a number is perfect or not. Go to the editor\n",
    "#According to Wikipedia : In number theory, a perfect number is a positive integer that\n",
    "#is equal to the sum of its proper positive divisors, that is, the sum of its positive \n",
    "#divisors excluding the number itself (also known as its aliquot sum). Equivalently,\n",
    "#a perfect number is a number that is half the sum of all of its positive divisors (including itself).\n",
    "#Example : The first perfect number is 6, because 1, 2, and 3 are its proper positive divisors,\n",
    "#and 1 + 2 + 3 = 6. Equivalently, the number 6 is equal to half the sum of all its positive divisors:\n",
    "#( 1 + 2 + 3 + 6 ) / 2 = 6. The next perfect number is 28 = 1 + 2 + 4 + 7 + 14.\n",
    "#This is followed by the perfect numbers 496 and 8128. )\n",
    "\n",
    "def per_num(num):\n",
    "    list=[]\n",
    "    for i in range(1,num):\n",
    "        if num%i==0:\n",
    "            list.append(i)\n",
    "    j=0\n",
    "    for x in list:\n",
    "        j=x+j\n",
    "        if j==num:\n",
    "            return True\n",
    "    return False    \n",
    "print(per_num(496))    \n",
    "            \n"
   ]
  },
  {
   "cell_type": "code",
   "execution_count": 5,
   "metadata": {},
   "outputs": [
    {
     "name": "stdout",
     "output_type": "stream",
     "text": [
      "False\n",
      "True\n",
      "False\n",
      "True\n"
     ]
    }
   ],
   "source": [
    "# Write a Python function that checks whether a passed string is palindrome or not. Go to the editor\n",
    "#Note: A palindrome is a word, phrase, or sequence that reads the same backward as forward, e.g., madam or nurses run.\n",
    "\n",
    "\n",
    "def palindrome(string):\n",
    "    reverse=\"\"\n",
    "    for i in string:\n",
    "        reverse=i+reverse\n",
    "    \n",
    "    if reverse==string:\n",
    "        return True\n",
    "    return False\n",
    "    \n",
    "    \n",
    "print(palindrome(\"cat\"))\n",
    "print(palindrome(\"madam\"))\n",
    "print(palindrome(\"nurses run\"))\n",
    "print(palindrome(\"nursesrun\"))"
   ]
  },
  {
   "cell_type": "code",
   "execution_count": 7,
   "metadata": {},
   "outputs": [
    {
     "name": "stdout",
     "output_type": "stream",
     "text": [
      "False\n"
     ]
    }
   ],
   "source": [
    "def isPalindrome(string):\n",
    "\tleft_pos = 0\n",
    "\tright_pos = len(string) - 1\n",
    "\t\n",
    "\twhile right_pos >= left_pos:\n",
    "\t\tif not string[left_pos] == string[right_pos]:\n",
    "\t\t\treturn False\n",
    "\t\tleft_pos += 1\n",
    "\t\tright_pos -= 1\n",
    "\treturn True\n",
    "print(isPalindrome('nurses run')) \n"
   ]
  },
  {
   "cell_type": "markdown",
   "metadata": {},
   "source": [
    "# classes (OOP)"
   ]
  },
  {
   "cell_type": "code",
   "execution_count": 7,
   "metadata": {},
   "outputs": [
    {
     "name": "stdout",
     "output_type": "stream",
     "text": [
      "1.04\n"
     ]
    }
   ],
   "source": [
    "class employee:\n",
    "    increment=1.04\n",
    "    def __init__(self, first, last,pay):\n",
    "            self.first = first\n",
    "            self.last = last\n",
    "            self.pay = pay\n",
    "            self.email=self.first+\".\"+self.last+\"@gmail.com\"\n",
    "    def full_name(self):\n",
    "        return '{} {}'.format(self.first,self.last)\n",
    "\n",
    "    def additional_pay(self):\n",
    "        return self.pay*employee.increment\n",
    "print(emp_1.increment)\n",
    "emp_1=employee(\"noor\",\"parvaiz\",15000)\n",
    "emp_2=employee(\"samrah\",\"marium\",20000)\n",
    "\n",
    "\n"
   ]
  },
  {
   "cell_type": "code",
   "execution_count": 27,
   "metadata": {},
   "outputs": [
    {
     "name": "stdout",
     "output_type": "stream",
     "text": [
      "my dog name is tommy\n",
      "your dog name is puppy\n",
      "it is 3 year's old\n",
      "And your's is 5 year's old\n",
      "Tommy is now sitting.\n",
      "None\n",
      "Puppy is now rolling.\n",
      "None\n"
     ]
    }
   ],
   "source": [
    "class Dog():\n",
    "    \n",
    "    def __init__(self,name,age):\n",
    "        self.name=name\n",
    "        self.age=age\n",
    "    def sit(self):\n",
    "        print(self.name.title() + \" is now sitting.\")\n",
    " \n",
    "    def roll(self):\n",
    "        print(self.name.title() +\" is now rolling.\")\n",
    "my_dog=Dog(\"tommy\",3)\n",
    "your_dog=Dog(\"puppy\",5)\n",
    "print(\"my dog name is \"+ my_dog.name)\n",
    "print(\"your dog name is \"+ your_dog.name)\n",
    "\n",
    "\n",
    "print(\"it is \"+ str(my_dog.age) +\" year's old\")\n",
    "print(\"And your's is \"+ str(your_dog.age) +\" year's old\")\n",
    "print(my_dog.sit())\n",
    "print(your_dog.roll())"
   ]
  },
  {
   "cell_type": "code",
   "execution_count": 12,
   "metadata": {},
   "outputs": [
    {
     "name": "stdout",
     "output_type": "stream",
     "text": [
      "mehran\n",
      "chinese\n",
      "the mehran has chinese\n",
      "None\n",
      "The restaurant is open.\n",
      "None\n"
     ]
    }
   ],
   "source": [
    "# Restaurant: Make a class called Restaurant . The __init__() method for \n",
    "# Restaurant should store two attributes: a restaurant_name and a cuisine_type .\n",
    "# Make a method called describe_restaurant() that prints these two pieces of information,\n",
    "# and a method called open_restaurant() that prints a message indicating that the restaurant is open \n",
    "# Make an instance called restaurant from your class . Print the two attributes individually, and then call both methods .\n",
    "class Restaurant():\n",
    "    \n",
    "\n",
    "    def __init__(self,restaurant_name,cuisine_type):\n",
    "        \n",
    "        self.restaurant_name=restaurant_name\n",
    "        self.cuisine_type=cuisine_type\n",
    "    \n",
    "    def describe_restaurant(self):\n",
    "        print(\"the \"+self.restaurant_name+ \" has \"+self.cuisine_type)\n",
    "    \n",
    "    def open_restaurant(self):\n",
    "        print(\"The restaurant is open.\")\n",
    "\n",
    "\n",
    "restaurant=Restaurant(\"mehran\",\"chinese\")\n",
    "print(restaurant.restaurant_name)\n",
    "print(restaurant.cuisine_type)\n",
    "print(restaurant.describe_restaurant())\n",
    "print(restaurant.open_restaurant())"
   ]
  },
  {
   "cell_type": "code",
   "execution_count": 1,
   "metadata": {},
   "outputs": [
    {
     "name": "stdout",
     "output_type": "stream",
     "text": [
      "the mehran has chinese\n",
      "None\n",
      "the 5_star has italian\n",
      "None\n"
     ]
    }
   ],
   "source": [
    "# Three Restaurants: Start with your class from Exercise 9-1 .\n",
    "# Create three different instances from the class, and call describe_restaurant() for each instance .\n",
    "class Restaurant():\n",
    "    \n",
    "\n",
    "    def __init__(self,restaurant_name,cuisine_type):\n",
    "        \n",
    "        self.restaurant_name=restaurant_name\n",
    "        self.cuisine_type=cuisine_type\n",
    "    \n",
    "    def describe_restaurant(self):\n",
    "        print(\"the \"+self.restaurant_name+ \" has \"+self.cuisine_type)\n",
    "    \n",
    "    def open_restaurant(self):\n",
    "        print(\"The restaurant is open.\")\n",
    "        \n",
    "        \n",
    "restaurant1=Restaurant(\"mehran\",\"chinese\")\n",
    "restaurant2=Restaurant(\"5_star\",\"italian\")\n",
    "print(Restaurant.describe_restaurant(restaurant1))\n",
    "#or\n",
    "#print(restaurant1.describe_restaurant())\n",
    "print(restaurant2.describe_restaurant())"
   ]
  },
  {
   "cell_type": "code",
   "execution_count": 43,
   "metadata": {},
   "outputs": [
    {
     "name": "stdout",
     "output_type": "stream",
     "text": [
      "the odometer reading 50 miles\n",
      "None\n",
      "69\n",
      "None\n",
      "79\n",
      "None\n"
     ]
    }
   ],
   "source": [
    "class Car():\n",
    "    \n",
    "    \n",
    "    def __init__(self,make,model,year):\n",
    "        self.make=make\n",
    "        self.model=model\n",
    "        self.year=year\n",
    "        self.odometer_reading=50\n",
    "        \n",
    "        \n",
    "    def describe(self):\n",
    "        print(self.make,self.model,self.year)\n",
    "        \n",
    "        \n",
    "    def read_odometer(self):\n",
    "        print(\"the odometer reading \"+str(self.odometer_reading)+ \" miles\")\n",
    "        \n",
    "        \n",
    "    def update_odometer(self,milage):\n",
    "        if milage>=self.odometer_reading:\n",
    "            self.odometer_reading=milage\n",
    "            print(self.odometer_reading)\n",
    "        else:\n",
    "            print('you cant scroll back odometer')\n",
    "            \n",
    "            \n",
    "            \n",
    "    def increment_odometer(self, miles):\n",
    "        \"\"\"Add the given amount to the odometer reading.\"\"\"\n",
    "        self.odometer_reading += miles\n",
    "        print(self.odometer_reading)\n",
    "new_car=Car(\"audi\",\"honda\",1998)\n",
    "print(new_car.read_odometer())\n",
    "print(new_car.update_odometer(69))\n",
    "print(new_car.increment_odometer(10))"
   ]
  },
  {
   "cell_type": "code",
   "execution_count": 6,
   "metadata": {},
   "outputs": [
    {
     "ename": "SyntaxError",
     "evalue": "invalid syntax (<ipython-input-6-4b65ce604fa5>, line 16)",
     "output_type": "error",
     "traceback": [
      "\u001b[1;36m  File \u001b[1;32m\"<ipython-input-6-4b65ce604fa5>\"\u001b[1;36m, line \u001b[1;32m16\u001b[0m\n\u001b[1;33m    def increment_ login_attempts(self):\u001b[0m\n\u001b[1;37m                                ^\u001b[0m\n\u001b[1;31mSyntaxError\u001b[0m\u001b[1;31m:\u001b[0m invalid syntax\n"
     ]
    }
   ],
   "source": [
    "# Add an attribute called login_attempts to your User class from Exercise 9-3 (page 166) .\n",
    "# Write a method called increment_ login_attempts() that increments the value of login_attempts\n",
    "# by 1 . Write another method called reset_login_attempts() that resets the value of login_ attempts\n",
    "# to 0 . Make an instance of the User class and call increment_login_attempts() several times . \n",
    "# Print the value of login_attempts to make sure it was incremented properly, \n",
    "# and then call reset_login_attempts() . Print login_attempts again to make sure it was reset to 0 .\n",
    "class User():\n",
    "    \n",
    "    \n",
    "    def __init__(self,first,last,login_attempts):\n",
    "        self.first=first\n",
    "        self.last=last\n",
    "        self.login_attempts=login_attempts\n",
    "        \n",
    "        \n",
    "    def increment_ login_attempts(self):\n",
    "        self.login_attempts+=1\n",
    "        \n",
    "        \n",
    "user1=User(nimrah,jabbin,2)\n",
    "print(user1.increment_login_attempts())"
   ]
  },
  {
   "cell_type": "markdown",
   "metadata": {},
   "source": [
    "# keywords"
   ]
  },
  {
   "cell_type": "markdown",
   "metadata": {},
   "source": [
    "if,elif,else,while,def,del\n",
    "class,global,lambda,break,\n",
    "continue,pass,from,import\n",
    "return,or,and,not,in,as,is\n",
    "none,assert,except,nonlocal\n",
    "try,yield,with,finally,true\n",
    "false,for,raise"
   ]
  },
  {
   "cell_type": "code",
   "execution_count": null,
   "metadata": {},
   "outputs": [],
   "source": [
    "#global\n"
   ]
  },
  {
   "cell_type": "code",
   "execution_count": 4,
   "metadata": {},
   "outputs": [
    {
     "data": {
      "text/plain": [
       "119"
      ]
     },
     "execution_count": 4,
     "metadata": {},
     "output_type": "execute_result"
    }
   ],
   "source": [
    "ord('w')"
   ]
  },
  {
   "cell_type": "code",
   "execution_count": 6,
   "metadata": {},
   "outputs": [
    {
     "data": {
      "text/plain": [
       "'W'"
      ]
     },
     "execution_count": 6,
     "metadata": {},
     "output_type": "execute_result"
    }
   ],
   "source": [
    "chr(87)"
   ]
  },
  {
   "cell_type": "code",
   "execution_count": 1,
   "metadata": {},
   "outputs": [
    {
     "data": {
      "text/plain": [
       "'0b1010110'"
      ]
     },
     "execution_count": 1,
     "metadata": {},
     "output_type": "execute_result"
    }
   ],
   "source": [
    " bin(86)\n"
   ]
  },
  {
   "cell_type": "code",
   "execution_count": 8,
   "metadata": {
    "scrolled": true
   },
   "outputs": [
    {
     "name": "stdout",
     "output_type": "stream",
     "text": [
      "I will need to think about that..\n",
      "The answer is: 42\n"
     ]
    }
   ],
   "source": [
    "import time\n",
    "print('I will need to think about that..')\n",
    "time.sleep(5)\n",
    "print('The answer is: 42')"
   ]
  },
  {
   "cell_type": "code",
   "execution_count": null,
   "metadata": {},
   "outputs": [],
   "source": [
    "# \\\\     Backslash character (\\)    Enter a backslash into the string\n",
    "# \\’     Single quote (‘)           Enter a single quote into the string\n",
    "# \\”     Double quote (“)           Enter a double quote into the string\n",
    "# \\n     ASCII Line Feed/New Line   End this line and take a new one\n",
    "# \\t     ASCII Tab                  Move to the right to the next tab stop\n",
    "# \\r     ASCII Carriage return      Return the printing position to the start of the line\n",
    "# \\a     ASCII Bell                 Sound the bell on the terminal"
   ]
  },
  {
   "cell_type": "code",
   "execution_count": 27,
   "metadata": {
    "scrolled": false
   },
   "outputs": [
    {
     "name": "stdout",
     "output_type": "stream",
     "text": [
      "my name\\is nimo\n"
     ]
    }
   ],
   "source": [
    "print('my name\\\\is nimo')"
   ]
  },
  {
   "cell_type": "code",
   "execution_count": 25,
   "metadata": {},
   "outputs": [
    {
     "name": "stdout",
     "output_type": "stream",
     "text": [
      "my name'is nimo\n"
     ]
    }
   ],
   "source": [
    "print('my name\\'is nimo')"
   ]
  },
  {
   "cell_type": "code",
   "execution_count": 37,
   "metadata": {},
   "outputs": [
    {
     "name": "stdout",
     "output_type": "stream",
     "text": [
      "my name \n",
      " is nimo\n"
     ]
    }
   ],
   "source": [
    "print('my name \\n is nimo')"
   ]
  },
  {
   "cell_type": "code",
   "execution_count": 36,
   "metadata": {},
   "outputs": [
    {
     "name": "stdout",
     "output_type": "stream",
     "text": [
      "my name \t is nimo\n"
     ]
    }
   ],
   "source": [
    "print('my name \\t is nimo')"
   ]
  },
  {
   "cell_type": "code",
   "execution_count": 44,
   "metadata": {},
   "outputs": [
    {
     "name": "stdout",
     "output_type": "stream",
     "text": [
      "my name \r",
      " is nimo\n"
     ]
    }
   ],
   "source": [
    "print('my name \\r is nimo')"
   ]
  },
  {
   "cell_type": "code",
   "execution_count": 43,
   "metadata": {
    "scrolled": true
   },
   "outputs": [
    {
     "name": "stdout",
     "output_type": "stream",
     "text": [
      "my name \u0007 is nimo\n"
     ]
    }
   ],
   "source": [
    "print('my name \\a is nimo')"
   ]
  },
  {
   "cell_type": "code",
   "execution_count": 45,
   "metadata": {
    "scrolled": true
   },
   "outputs": [
    {
     "name": "stdout",
     "output_type": "stream",
     "text": [
      "Item\tSales\n",
      "car\t50\n",
      "boat\t10\n"
     ]
    }
   ],
   "source": [
    "print('Item\\tSales\\ncar\\t50\\nboat\\t10')"
   ]
  },
  {
   "cell_type": "code",
   "execution_count": 48,
   "metadata": {},
   "outputs": [
    {
     "name": "stdout",
     "output_type": "stream",
     "text": [
      "...and then Luke said It's a trap\"\n"
     ]
    }
   ],
   "source": [
    "print('...and then Luke said It\\'s a trap\"')"
   ]
  },
  {
   "cell_type": "code",
   "execution_count": 49,
   "metadata": {},
   "outputs": [
    {
     "name": "stdout",
     "output_type": "stream",
     "text": [
      "Enter your name please: nimo\n",
      "Hello nimo\n"
     ]
    }
   ],
   "source": [
    "name = input('Enter your name please: ')\n",
    "print('Hello', name)"
   ]
  },
  {
   "cell_type": "code",
   "execution_count": 54,
   "metadata": {},
   "outputs": [
    {
     "name": "stdout",
     "output_type": "stream",
     "text": [
      "enter cooking time10\n",
      "add egg into boiling water and wait for 10seconds\n",
      "take out the egg now\n"
     ]
    }
   ],
   "source": [
    "import time\n",
    "cooking_time=input('enter cooking time')\n",
    "cook_time_int=int(cooking_time)\n",
    "print('add egg into boiling water and wait for '+ cooking_time +\"seconds\")\n",
    "time.sleep(cook_time_int)\n",
    "print('take out the egg now')"
   ]
  },
  {
   "cell_type": "code",
   "execution_count": 58,
   "metadata": {},
   "outputs": [
    {
     "data": {
      "text/plain": [
       "0.30000000000000004"
      ]
     },
     "execution_count": 58,
     "metadata": {},
     "output_type": "execute_result"
    }
   ],
   "source": [
    "0.1+0.2"
   ]
  },
  {
   "cell_type": "code",
   "execution_count": 61,
   "metadata": {},
   "outputs": [
    {
     "data": {
      "text/plain": [
       "0.5"
      ]
     },
     "execution_count": 61,
     "metadata": {},
     "output_type": "execute_result"
    }
   ],
   "source": [
    "1/2"
   ]
  },
  {
   "cell_type": "code",
   "execution_count": 62,
   "metadata": {},
   "outputs": [
    {
     "data": {
      "text/plain": [
       "0.5"
      ]
     },
     "execution_count": 62,
     "metadata": {},
     "output_type": "execute_result"
    }
   ],
   "source": [
    "1.0/2.0"
   ]
  },
  {
   "cell_type": "code",
   "execution_count": 63,
   "metadata": {},
   "outputs": [
    {
     "data": {
      "text/plain": [
       "3.0"
      ]
     },
     "execution_count": 63,
     "metadata": {},
     "output_type": "execute_result"
    }
   ],
   "source": [
    "1.0+2.0"
   ]
  },
  {
   "cell_type": "code",
   "execution_count": 64,
   "metadata": {},
   "outputs": [
    {
     "data": {
      "text/plain": [
       "3"
      ]
     },
     "execution_count": 64,
     "metadata": {},
     "output_type": "execute_result"
    }
   ],
   "source": [
    "1+2"
   ]
  },
  {
   "cell_type": "code",
   "execution_count": 65,
   "metadata": {},
   "outputs": [
    {
     "data": {
      "text/plain": [
       "0.5"
      ]
     },
     "execution_count": 65,
     "metadata": {},
     "output_type": "execute_result"
    }
   ],
   "source": [
    " 1/2 "
   ]
  },
  {
   "cell_type": "code",
   "execution_count": 69,
   "metadata": {},
   "outputs": [
    {
     "data": {
      "text/plain": [
       "14"
      ]
     },
     "execution_count": 69,
     "metadata": {},
     "output_type": "execute_result"
    }
   ],
   "source": [
    "2 + 3 * 4\n"
   ]
  },
  {
   "cell_type": "code",
   "execution_count": 77,
   "metadata": {},
   "outputs": [
    {
     "data": {
      "text/plain": [
       "(2.0, 20)"
      ]
     },
     "execution_count": 77,
     "metadata": {},
     "output_type": "execute_result"
    }
   ],
   "source": [
    "-1 + 3.0,(2 + 3) * 4"
   ]
  },
  {
   "cell_type": "code",
   "execution_count": 80,
   "metadata": {},
   "outputs": [
    {
     "data": {
      "text/plain": [
       "12"
      ]
     },
     "execution_count": 80,
     "metadata": {},
     "output_type": "execute_result"
    }
   ],
   "source": [
    "a = 1\n",
    "b = 2\n",
    "c = a + b\n",
    "c = c * (a + b)\n",
    "b = a + b + c\n",
    "b"
   ]
  },
  {
   "cell_type": "code",
   "execution_count": 83,
   "metadata": {},
   "outputs": [
    {
     "data": {
      "text/plain": [
       "25"
      ]
     },
     "execution_count": 83,
     "metadata": {},
     "output_type": "execute_result"
    }
   ],
   "source": [
    "i = int('25')\n",
    "i"
   ]
  },
  {
   "cell_type": "code",
   "execution_count": 84,
   "metadata": {},
   "outputs": [
    {
     "data": {
      "text/plain": [
       "2"
      ]
     },
     "execution_count": 84,
     "metadata": {},
     "output_type": "execute_result"
    }
   ],
   "source": [
    "i = int(2.9)\n",
    "i"
   ]
  },
  {
   "cell_type": "code",
   "execution_count": null,
   "metadata": {},
   "outputs": [],
   "source": [
    ">>> bool(1)\n",
    "True\n",
    ">>> bool(0)\n",
    "False\n",
    ">>> bool(0.0)\n",
    "False\n",
    ">>> bool(0.1)\n",
    "True\n",
    ">>> bool('')\n",
    "False\n",
    ">>> bool('hello')\n",
    "True"
   ]
  },
  {
   "cell_type": "code",
   "execution_count": 85,
   "metadata": {},
   "outputs": [
    {
     "data": {
      "text/plain": [
       "1"
      ]
     },
     "execution_count": 85,
     "metadata": {},
     "output_type": "execute_result"
    }
   ],
   "source": [
    "1"
   ]
  },
  {
   "cell_type": "code",
   "execution_count": 90,
   "metadata": {},
   "outputs": [
    {
     "data": {
      "text/plain": [
       "time.struct_time(tm_year=2019, tm_mon=9, tm_mday=23, tm_hour=2, tm_min=32, tm_sec=17, tm_wday=0, tm_yday=266, tm_isdst=0)"
      ]
     },
     "execution_count": 90,
     "metadata": {},
     "output_type": "execute_result"
    }
   ],
   "source": [
    "import time\n",
    "current_time = time.localtime()\n",
    "hour = current_time.tm_hour\n",
    "current_time\n",
    "#hour"
   ]
  },
  {
   "cell_type": "code",
   "execution_count": 91,
   "metadata": {},
   "outputs": [
    {
     "data": {
      "text/plain": [
       "1"
      ]
     },
     "execution_count": 91,
     "metadata": {},
     "output_type": "execute_result"
    }
   ],
   "source": [
    "True and 1"
   ]
  },
  {
   "cell_type": "code",
   "execution_count": 92,
   "metadata": {},
   "outputs": [
    {
     "data": {
      "text/plain": [
       "True"
      ]
     },
     "execution_count": 92,
     "metadata": {},
     "output_type": "execute_result"
    }
   ],
   "source": [
    "True and True"
   ]
  },
  {
   "cell_type": "code",
   "execution_count": 1,
   "metadata": {},
   "outputs": [
    {
     "name": "stdout",
     "output_type": "stream",
     "text": [
      "Welcome to our Theme Park\n",
      "These are the available rides:\n",
      "1. Scenic River Cruise\n",
      "2. Carnival Carousel\n",
      "3. Jungle Adventure Water Splash\n",
      "4. Downhill Mountain Run\n",
      "5. The Regurgitator\n",
      "\n",
      "Please enter the ride number you want: 0\n",
      "Please enter your age: 3\n",
      "You can go on the ride.\n",
      "Sorry. You are too young.\n",
      "Invalid ride number\n"
     ]
    }
   ],
   "source": [
    "print('''Welcome to our Theme Park\n",
    "These are the available rides:\n",
    "1. Scenic River Cruise\n",
    "2. Carnival Carousel\n",
    "3. Jungle Adventure Water Splash\n",
    "4. Downhill Mountain Run\n",
    "5. The Regurgitator\n",
    "''')\n",
    "ride_number_text = input('Please enter the ride number you want: ')\n",
    "ride_number = int(ride_number_text)\n",
    "if ride_number == 1:\n",
    "    print('You have selected the Scenic River Cruise')\n",
    "    print('There are no age limits for this ride')\n",
    "else:\n",
    " # We need to get the age of the user\n",
    "    age_text = input('Please enter your age: ')\n",
    "    age = int(age_text)\n",
    "    if ride_number == 2:\n",
    "         print('You have selected the Carnival Carousel')\n",
    "    if age >= 3 :\n",
    "         print('You can go on the ride.')\n",
    "    else:\n",
    "         print('Sorry. You are too young.')\n",
    "    if ride_number == 3:\n",
    "         print('You have selected the Jungle Adventure Water Splash')\n",
    "    if age >= 6:\n",
    "         print('You can go on the ride.')\n",
    "    else:\n",
    "         print('Sorry. You are too young.')\n",
    "    if ride_number == 5:\n",
    "        print('You have selected The Regurgitator ')\n",
    "        if age >= 12:\n",
    " # Age is not too low\n",
    "            if age > 70:\n",
    " # Age is too high\n",
    "                print('Sorry. You are too old.')\n",
    "            else:\n",
    " # Age is in the correct range\n",
    "                print('You can go on the ride.')\n",
    "        else:\n",
    " # Age is too low\n",
    "             print('Sorry. You are too young.')\n",
    "if ride_number < 1 or ride_number > 5:\n",
    "    print('Invalid ride number')\n",
    "        "
   ]
  },
  {
   "cell_type": "code",
   "execution_count": null,
   "metadata": {},
   "outputs": [],
   "source": [
    "stopped at pg 136"
   ]
  },
  {
   "cell_type": "code",
   "execution_count": 3,
   "metadata": {},
   "outputs": [
    {
     "name": "stdout",
     "output_type": "stream",
     "text": [
      "1\n",
      "2\n",
      "3\n",
      "4\n",
      "Finished\n"
     ]
    }
   ],
   "source": [
    "for count in range(1, 13):\n",
    "    if count == 5:\n",
    "          break\n",
    "    print(count)\n",
    "print('Finished')"
   ]
  },
  {
   "cell_type": "code",
   "execution_count": 4,
   "metadata": {},
   "outputs": [
    {
     "name": "stdout",
     "output_type": "stream",
     "text": [
      "h\n",
      "e\n",
      "l\n",
      "l\n",
      "o\n",
      " \n",
      "w\n",
      "o\n",
      "r\n",
      "l\n",
      "d\n"
     ]
    }
   ],
   "source": [
    " for letter in 'hello world':\n",
    "         print(letter)"
   ]
  },
  {
   "cell_type": "code",
   "execution_count": 5,
   "metadata": {},
   "outputs": [
    {
     "name": "stdout",
     "output_type": "stream",
     "text": [
      "hello\n"
     ]
    }
   ],
   "source": [
    "def greeter():\n",
    "    print('hello')\n",
    "x=greeter\n",
    "x()"
   ]
  },
  {
   "cell_type": "code",
   "execution_count": 6,
   "metadata": {},
   "outputs": [
    {
     "name": "stdout",
     "output_type": "stream",
     "text": [
      "the\n",
      "cat\n",
      "sat on\n",
      "the\n",
      "mat\n"
     ]
    }
   ],
   "source": [
    "def m2():\n",
    " print('the')\n",
    "def m3():\n",
    " print('sat on')\n",
    " m2()\n",
    "def m1():\n",
    " m2()\n",
    " print('cat')\n",
    " m3()\n",
    " print('mat')\n",
    "m1()"
   ]
  },
  {
   "cell_type": "code",
   "execution_count": 8,
   "metadata": {},
   "outputs": [
    {
     "name": "stdout",
     "output_type": "stream",
     "text": [
      "1 times 5 equals 5\n",
      "2 times 5 equals 10\n",
      "3 times 5 equals 15\n",
      "4 times 5 equals 20\n",
      "5 times 5 equals 25\n",
      "6 times 5 equals 30\n",
      "7 times 5 equals 35\n",
      "8 times 5 equals 40\n",
      "9 times 5 equals 45\n",
      "10 times 5 equals 50\n",
      "11 times 5 equals 55\n",
      "12 times 5 equals 60\n"
     ]
    }
   ],
   "source": [
    "def print_times_table(times_value):\n",
    "         count = 1\n",
    "         while count < 13:\n",
    "                result = count * times_value\n",
    "                print(count, 'times', times_value, 'equals', result)\n",
    "                count = count + 1\n",
    "print_times_table(5)"
   ]
  },
  {
   "cell_type": "code",
   "execution_count": 9,
   "metadata": {},
   "outputs": [
    {
     "name": "stdout",
     "output_type": "stream",
     "text": [
      "The value of test is 0\n"
     ]
    }
   ],
   "source": [
    "def what_would_I_do(input_value):\n",
    "     input_value = 99\n",
    "test = 0\n",
    "what_would_I_do(test)\n",
    "print('The value of test is', test)"
   ]
  },
  {
   "cell_type": "code",
   "execution_count": 19,
   "metadata": {},
   "outputs": [
    {
     "name": "stdout",
     "output_type": "stream",
     "text": [
      "0\n",
      "99\n",
      "The value of test is 0\n"
     ]
    }
   ],
   "source": [
    "test = 0\n",
    "print(test)\n",
    "def what_would_I_do(test):\n",
    "    \n",
    "    test = 99\n",
    "    print(test)\n",
    "what_would_I_do(test)\n",
    "print('The value of test is', test)"
   ]
  },
  {
   "cell_type": "code",
   "execution_count": 24,
   "metadata": {},
   "outputs": [
    {
     "name": "stdout",
     "output_type": "stream",
     "text": [
      "n\n",
      "i\n",
      "m\n",
      "r\n",
      "a\n",
      "h\n"
     ]
    }
   ],
   "source": [
    "import time\n",
    "def teletype_print(text, delay=0.1):\n",
    "    for ch in text:\n",
    "        print(ch)\n",
    "        time.sleep(delay)\n",
    "    \n",
    "teletype_print('nimrah',2)\n"
   ]
  },
  {
   "cell_type": "code",
   "execution_count": null,
   "metadata": {},
   "outputs": [],
   "source": [
    "pg 185"
   ]
  },
  {
   "cell_type": "code",
   "execution_count": 4,
   "metadata": {
    "scrolled": true
   },
   "outputs": [
    {
     "name": "stdout",
     "output_type": "stream",
     "text": [
      "The value of i is:  0\n"
     ]
    }
   ],
   "source": [
    "# EG7-11 Local Variables\n",
    "def func_2():\n",
    "    i = 99\n",
    "def func_1():\n",
    "    i = 0\n",
    "    func_2()\n",
    "    print('The value of i is: ', i)\n",
    "func_1()"
   ]
  },
  {
   "cell_type": "code",
   "execution_count": 7,
   "metadata": {},
   "outputs": [
    {
     "name": "stdout",
     "output_type": "stream",
     "text": [
      "Local cheese is: 100\n",
      "Global cheese is: 99\n"
     ]
    }
   ],
   "source": [
    "cheese = 99\n",
    "def func():\n",
    "    #global cheese\n",
    "    cheese = 100\n",
    "    print('Local cheese is:', cheese)\n",
    "func()\n",
    "print('Global cheese is:', cheese)"
   ]
  },
  {
   "cell_type": "code",
   "execution_count": 8,
   "metadata": {},
   "outputs": [
    {
     "ename": "IndentationError",
     "evalue": "expected an indented block (<ipython-input-8-c4f987670e3b>, line 2)",
     "output_type": "error",
     "traceback": [
      "\u001b[1;36m  File \u001b[1;32m\"<ipython-input-8-c4f987670e3b>\"\u001b[1;36m, line \u001b[1;32m2\u001b[0m\n\u001b[1;33m    name=read_text()\u001b[0m\n\u001b[1;37m       ^\u001b[0m\n\u001b[1;31mIndentationError\u001b[0m\u001b[1;31m:\u001b[0m expected an indented block\n"
     ]
    }
   ],
   "source": [
    "def read_text(prompt='Please enter some text: '):\n",
    "name=read_text()"
   ]
  },
  {
   "cell_type": "code",
   "execution_count": 16,
   "metadata": {},
   "outputs": [
    {
     "data": {
      "text/plain": [
       "[102, 'nimo']"
      ]
     },
     "execution_count": 16,
     "metadata": {},
     "output_type": "execute_result"
    }
   ],
   "source": [
    "sales=[]\n",
    "sales.append(102)\n",
    "sales.append('rob')\n",
    "sales[1]='nimo'\n",
    "sales"
   ]
  },
  {
   "cell_type": "markdown",
   "metadata": {},
   "source": [
    "# things to learn\n",
    "#prompt,snaps , placeholder functions, stub functions,strip(),with,as have to learn from telusko\n",
    "#min,max, Encode(),Decode(),Convert(),tostring(),canvas"
   ]
  },
  {
   "cell_type": "code",
   "execution_count": 5,
   "metadata": {},
   "outputs": [
    {
     "name": "stdout",
     "output_type": "stream",
     "text": [
      "What is your favorite color? red\n",
      "red\n"
     ]
    }
   ],
   "source": [
    "#When you use input to get text input from the user, you can provide an argument “prompt” which is a description of what you want the user to enter.\n",
    "prompt = 'What is your favorite color? '\n",
    "\n",
    "text = input(prompt)\n",
    "print(text)\n"
   ]
  },
  {
   "cell_type": "code",
   "execution_count": 8,
   "metadata": {},
   "outputs": [
    {
     "data": {
      "text/plain": [
       "'nimo is 21 years oldd'"
      ]
     },
     "execution_count": 8,
     "metadata": {},
     "output_type": "execute_result"
    }
   ],
   "source": [
    "name='nimo'\n",
    "name +' is 21 years oldd'"
   ]
  },
  {
   "cell_type": "code",
   "execution_count": 9,
   "metadata": {},
   "outputs": [
    {
     "data": {
      "text/plain": [
       "'nimo is 21 years old'"
      ]
     },
     "execution_count": 9,
     "metadata": {},
     "output_type": "execute_result"
    }
   ],
   "source": [
    "name='%s is %d years old'\n",
    "name%('nimo',21)"
   ]
  },
  {
   "cell_type": "code",
   "execution_count": 10,
   "metadata": {},
   "outputs": [
    {
     "name": "stdout",
     "output_type": "stream",
     "text": [
      "This article is written in Python\n",
      "Hello, I am 18 years old !\n"
     ]
    }
   ],
   "source": [
    "str = \"This article is written in {}\"\n",
    "print (str.format(\"Python\")) \n",
    "  \n",
    "# formatting a string using a numeric constant \n",
    "print (\"Hello, I am {} years old !\".format(18))  \n"
   ]
  },
  {
   "cell_type": "code",
   "execution_count": 22,
   "metadata": {},
   "outputs": [
    {
     "name": "stdout",
     "output_type": "stream",
     "text": [
      " how are u nimo\n",
      " how are u nimo\n"
     ]
    }
   ],
   "source": [
    "#The strip() removes characters from both left and right based\n",
    "#on the argument (a string specifying the set of characters to be removed).\n",
    "\n",
    "#The syntax of strip() is:\n",
    "string=' how are u nimo'\n",
    "\n",
    "print(string.strip('chars'))\n",
    "print(string.strip('are'))"
   ]
  },
  {
   "cell_type": "code",
   "execution_count": 25,
   "metadata": {},
   "outputs": [
    {
     "name": "stdout",
     "output_type": "stream",
     "text": [
      "xoxo love xoxo\n",
      "lov\n",
      " xoxo love xoxo   \n",
      "droid is awesome\n"
     ]
    }
   ],
   "source": [
    "string = ' xoxo love xoxo   '\n",
    "\n",
    "# Leading whitepsace are removed\n",
    "print(string.strip())\n",
    "\n",
    "print(string.strip(' xoxoe'))\n",
    "\n",
    "# Argument doesn't contain space\n",
    "# No characters are removed.\n",
    "print(string.strip('sti'))\n",
    "\n",
    "string = 'android is awesome'\n",
    "print(string.strip('an'))"
   ]
  },
  {
   "cell_type": "code",
   "execution_count": null,
   "metadata": {},
   "outputs": [],
   "source": [
    "#string function methods aik complete topic hai \n",
    "#https://www.programiz.com/python-programming/methods/string/strip#targetText=Python%20String%20strip(),of%20characters%20to%20be%20removed)."
   ]
  },
  {
   "cell_type": "code",
   "execution_count": null,
   "metadata": {},
   "outputs": [],
   "source": []
  },
  {
   "cell_type": "code",
   "execution_count": 1,
   "metadata": {},
   "outputs": [
    {
     "name": "stdout",
     "output_type": "stream",
     "text": [
      "Hickory Dickory Dock! \n",
      "The mouse ran up the clock\n"
     ]
    }
   ],
   "source": [
    "print(\"\"\"Hickory Dickory Dock! \n",
    "The mouse ran up the clock\"\"\")\n"
   ]
  },
  {
   "cell_type": "code",
   "execution_count": 2,
   "metadata": {},
   "outputs": [
    {
     "name": "stdout",
     "output_type": "stream",
     "text": [
      "Hickory Dickory Dock! The mouse ran up the clock\n"
     ]
    }
   ],
   "source": [
    "print(\"Hickory Dickory Dock! The mouse ran up the clock\")\n"
   ]
  },
  {
   "cell_type": "code",
   "execution_count": 10,
   "metadata": {},
   "outputs": [
    {
     "name": "stdout",
     "output_type": "stream",
     "text": [
      "helloworld\n",
      "HELLOWORLD\n",
      "hELLOWORLD\n"
     ]
    }
   ],
   "source": [
    "message='Helloworld' \n",
    "print(message.lower()) \n",
    "print(message.upper()) \n",
    "print(message.swapcase()) #it will reverse the case\n"
   ]
  },
  {
   "cell_type": "code",
   "execution_count": 19,
   "metadata": {},
   "outputs": [
    {
     "name": "stdout",
     "output_type": "stream",
     "text": [
      "6\n",
      "5\n",
      "2\n",
      "Hello world\n",
      "Hi world\n"
     ]
    }
   ],
   "source": [
    "message='Hello world' \n",
    "print(message.find('world')) \n",
    "print(message.find(' '))\n",
    "print(message.count('o'))\n",
    "print(message.capitalize()) #make first character uppercase\n",
    "print(message.replace('Hello','Hi'))\n"
   ]
  },
  {
   "cell_type": "code",
   "execution_count": null,
   "metadata": {},
   "outputs": [],
   "source": [
    "#book almost done\\\n",
    "#presentation ----803 done"
   ]
  },
  {
   "cell_type": "markdown",
   "metadata": {},
   "source": [
    "# Types of Operator\n",
    "Python language supports the following types of operators.\n",
    "\n",
    "Arithmetic Operators\n",
    "Comparison (Relational) Operators\n",
    "Assignment Operators\n",
    "Logical Operators\n",
    "Bitwise Operators\n",
    "Membership Operators\n",
    "Identity Operators"
   ]
  },
  {
   "cell_type": "markdown",
   "metadata": {},
   "source": [
    "# Python Arithmetic Operators\n",
    "a=10  b=20\n",
    "Operator\t        Description\t                                                Example\n",
    "+ Addition\t        Adds values on either side of the operator.               \ta + b = 30\n",
    "- Subtraction       Subtracts right hand operand from left hand operand.\t    a – b = -10\n",
    "* Multiplication\tMultiplies values on either side of the operator\t        a * b = 200\n",
    "/ Division\t        Divides left hand operand by right hand operand          \tb / a = 2\n",
    "% Modulus\t        Divides left hand operand by right hand operand \n",
    "                    and returns remainder\t                                    b % a = 0\n",
    "** Exponent     \tPerforms exponential (power) calculation on operators\t    a**b =10 to the power 20\n",
    "//Floor Division    The division of operands where the result is the\n",
    "                    quotient in which the digits after the decimal point\n",
    "                    are removed. But if one of the operands is negative,\n",
    "                    the result is floored, i.e., rounded away from zero \n",
    "                    (towards negative infinity) −\t                                \n",
    "                                                                                  9//2 = 4 and 9.0//2.0 = 4.0,\n",
    "                                                                                  -11//3 = -4, -11.0//3 = -4.0"
   ]
  },
  {
   "cell_type": "markdown",
   "metadata": {},
   "source": [
    "# Python Comparison Operators\n",
    "\n",
    "Operator\t                                 Description\t                                 Example\n",
    "\n",
    "==\t                                         If the values of two operands are equal,\n",
    "                                             then the condition becomes true.\t            (a == b) is not true.\n",
    "\n",
    "!=\t                                         If values of two operands are not equal,\n",
    "                                             then condition becomes true.\t                (a != b) is true.\n",
    "\n",
    "<>\t                                         If values of two operands are not equal,\n",
    "                                             then condition becomes true.\t                (a <> b) is true. This is similar                                                                                                to != operator.\n",
    "\n",
    ">\t                                         If the value of left operand is greater\n",
    "                                             than the value of right operand, then \n",
    "                                             condition becomes true.\t                    (a > b) is not true.\n",
    "\n",
    "<\t                                         If the value of left operand is less \n",
    "                                             than the value of right operand, then\n",
    "                                             condition becomes true.\t                    (a < b) is true.\n",
    "\n",
    ">=\t                                         If the value of left operand is greater\n",
    "                                             than or equal to the value of right operand,\n",
    "                                             then condition becomes true.\t                (a >= b) is not true.\n",
    "\n",
    "<=                                         \t If the value of left operand is less than\n",
    "                                             or equal to the value of right operand, \n",
    "                                             then condition becomes true.\t                (a <= b) is true."
   ]
  },
  {
   "cell_type": "code",
   "execution_count": null,
   "metadata": {},
   "outputs": [],
   "source": [
    "agey k operators is link se prhney hain\n",
    "https://www.tutorialspoint.com/python/python_basic_operators.htm"
   ]
  },
  {
   "cell_type": "code",
   "execution_count": null,
   "metadata": {},
   "outputs": [],
   "source": [
    "1’s complement of a binary number is another binary number obtained by toggling all bits in it, i.e., transforming the 0 bit to 1 and the 1 bit to 0.\n",
    "\n",
    "Examples:\n",
    "\n",
    "1's complement of \"0111\" is \"1000\"\n",
    "1's complement of \"1100\" is  \"0011\" \n",
    "2’s complement of a binary number is 1 added to the 1’s complement of the binary number.\n",
    "\n",
    "Examples:\n",
    "\n",
    "2's complement of \"0111\" is  \"1001\"\n",
    "2's complement of \"1100\" is  \"0100\" "
   ]
  },
  {
   "cell_type": "code",
   "execution_count": null,
   "metadata": {},
   "outputs": [],
   "source": [
    "bitwise operatot\n",
    "XOR(^),OR(|),AND(&),left shift(<<),right shift(>>),complement(~)\n",
    "logical operator\n",
    "and,or,not"
   ]
  },
  {
   "cell_type": "code",
   "execution_count": 2,
   "metadata": {},
   "outputs": [
    {
     "data": {
      "text/plain": [
       "True"
      ]
     },
     "execution_count": 2,
     "metadata": {},
     "output_type": "execute_result"
    }
   ],
   "source": [
    "'' in 'python'"
   ]
  },
  {
   "cell_type": "code",
   "execution_count": null,
   "metadata": {},
   "outputs": [],
   "source": [
    "https://www.tutorialspoint.com/python/python_online_quiz.htm"
   ]
  },
  {
   "cell_type": "code",
   "execution_count": 4,
   "metadata": {},
   "outputs": [
    {
     "data": {
      "text/plain": [
       "' '"
      ]
     },
     "execution_count": 4,
     "metadata": {},
     "output_type": "execute_result"
    }
   ],
   "source": [
    "min('hello world')"
   ]
  },
  {
   "cell_type": "code",
   "execution_count": 5,
   "metadata": {},
   "outputs": [
    {
     "data": {
      "text/plain": [
       "'w'"
      ]
     },
     "execution_count": 5,
     "metadata": {},
     "output_type": "execute_result"
    }
   ],
   "source": [
    "max('hello world')"
   ]
  },
  {
   "cell_type": "code",
   "execution_count": 8,
   "metadata": {},
   "outputs": [
    {
     "name": "stdout",
     "output_type": "stream",
     "text": [
      "0\n"
     ]
    }
   ],
   "source": [
    "print('abbzxyzxzxabb'.count('abb',-10,-1))"
   ]
  },
  {
   "cell_type": "code",
   "execution_count": null,
   "metadata": {},
   "outputs": [],
   "source": [
    "Decode is the method used to convert the raw byte data to a string."
   ]
  },
  {
   "cell_type": "markdown",
   "metadata": {},
   "source": [
    "# graphics in python is through turtle\n",
    "#This script creates a simple never stopping concentric polygon\n",
    "import turtle\n",
    "def draw(t, length, n):\n",
    "    if n == 0:\n",
    "        return\n",
    "    angle = 60\n",
    " \n",
    " \n",
    "    t.fd(length*n)\n",
    "    t.lt(angle)\n",
    "    draw(t, length, n-1)\n",
    "    t.rt(2*angle)\n",
    "    draw(t, length, n-1)\n",
    "    t.lt(angle)\n",
    "    t.bk(length*n)\n",
    " \n",
    "bob= turtle.Turtle()\n",
    "print (draw(bob, 1, 1/3))\n",
    "turtle.mainloop()"
   ]
  },
  {
   "cell_type": "code",
   "execution_count": 1,
   "metadata": {},
   "outputs": [],
   "source": [
    "#This script creates a three coloured cirlce. :p\n",
    "import turtle\n",
    " \n",
    "def shape():\n",
    " \n",
    "    window = turtle.Screen()\n",
    "    window.bgcolor(\"white\")\n",
    " \n",
    "    \n",
    " \n",
    "    asdf = turtle.Turtle()\n",
    "    asdf.shape(\"turtle\")\n",
    "    \n",
    "    asdf.speed(500)\n",
    "    for j in range(120):\n",
    "        asdf.color(\"blue\")\n",
    "        for i in range(4):\n",
    "            asdf.forward(100)\n",
    "            asdf.right(90)\n",
    "        asdf.right(1)\n",
    "    for j in range(120):\n",
    "        asdf.color(\"green\")\n",
    "        for i in range(4):\n",
    "            asdf.forward(100)\n",
    "            asdf.right(90)\n",
    "        asdf.right(1)\n",
    "    for j in range(120):\n",
    "        asdf.color(\"yellow\")\n",
    "        for i in range(4):\n",
    "            asdf.forward(100)\n",
    "            asdf.right(90)\n",
    "        asdf.right(1)\n",
    " \n",
    "    \n",
    "    window.exitonclick()\n",
    "shape()"
   ]
  },
  {
   "cell_type": "code",
   "execution_count": null,
   "metadata": {},
   "outputs": [],
   "source": [
    "76trombones = \"big parade\"\n",
    "SyntaxError: invalid syntax\n",
    ">>> more$ = 1000000\n",
    "SyntaxError: invalid syntax\n",
    ">>> class = \"Computer Science 101\"\n",
    "SyntaxError: invalid syntax"
   ]
  },
  {
   "cell_type": "code",
   "execution_count": null,
   "metadata": {},
   "outputs": [],
   "source": [
    "#Operators with the same precedence are evaluated from left to right. So in the expression minute*100/60"
   ]
  },
  {
   "cell_type": "code",
   "execution_count": 5,
   "metadata": {},
   "outputs": [
    {
     "name": "stdout",
     "output_type": "stream",
     "text": [
      "Enter a numerical expression: 2*6\n",
      "2*6\n"
     ]
    }
   ],
   "source": [
    "n = input(\"Enter a numerical expression: \")\n",
    "print(n)"
   ]
  },
  {
   "cell_type": "code",
   "execution_count": 14,
   "metadata": {},
   "outputs": [
    {
     "data": {
      "text/plain": [
       "4"
      ]
     },
     "execution_count": 14,
     "metadata": {},
     "output_type": "execute_result"
    }
   ],
   "source": [
    "x=2\n",
    "y=x+2\n",
    "#x+2=y wrong way .....left hand side should be a variable not an expression\n",
    "y"
   ]
  },
  {
   "cell_type": "code",
   "execution_count": 15,
   "metadata": {
    "scrolled": true
   },
   "outputs": [
    {
     "ename": "TypeError",
     "evalue": "'n' is an invalid keyword argument for print()",
     "output_type": "error",
     "traceback": [
      "\u001b[1;31m---------------------------------------------------------------------------\u001b[0m",
      "\u001b[1;31mTypeError\u001b[0m                                 Traceback (most recent call last)",
      "\u001b[1;32m<ipython-input-15-f9d02579fa78>\u001b[0m in \u001b[0;36m<module>\u001b[1;34m\u001b[0m\n\u001b[1;32m----> 1\u001b[1;33m \u001b[0mprint\u001b[0m\u001b[1;33m(\u001b[0m\u001b[0mn\u001b[0m\u001b[1;33m=\u001b[0m\u001b[1;36m7\u001b[0m\u001b[1;33m)\u001b[0m\u001b[1;33m\u001b[0m\u001b[1;33m\u001b[0m\u001b[0m\n\u001b[0m",
      "\u001b[1;31mTypeError\u001b[0m: 'n' is an invalid keyword argument for print()"
     ]
    }
   ],
   "source": [
    "print(n=7)"
   ]
  },
  {
   "cell_type": "code",
   "execution_count": 16,
   "metadata": {},
   "outputs": [
    {
     "name": "stdout",
     "output_type": "stream",
     "text": [
      "12\n"
     ]
    }
   ],
   "source": [
    "print (7 + 5)"
   ]
  },
  {
   "cell_type": "code",
   "execution_count": 18,
   "metadata": {},
   "outputs": [
    {
     "data": {
      "text/plain": [
       "0.0"
      ]
     },
     "execution_count": 18,
     "metadata": {},
     "output_type": "execute_result"
    }
   ],
   "source": [
    "#The closest a nonzero number can be to zero is approximately 5.0 ⨉ 10-324. \n",
    "#Anything closer to zero than that is effectively zero:\n",
    "\n",
    "1e-325"
   ]
  },
  {
   "cell_type": "code",
   "execution_count": null,
   "metadata": {},
   "outputs": [],
   "source": [
    ">>> print('foo\\nbar')\n",
    "foo\n",
    "bar\n",
    "\n",
    "\n",
    ">>> print(r'foo\\nbar')\n",
    "foo\\nbar\n",
    "\n",
    "\n",
    ">>> print('foo\\\\bar')\n",
    "foo\\bar\n",
    "\n",
    "\n",
    ">>> print(R'foo\\\\bar')\n",
    "foo\\\\bar"
   ]
  },
  {
   "cell_type": "code",
   "execution_count": null,
   "metadata": {},
   "outputs": [],
   "source": [
    "https://realpython.com/python-data-types/#integers"
   ]
  },
  {
   "cell_type": "markdown",
   "metadata": {},
   "source": [
    "# python built in functions  (68 or 63)"
   ]
  },
  {
   "cell_type": "code",
   "execution_count": 1,
   "metadata": {},
   "outputs": [
    {
     "name": "stdout",
     "output_type": "stream",
     "text": [
      "Absolute value or Magnitude of complex is: 5.0\n"
     ]
    }
   ],
   "source": [
    "complex = (3 - 4j) \n",
    "print('Absolute value or Magnitude of complex is:', abs(complex)) "
   ]
  },
  {
   "cell_type": "code",
   "execution_count": null,
   "metadata": {},
   "outputs": [],
   "source": [
    "max() #returns max value\n",
    "min() #return minimum value"
   ]
  },
  {
   "cell_type": "code",
   "execution_count": 2,
   "metadata": {},
   "outputs": [
    {
     "data": {
      "text/plain": [
       "5.0"
      ]
     },
     "execution_count": 2,
     "metadata": {},
     "output_type": "execute_result"
    }
   ],
   "source": [
    "abs(4-3j)"
   ]
  },
  {
   "cell_type": "code",
   "execution_count": 4,
   "metadata": {},
   "outputs": [
    {
     "data": {
      "text/plain": [
       "(2, 0)"
      ]
     },
     "execution_count": 4,
     "metadata": {},
     "output_type": "execute_result"
    }
   ],
   "source": [
    "divmod(8,4)"
   ]
  },
  {
   "cell_type": "code",
   "execution_count": 6,
   "metadata": {},
   "outputs": [
    {
     "data": {
      "text/plain": [
       "9"
      ]
     },
     "execution_count": 6,
     "metadata": {},
     "output_type": "execute_result"
    }
   ],
   "source": [
    "pow(3,2) #3**2"
   ]
  },
  {
   "cell_type": "code",
   "execution_count": null,
   "metadata": {},
   "outputs": [],
   "source": [
    "# for integers\n",
    "print(round(10))\n",
    "\n",
    "# for floating point\n",
    "print(round(10.7))\n",
    "\n",
    "# even choice\n",
    "print(round(5.5))"
   ]
  },
  {
   "cell_type": "code",
   "execution_count": 8,
   "metadata": {},
   "outputs": [
    {
     "name": "stdout",
     "output_type": "stream",
     "text": [
      "4.5\n",
      "14.5\n"
     ]
    }
   ],
   "source": [
    "numbers = [2.5, 3, 4, -5]\n",
    "\n",
    "# start parameter is not provided\n",
    "numbersSum = sum(numbers)\n",
    "print(numbersSum)\n",
    "\n",
    "# start = 10\n",
    "numbersSum = sum(numbers, 10)\n",
    "print(numbersSum)"
   ]
  },
  {
   "cell_type": "code",
   "execution_count": 9,
   "metadata": {},
   "outputs": [
    {
     "name": "stdout",
     "output_type": "stream",
     "text": [
      "'Python is interesting'\n",
      "'Pyth\\xf6n is interesting'\n",
      "Pythön is interesting\n"
     ]
    }
   ],
   "source": [
    "normalText = 'Python is interesting'\n",
    "print(ascii(normalText))\n",
    "\n",
    "otherText = 'Pythön is interesting'\n",
    "print(ascii(otherText))\n",
    "\n",
    "print('Pyth\\xf6n is interesting')"
   ]
  },
  {
   "cell_type": "code",
   "execution_count": 10,
   "metadata": {},
   "outputs": [
    {
     "name": "stdout",
     "output_type": "stream",
     "text": [
      "The binary equivalent of 5 is: 0b101\n"
     ]
    }
   ],
   "source": [
    "number = 5\n",
    "print('The binary equivalent of 5 is:', bin(number))"
   ]
  },
  {
   "cell_type": "code",
   "execution_count": 11,
   "metadata": {},
   "outputs": [
    {
     "name": "stdout",
     "output_type": "stream",
     "text": [
      "[] is False\n",
      "[0] is True\n",
      "0.0 is False\n",
      "None is False\n",
      "True is True\n",
      "Easy string is True\n"
     ]
    }
   ],
   "source": [
    "test = []\n",
    "print(test,'is',bool(test))\n",
    "\n",
    "test = [0]\n",
    "print(test,'is',bool(test))\n",
    "\n",
    "test = 0.0\n",
    "print(test,'is',bool(test))\n",
    "\n",
    "test = None\n",
    "print(test,'is',bool(test))\n",
    "\n",
    "test = True\n",
    "print(test,'is',bool(test))\n",
    "\n",
    "test = 'Easy string'\n",
    "print(test,'is',bool(test))"
   ]
  },
  {
   "cell_type": "code",
   "execution_count": 12,
   "metadata": {},
   "outputs": [
    {
     "name": "stdout",
     "output_type": "stream",
     "text": [
      "a\n",
      "A\n",
      "Ұ\n"
     ]
    }
   ],
   "source": [
    "print(chr(97))\n",
    "print(chr(65))\n",
    "print(chr(1200))"
   ]
  },
  {
   "cell_type": "code",
   "execution_count": 13,
   "metadata": {},
   "outputs": [
    {
     "ename": "TypeError",
     "evalue": "'complex' object is not callable",
     "output_type": "error",
     "traceback": [
      "\u001b[1;31m---------------------------------------------------------------------------\u001b[0m",
      "\u001b[1;31mTypeError\u001b[0m                                 Traceback (most recent call last)",
      "\u001b[1;32m<ipython-input-13-7891a86088de>\u001b[0m in \u001b[0;36m<module>\u001b[1;34m\u001b[0m\n\u001b[1;32m----> 1\u001b[1;33m \u001b[0mz\u001b[0m \u001b[1;33m=\u001b[0m \u001b[0mcomplex\u001b[0m\u001b[1;33m(\u001b[0m\u001b[1;36m2\u001b[0m\u001b[1;33m,\u001b[0m \u001b[1;33m-\u001b[0m\u001b[1;36m3\u001b[0m\u001b[1;33m)\u001b[0m\u001b[1;33m\u001b[0m\u001b[1;33m\u001b[0m\u001b[0m\n\u001b[0m\u001b[0;32m      2\u001b[0m \u001b[0mprint\u001b[0m\u001b[1;33m(\u001b[0m\u001b[0mz\u001b[0m\u001b[1;33m)\u001b[0m\u001b[1;33m\u001b[0m\u001b[1;33m\u001b[0m\u001b[0m\n\u001b[0;32m      3\u001b[0m \u001b[1;33m\u001b[0m\u001b[0m\n\u001b[0;32m      4\u001b[0m \u001b[0mz\u001b[0m \u001b[1;33m=\u001b[0m \u001b[0mcomplex\u001b[0m\u001b[1;33m(\u001b[0m\u001b[1;36m1\u001b[0m\u001b[1;33m)\u001b[0m\u001b[1;33m\u001b[0m\u001b[1;33m\u001b[0m\u001b[0m\n\u001b[0;32m      5\u001b[0m \u001b[0mprint\u001b[0m\u001b[1;33m(\u001b[0m\u001b[0mz\u001b[0m\u001b[1;33m)\u001b[0m\u001b[1;33m\u001b[0m\u001b[1;33m\u001b[0m\u001b[0m\n",
      "\u001b[1;31mTypeError\u001b[0m: 'complex' object is not callable"
     ]
    }
   ],
   "source": [
    "z = complex(2, -3)\n",
    "print(z)\n",
    "\n",
    "z = complex(1)\n",
    "print(z)\n",
    "\n",
    "z = complex()\n",
    "print(z)\n",
    "\n",
    "z = complex('5-9j')\n",
    "print(z)"
   ]
  },
  {
   "cell_type": "code",
   "execution_count": 14,
   "metadata": {},
   "outputs": [
    {
     "name": "stdout",
     "output_type": "stream",
     "text": [
      "10.0\n",
      "11.22\n",
      "-13.33\n",
      "-24.45\n"
     ]
    },
    {
     "ename": "ValueError",
     "evalue": "could not convert string to float: 'abc'",
     "output_type": "error",
     "traceback": [
      "\u001b[1;31m---------------------------------------------------------------------------\u001b[0m",
      "\u001b[1;31mValueError\u001b[0m                                Traceback (most recent call last)",
      "\u001b[1;32m<ipython-input-14-2ec7c0530669>\u001b[0m in \u001b[0;36m<module>\u001b[1;34m\u001b[0m\n\u001b[0;32m     12\u001b[0m \u001b[1;33m\u001b[0m\u001b[0m\n\u001b[0;32m     13\u001b[0m \u001b[1;31m# string float error\u001b[0m\u001b[1;33m\u001b[0m\u001b[1;33m\u001b[0m\u001b[1;33m\u001b[0m\u001b[0m\n\u001b[1;32m---> 14\u001b[1;33m \u001b[0mprint\u001b[0m\u001b[1;33m(\u001b[0m\u001b[0mfloat\u001b[0m\u001b[1;33m(\u001b[0m\u001b[1;34m\"abc\"\u001b[0m\u001b[1;33m)\u001b[0m\u001b[1;33m)\u001b[0m\u001b[1;33m\u001b[0m\u001b[1;33m\u001b[0m\u001b[0m\n\u001b[0m",
      "\u001b[1;31mValueError\u001b[0m: could not convert string to float: 'abc'"
     ]
    }
   ],
   "source": [
    "# for integers\n",
    "print(float(10))\n",
    "\n",
    "# for floats\n",
    "print(float(11.22))\n",
    "\n",
    "# for string floats\n",
    "print(float(\"-13.33\"))\n",
    "\n",
    "# for string floats with whitespaces\n",
    "print(float(\"     -24.45\\n\"))\n",
    "\n",
    "# string float error\n",
    "print(float(\"abc\"))"
   ]
  },
  {
   "cell_type": "code",
   "execution_count": 16,
   "metadata": {},
   "outputs": [
    {
     "data": {
      "text/plain": [
       "'0x10'"
      ]
     },
     "execution_count": 16,
     "metadata": {},
     "output_type": "execute_result"
    }
   ],
   "source": [
    "hex(16)"
   ]
  },
  {
   "cell_type": "code",
   "execution_count": 17,
   "metadata": {},
   "outputs": [
    {
     "name": "stdout",
     "output_type": "stream",
     "text": [
      "int(123) is: 123\n",
      "int(123.23) is: 123\n",
      "int('123') is: 123\n"
     ]
    }
   ],
   "source": [
    "# integer\n",
    "print(\"int(123) is:\", int(123))\n",
    "\n",
    "# float\n",
    "print(\"int(123.23) is:\", int(123.23))\n",
    "\n",
    "# string\n",
    "print(\"int('123') is:\", int('123'))"
   ]
  },
  {
   "cell_type": "code",
   "execution_count": 19,
   "metadata": {},
   "outputs": [
    {
     "data": {
      "text/plain": [
       "97"
      ]
     },
     "execution_count": 19,
     "metadata": {},
     "output_type": "execute_result"
    }
   ],
   "source": [
    "ord(\"a\")"
   ]
  },
  {
   "cell_type": "code",
   "execution_count": 20,
   "metadata": {},
   "outputs": [
    {
     "data": {
      "text/plain": [
       "\"'foo'\""
      ]
     },
     "execution_count": 20,
     "metadata": {},
     "output_type": "execute_result"
    }
   ],
   "source": [
    "var = 'foo'\n",
    "\n",
    "repr(var)"
   ]
  },
  {
   "cell_type": "code",
   "execution_count": 23,
   "metadata": {},
   "outputs": [
    {
     "data": {
      "text/plain": [
       "'1'"
      ]
     },
     "execution_count": 23,
     "metadata": {},
     "output_type": "execute_result"
    }
   ],
   "source": [
    "var=1\n",
    "repr(var) #it returns the printable form"
   ]
  },
  {
   "cell_type": "code",
   "execution_count": 28,
   "metadata": {},
   "outputs": [
    {
     "data": {
      "text/plain": [
       "'1.2'"
      ]
     },
     "execution_count": 28,
     "metadata": {},
     "output_type": "execute_result"
    }
   ],
   "source": [
    "str(1.2)"
   ]
  },
  {
   "cell_type": "code",
   "execution_count": 29,
   "metadata": {},
   "outputs": [
    {
     "data": {
      "text/plain": [
       "'1.2'"
      ]
     },
     "execution_count": 29,
     "metadata": {},
     "output_type": "execute_result"
    }
   ],
   "source": [
    "str('1.2')"
   ]
  },
  {
   "cell_type": "code",
   "execution_count": 31,
   "metadata": {},
   "outputs": [
    {
     "data": {
      "text/plain": [
       "'nimo'"
      ]
     },
     "execution_count": 31,
     "metadata": {},
     "output_type": "execute_result"
    }
   ],
   "source": [
    "str('nimo')"
   ]
  },
  {
   "cell_type": "code",
   "execution_count": 32,
   "metadata": {},
   "outputs": [
    {
     "name": "stdout",
     "output_type": "stream",
     "text": [
      "<class 'list'>\n",
      "<class 'dict'>\n"
     ]
    }
   ],
   "source": [
    "numberList = [1, 2]\n",
    "print(type(numberList))\n",
    "\n",
    "numberDict = {1: 'one', 2: 'two'}\n",
    "print(type(numberDict))"
   ]
  },
  {
   "cell_type": "code",
   "execution_count": 35,
   "metadata": {},
   "outputs": [
    {
     "name": "stdout",
     "output_type": "stream",
     "text": [
      "True\n",
      "False\n",
      "False\n",
      "False\n",
      "True\n"
     ]
    }
   ],
   "source": [
    "# all values true\n",
    "l = [1, 3, 4, 5]\n",
    "print(all(l))\n",
    "\n",
    "# all values false\n",
    "l = [0, False]\n",
    "print(all(l))\n",
    "\n",
    "# one false value\n",
    "l = [1, 3, 4, 0]\n",
    "print(all(l))\n",
    "\n",
    "# one true value\n",
    "l = [0, False, 5]\n",
    "print(all(l))\n",
    "\n",
    "# empty iterable\n",
    "l = []\n",
    "print(all(l))     #return true if all are true"
   ]
  },
  {
   "cell_type": "code",
   "execution_count": 38,
   "metadata": {},
   "outputs": [
    {
     "name": "stdout",
     "output_type": "stream",
     "text": [
      "True\n",
      "False\n",
      "True\n",
      "False\n"
     ]
    }
   ],
   "source": [
    "l = [1, 3, 4, 0]\n",
    "print(any(l))\n",
    "\n",
    "l = [0, False]\n",
    "print(any(l))\n",
    "\n",
    "l = [0, False, 5]\n",
    "print(any(l))\n",
    "\n",
    "l = []\n",
    "print(any(l))       #return true if any one is true"
   ]
  },
  {
   "cell_type": "code",
   "execution_count": 41,
   "metadata": {},
   "outputs": [
    {
     "name": "stdout",
     "output_type": "stream",
     "text": [
      "True\n",
      "False\n",
      "False\n"
     ]
    }
   ],
   "source": [
    "l=[]\n",
    "print(all(l))\n",
    "print(bool(l))\n",
    "print(any(l))"
   ]
  },
  {
   "cell_type": "code",
   "execution_count": 44,
   "metadata": {},
   "outputs": [
    {
     "data": {
      "text/plain": [
       "[(0, 'bread'), (1, 'milk'), (2, 'butter')]"
      ]
     },
     "execution_count": 44,
     "metadata": {},
     "output_type": "execute_result"
    }
   ],
   "source": [
    "grocery = ['bread', 'milk', 'butter']\n",
    "list(enumerate(grocery))"
   ]
  },
  {
   "cell_type": "code",
   "execution_count": 45,
   "metadata": {},
   "outputs": [
    {
     "data": {
      "text/plain": [
       "[(5, 'bread'), (6, 'milk'), (7, 'butter')]"
      ]
     },
     "execution_count": 45,
     "metadata": {},
     "output_type": "execute_result"
    }
   ],
   "source": [
    "list(enumerate(grocery,5))"
   ]
  },
  {
   "cell_type": "code",
   "execution_count": 50,
   "metadata": {},
   "outputs": [
    {
     "name": "stdout",
     "output_type": "stream",
     "text": [
      "[1, 'a', True, '0']\n"
     ]
    }
   ],
   "source": [
    "randomList = [1, 'a', 0, False, True, '0']\n",
    "n=filter(None,randomList)\n",
    "print(list(n))"
   ]
  },
  {
   "cell_type": "code",
   "execution_count": 3,
   "metadata": {},
   "outputs": [
    {
     "data": {
      "text/plain": [
       "[2, 4, 6, 8, 10]"
      ]
     },
     "execution_count": 3,
     "metadata": {},
     "output_type": "execute_result"
    }
   ],
   "source": [
    "l=[1,2,3,4,5,6,7,8,9,10]\n",
    "even=list(filter(lambda i:i%2==0,l))\n",
    "even"
   ]
  },
  {
   "cell_type": "code",
   "execution_count": 13,
   "metadata": {},
   "outputs": [
    {
     "name": "stdout",
     "output_type": "stream",
     "text": [
      "[1, 2, 3, 4, 5, 6, 7, 8, 9, 10]\n"
     ]
    }
   ],
   "source": [
    "l=[1,2,3,4,5,6,7,8,9,10]\n",
    "print((l))"
   ]
  },
  {
   "cell_type": "code",
   "execution_count": 14,
   "metadata": {},
   "outputs": [
    {
     "name": "stdout",
     "output_type": "stream",
     "text": [
      "The list is of type : <class 'list'>\n",
      "The list is of type : <class 'list_iterator'>\n",
      "<list_iterator object at 0x000002C730028C50>\n"
     ]
    }
   ],
   "source": [
    "l=[1,2,3,4,5,6,7,8,9,10]\n",
    "str(type(l))\n",
    "print (\"The list is of type : \" + str(type(l)))\n",
    "l=iter(l)\n",
    "print (\"The list is of type : \" + str(type(l)))\n",
    "print((l))"
   ]
  },
  {
   "cell_type": "code",
   "execution_count": 27,
   "metadata": {},
   "outputs": [
    {
     "name": "stdout",
     "output_type": "stream",
     "text": [
      "The list is of type : <class 'list'>\n",
      "The list is of type : <class 'list_iterator'>\n",
      "1\n",
      "2\n",
      "3\n",
      "4\n",
      "5\n",
      "6\n",
      "7\n",
      "8\n",
      "9\n",
      "10\n"
     ]
    }
   ],
   "source": [
    "l1=[1,2,3,4,5,6,7,8,9,10]\n",
    "str(type(l1))\n",
    "print (\"The list is of type : \" + str(type(l1)))\n",
    "l1=iter(l1)\n",
    "print (\"The list is of type : \" + str(type(l1)))\n",
    "for i in range(0,10):\n",
    "    print(next(l1))\n"
   ]
  },
  {
   "cell_type": "code",
   "execution_count": 30,
   "metadata": {},
   "outputs": [
    {
     "data": {
      "text/plain": [
       "[False, True, False, True, False, True, False, True, False, True]"
      ]
     },
     "execution_count": 30,
     "metadata": {},
     "output_type": "execute_result"
    }
   ],
   "source": [
    "l=[1,2,3,4,5,6,7,8,9,10]\n",
    "even=list(map(lambda i:i%2==0,l))\n",
    "even"
   ]
  },
  {
   "cell_type": "code",
   "execution_count": 2,
   "metadata": {},
   "outputs": [
    {
     "name": "stdout",
     "output_type": "stream",
     "text": [
      "[1, 2, 3, 4]\n",
      "[2, 4]\n",
      "[1, 2, 3, 4]\n",
      "[2, 4, 6, 8]\n"
     ]
    }
   ],
   "source": [
    "#def f(x): return x % 2 == 0\n",
    "#def m(y): return y * 2\n",
    "\n",
    "l = [1,2,3,4]\n",
    "\n",
    "flist =filter(lambda x:x % 2 == 0, l)\n",
    "print(l)\n",
    "print(list(flist))\n",
    "\n",
    "mlist =map(lambda y:y*2, l)\n",
    "print(l)\n",
    "print(list(mlist))"
   ]
  },
  {
   "cell_type": "code",
   "execution_count": 13,
   "metadata": {},
   "outputs": [
    {
     "name": "stdout",
     "output_type": "stream",
     "text": [
      "[1, 2, 3, 4]\n",
      "[False, True, False, True]\n",
      "[1, 2, 3, 4]\n",
      "[1, 2, 3, 4]\n"
     ]
    }
   ],
   "source": [
    "def f(x): return x % 2 == 0\n",
    "def m(y): return y * 2\n",
    "\n",
    "l = [1,2,3,4]\n",
    "\n",
    "mlist =map(f, l)\n",
    "print(l)\n",
    "print(list(mlist))\n",
    "\n",
    "flist =filter(m, l)   #filetr condition ko dekh kr true wali values ko print krta hai original iterator ki\n",
    "print(l)              #map ko agr = ya != wali condition di jaye gi to true false mein o/p dega otherwise operation perform kr k us operation se aney wla anser print karey ga\n",
    "print(list(flist))\n",
    "#map(lambda y:y*2!=0,l)     then the o/p will be:[True, True, True, True]"
   ]
  },
  {
   "cell_type": "code",
   "execution_count": 16,
   "metadata": {},
   "outputs": [
    {
     "name": "stdout",
     "output_type": "stream",
     "text": [
      "['n', 'o', 'h', 't', 'y', 'P']\n",
      "['n', 'o', 'h', 't', 'y', 'P']\n",
      "[8, 7, 6, 5]\n",
      "[5, 3, 4, 2, 1]\n"
     ]
    }
   ],
   "source": [
    "# for string\n",
    "seqString = 'Python'\n",
    "print(list(reversed(seqString)))\n",
    "\n",
    "# for tuple\n",
    "seqTuple = ('P', 'y', 't', 'h', 'o', 'n')\n",
    "print(list(reversed(seqTuple)))\n",
    "\n",
    "# for range\n",
    "seqRange = range(5, 9)\n",
    "print(list(reversed(seqRange)))\n",
    "\n",
    "# for list\n",
    "seqList = [1, 2, 4, 3, 5]\n",
    "print(list(reversed(seqList)))\n"
   ]
  },
  {
   "cell_type": "code",
   "execution_count": 31,
   "metadata": {},
   "outputs": [
    {
     "name": "stdout",
     "output_type": "stream",
     "text": [
      "nma\n"
     ]
    },
    {
     "data": {
      "text/plain": [
       "'nma'"
      ]
     },
     "execution_count": 31,
     "metadata": {},
     "output_type": "execute_result"
    }
   ],
   "source": [
    "name='nimrah'\n",
    "n=slice(0,6,2)\n",
    "print(name[n])\n",
    "name[slice(0,6,2)]"
   ]
  },
  {
   "cell_type": "code",
   "execution_count": 19,
   "metadata": {},
   "outputs": [
    {
     "name": "stdout",
     "output_type": "stream",
     "text": [
      "('a', 'd', 'g')\n",
      "slice(0, 8, 3)\n"
     ]
    }
   ],
   "source": [
    "a = (\"a\", \"b\", \"c\", \"d\", \"e\", \"f\", \"g\", \"h\")\n",
    "x = slice(0, 8, 3)\n",
    "print(a[x])\n",
    "print(x)"
   ]
  },
  {
   "cell_type": "code",
   "execution_count": 1,
   "metadata": {},
   "outputs": [
    {
     "name": "stdout",
     "output_type": "stream",
     "text": [
      "Help on built-in function sorted in module builtins:\n",
      "\n",
      "sorted(iterable, /, *, key=None, reverse=False)\n",
      "    Return a new list containing all items from the iterable in ascending order.\n",
      "    \n",
      "    A custom key function can be supplied to customize the sort order, and the\n",
      "    reverse flag can be set to request the result in descending order.\n",
      "\n"
     ]
    }
   ],
   "source": [
    "help(sorted)"
   ]
  },
  {
   "cell_type": "code",
   "execution_count": 1,
   "metadata": {},
   "outputs": [
    {
     "data": {
      "text/plain": [
       "[' ', ' ', ' ', 'e', 'i', 'i', 'k', 'l', 'o', 'o', 'r', 's', 't', 't']"
      ]
     },
     "execution_count": 1,
     "metadata": {},
     "output_type": "execute_result"
    }
   ],
   "source": [
    " string_number_value = '34521'\n",
    ">>> string_value = 'i like to sort'\n",
    ">>> sorted_string_number = sorted(string_number_value)\n",
    ">>> sorted_string = sorted(string_value)\n",
    ">>> sorted_string_number\n",
    ">>> sorted_string\n",
    "#string_value.split()\n",
    "#''.join(string_value)"
   ]
  },
  {
   "cell_type": "code",
   "execution_count": 10,
   "metadata": {},
   "outputs": [
    {
     "ename": "TypeError",
     "evalue": "'<' not supported between instances of 'str' and 'int'",
     "output_type": "error",
     "traceback": [
      "\u001b[1;31m---------------------------------------------------------------------------\u001b[0m",
      "\u001b[1;31mTypeError\u001b[0m                                 Traceback (most recent call last)",
      "\u001b[1;32m<ipython-input-10-752c8a771d95>\u001b[0m in \u001b[0;36m<module>\u001b[1;34m\u001b[0m\n\u001b[0;32m      1\u001b[0m \u001b[0mmixed_numbers\u001b[0m \u001b[1;33m=\u001b[0m \u001b[1;33m[\u001b[0m\u001b[1;36m5\u001b[0m\u001b[1;33m,\u001b[0m \u001b[1;34m\"1\"\u001b[0m\u001b[1;33m,\u001b[0m \u001b[1;36m100\u001b[0m\u001b[1;33m,\u001b[0m \u001b[1;34m\"34\"\u001b[0m\u001b[1;33m]\u001b[0m\u001b[1;33m\u001b[0m\u001b[1;33m\u001b[0m\u001b[0m\n\u001b[1;32m----> 2\u001b[1;33m \u001b[0msorted\u001b[0m\u001b[1;33m(\u001b[0m\u001b[0mmixed_numbers\u001b[0m\u001b[1;33m)\u001b[0m\u001b[1;33m\u001b[0m\u001b[1;33m\u001b[0m\u001b[0m\n\u001b[0m\u001b[0;32m      3\u001b[0m \u001b[1;31m#Traceback (most recent call last):\u001b[0m\u001b[1;33m\u001b[0m\u001b[1;33m\u001b[0m\u001b[1;33m\u001b[0m\u001b[0m\n\u001b[0;32m      4\u001b[0m  \u001b[1;31m# File \"<stdin>\", line 1, in <module>\u001b[0m\u001b[1;33m\u001b[0m\u001b[1;33m\u001b[0m\u001b[1;33m\u001b[0m\u001b[0m\n\u001b[0;32m      5\u001b[0m \u001b[1;31m#TypeError: '<' not supported between instances of 'str' and 'int'\u001b[0m\u001b[1;33m\u001b[0m\u001b[1;33m\u001b[0m\u001b[1;33m\u001b[0m\u001b[0m\n",
      "\u001b[1;31mTypeError\u001b[0m: '<' not supported between instances of 'str' and 'int'"
     ]
    }
   ],
   "source": [
    ">>> mixed_numbers = [5, \"1\", 100, \"34\"]\n",
    ">>> sorted(mixed_numbers)\n",
    "#Traceback (most recent call last):\n",
    " # File \"<stdin>\", line 1, in <module>\n",
    "#TypeError: '<' not supported between instances of 'str' and 'int'\n",
    ">>> # List comprehension to convert all values to integers\n",
    ">>> [int(x) for x in mixed_numbers]\n",
    "#[5, 1, 100, 34]\n",
    ">>> sorted([int(x) for x in mixed_numbers])\n",
    "#[1, 5, 34, 100]"
   ]
  },
  {
   "cell_type": "code",
   "execution_count": 17,
   "metadata": {},
   "outputs": [
    {
     "data": {
      "text/plain": [
       "'nma'"
      ]
     },
     "execution_count": 17,
     "metadata": {},
     "output_type": "execute_result"
    }
   ],
   "source": [
    "def rev(x):\n",
    "    return  x[::2]\n",
    "n='nimrah'\n",
    "rev(n)"
   ]
  },
  {
   "cell_type": "code",
   "execution_count": 18,
   "metadata": {},
   "outputs": [
    {
     "data": {
      "text/plain": [
       "'harmin'"
      ]
     },
     "execution_count": 18,
     "metadata": {},
     "output_type": "execute_result"
    }
   ],
   "source": [
    "def rev(x):\n",
    "    return  x[::-1]\n",
    "n='nimrah'\n",
    "rev(n)"
   ]
  },
  {
   "cell_type": "code",
   "execution_count": null,
   "metadata": {},
   "outputs": [],
   "source": [
    "#.sort() sirf list k liye kam krta hai r ye return kuch nhi krta blkey origionllist mein hi changing krta hai\n",
    "#r sorted funthon python ka built in function hai r ye return krta hai iterator ko sort kr k list ki form mein .ye origional list ko change nhi krta "
   ]
  },
  {
   "cell_type": "code",
   "execution_count": 8,
   "metadata": {},
   "outputs": [
    {
     "name": "stdout",
     "output_type": "stream",
     "text": [
      "<zip object at 0x000002BD2E50FF48>\n",
      "(('John', 'Jenny'), ('Charles', 'Christy'), ('Mike', 'Monica'))\n",
      "[]\n"
     ]
    }
   ],
   "source": [
    "a = (\"John\", \"Charles\", \"Mike\")\n",
    "b = (\"Jenny\", \"Christy\", \"Monica\")\n",
    "\n",
    "x = zip(a, b)\n",
    "\n",
    "#use the tuple() function to display a readable version of the result:\n",
    "print(x)\n",
    "\n",
    "print(tuple(x))\n",
    "print(list(x))\n"
   ]
  },
  {
   "cell_type": "code",
   "execution_count": 12,
   "metadata": {},
   "outputs": [
    {
     "name": "stdout",
     "output_type": "stream",
     "text": [
      "(('John', 'Jenny'), ('Charles', 'Christy'), ('Mike', 'Monica'))\n",
      "(('Jenny', 'John'), ('Christy', 'Charles'), ('Monica', 'Mike'))\n"
     ]
    }
   ],
   "source": [
    "a = (\"John\", \"Charles\", \"Mike\")\n",
    "b = (\"Jenny\", \"Christy\", \"Monica\", \"Vicky\")\n",
    "\n",
    "x = zip(a, b)\n",
    "y=zip(b,a)\n",
    "\n",
    "#use the tuple() function to display a readable version of the result:\n",
    "print(tuple(x))\n",
    "print(tuple(y))\n"
   ]
  },
  {
   "cell_type": "code",
   "execution_count": 4,
   "metadata": {},
   "outputs": [
    {
     "name": "stdout",
     "output_type": "stream",
     "text": [
      "{(2, 'two'), (3, 'three'), (1, 'one')}\n"
     ]
    }
   ],
   "source": [
    "numberList = [1, 2, 3]\n",
    "strList = ['one', 'two', 'three']\n",
    "\n",
    "# No iterables are passed\n",
    "#result = zip()\n",
    "\n",
    "# Converting itertor to list\n",
    "#resultList = list(result)\n",
    "#print(resultList)\n",
    "\n",
    "# Two iterables are passed\n",
    "result = zip(numberList, strList)\n",
    "\n",
    "# Converting itertor to set\n",
    "resultSet = set(result)\n",
    "print(resultSet)"
   ]
  },
  {
   "cell_type": "code",
   "execution_count": 5,
   "metadata": {},
   "outputs": [
    {
     "name": "stdout",
     "output_type": "stream",
     "text": [
      "{(1, 'one', 'ONE'), (2, 'two', 'TWO')}\n"
     ]
    }
   ],
   "source": [
    "numbersList = [1, 2, 3]\n",
    "strList = ['one', 'two']\n",
    "numbersTuple = ('ONE', 'TWO', 'THREE', 'FOUR')\n",
    "\n",
    "#result = zip(numbersList, numbersTuple)\n",
    "\n",
    "# Converting to set\n",
    "#resultSet = set(result)\n",
    "#print(resultSet)\n",
    "\n",
    "result = zip(numbersList, strList, numbersTuple)\n",
    "\n",
    "# Converting to set\n",
    "resultSet = set(result)\n",
    "print(resultSet)"
   ]
  },
  {
   "cell_type": "code",
   "execution_count": 27,
   "metadata": {},
   "outputs": [
    {
     "name": "stdout",
     "output_type": "stream",
     "text": [
      "bytearray(b'\\xff\\xfeP\\x00y\\x00t\\x00h\\x00o\\x00n\\x00 \\x00i\\x00s\\x00 \\x00 \\x00i\\x00n\\x00t\\x00e\\x00r\\x00e\\x00s\\x00t\\x00i\\x00n\\x00g\\x00.\\x00')\n",
      "bytearray(b'Python is  interesting.')\n"
     ]
    }
   ],
   "source": [
    "string = \"Python is  interesting.\"\n",
    "\n",
    "# string with encoding 'utf-8'\n",
    "arr = bytearray(string, 'utf-16')\n",
    "print(arr)\n",
    "arr2=bytearray(string,'utf-8')\n",
    "print(arr2)"
   ]
  },
  {
   "cell_type": "code",
   "execution_count": 20,
   "metadata": {},
   "outputs": [
    {
     "name": "stdout",
     "output_type": "stream",
     "text": [
      "bytearray(b'\\x00\\x00\\x00\\x00\\x00')\n"
     ]
    }
   ],
   "source": [
    "size = 5\n",
    "\n",
    "arr = bytearray(size)\n",
    "print(arr)"
   ]
  },
  {
   "cell_type": "code",
   "execution_count": 21,
   "metadata": {},
   "outputs": [
    {
     "name": "stdout",
     "output_type": "stream",
     "text": [
      "b'\\x00\\x00\\x00\\x00\\x00'\n"
     ]
    }
   ],
   "source": [
    "size = 5\n",
    "\n",
    "arr = bytes(size)\n",
    "print(arr)"
   ]
  },
  {
   "cell_type": "code",
   "execution_count": 1,
   "metadata": {},
   "outputs": [
    {
     "name": "stdout",
     "output_type": "stream",
     "text": [
      "The frozen set is: frozenset({'name', 'age', 'sex'})\n"
     ]
    }
   ],
   "source": [
    "# random dictionary\n",
    "person = {\"name\": \"John\", \"age\": 23, \"sex\": \"male\"}\n",
    "\n",
    "fSet = frozenset(person)\n",
    "print('The frozen set is:', fSet)   #frozenset is immutable"
   ]
  },
  {
   "cell_type": "code",
   "execution_count": 2,
   "metadata": {},
   "outputs": [
    {
     "name": "stdout",
     "output_type": "stream",
     "text": [
      "['__class__', '__delattr__', '__dir__', '__doc__', '__eq__', '__format__', '__ge__', '__getattribute__', '__gt__', '__hash__', '__init__', '__init_subclass__', '__le__', '__lt__', '__ne__', '__new__', '__reduce__', '__reduce_ex__', '__repr__', '__setattr__', '__sizeof__', '__str__', '__subclasshook__']\n"
     ]
    }
   ],
   "source": [
    "x = object()\n",
    "\n",
    "print(dir(x))"
   ]
  },
  {
   "cell_type": "code",
   "execution_count": 3,
   "metadata": {},
   "outputs": [
    {
     "name": "stdout",
     "output_type": "stream",
     "text": [
      "set()\n",
      "{'y', 'n', 'P', 'h', 'o', 't'}\n",
      "{'a', 'i', 'e', 'o', 'u'}\n",
      "{'a', 'i', 'e', 'o', 'u'}\n",
      "{0, 1, 2, 3, 4}\n"
     ]
    }
   ],
   "source": [
    "# empty set\n",
    "print(set())\n",
    "\n",
    "# from string\n",
    "print(set('Python'))\n",
    "\n",
    "# from tuple\n",
    "print(set(('a', 'e', 'i', 'o', 'u')))\n",
    "\n",
    "# from list\n",
    "print(set(['a', 'e', 'i', 'o', 'u']))\n",
    "\n",
    "# from range\n",
    "print(set(range(5)))"
   ]
  },
  {
   "cell_type": "code",
   "execution_count": 4,
   "metadata": {},
   "outputs": [
    {
     "name": "stdout",
     "output_type": "stream",
     "text": [
      "123\n",
      "123.456790\n",
      "1100\n"
     ]
    }
   ],
   "source": [
    "# d, f and b are type\n",
    "\n",
    "# integer\n",
    "print(format(123, \"d\"))\n",
    "\n",
    "# float arguments\n",
    "print(format(123.4567898, \"f\"))\n",
    "\n",
    "# binary format\n",
    "print(format(12, \"b\"))"
   ]
  },
  {
   "cell_type": "code",
   "execution_count": 5,
   "metadata": {},
   "outputs": [
    {
     "name": "stdout",
     "output_type": "stream",
     "text": [
      "*+1,234\n",
      "0123.4570\n"
     ]
    }
   ],
   "source": [
    "# integer \n",
    "print(format(1234, \"*>+7,d\"))\n",
    "\n",
    "# float number\n",
    "print(format(123.4567, \"^-09.3f\"))\n"
   ]
  },
  {
   "cell_type": "code",
   "execution_count": 6,
   "metadata": {},
   "outputs": [],
   "source": [
    "#Here, when formatting the integer 1234, we've specified the formatting specifier *<+7,d. Let's get to each option:\n",
    "\n",
    "#* - It is the fill character that fills up the empty spaces after formatting\n",
    "#> - It is the right alignment option that aligns the output string to the right\n",
    "#+ - It is the sign option that forces the number to be signed (having a sign on its left)\n",
    "#7 - It is the width option that forces the number to take a minimum width of 7, other spaces will be filled by fill character\n",
    "#, - It is the thousands operator that places a comma between all thousands.\n",
    "#d - It is the type option that specifies the number is an integer.\n",
    "#When formatting the floating point number 123.4567, we've specified the format specifier ^-09.3f. These are:\n",
    "\n",
    "#^ - It is the center alignment option that aligns the output string to the center of the remaining space\n",
    "#- - It is the sign option that forces only negative numbers to show the sign\n",
    "#0 - It is the character that is placed in place of the empty spaces.\n",
    "#9 - It is the width option that sets the minimum width of the number to 9 (including decimal point, thousands comma and sign)\n",
    "#.3 - It is the precision operator that sets the precision of the given floating number to 3 places\n",
    "#f - It is the type option that specifies the number is a float."
   ]
  },
  {
   "cell_type": "code",
   "execution_count": 7,
   "metadata": {},
   "outputs": [
    {
     "name": "stdout",
     "output_type": "stream",
     "text": [
      "GeeksforGeeks, A computer science portal for geeks.\n",
      "This article is written in Python\n",
      "Hello, I am 18 years old !\n"
     ]
    }
   ],
   "source": [
    "# Python3 program to demonstarte \n",
    "# the str.format() method \n",
    "  \n",
    "# using format option in a simple string \n",
    "print (\"{}, A computer science portal for geeks.\"\n",
    "                        .format(\"GeeksforGeeks\")) \n",
    "  \n",
    "# using format option for a \n",
    "# value stored in a variable \n",
    "str = \"This article is written in {}\"\n",
    "print (str.format(\"Python\")) \n",
    "  \n",
    "# formatting a string using a numeric constant \n",
    "print (\"Hello, I am {} years old !\".format(18))  "
   ]
  },
  {
   "cell_type": "code",
   "execution_count": null,
   "metadata": {},
   "outputs": [],
   "source": [
    "# To demonstrate the use of formatters \n",
    "# with positional key arguments. \n",
    "\n",
    "# Positional arguments \n",
    "# are placed in order \n",
    "print(\"{0} love {1}!!\".format(\"GeeksforGeeks\", \n",
    "\t\t\t\t\t\t\t\t\t\"Geeks\")) \n",
    "\n",
    "# Reverse the index numbers with the \n",
    "# parameters of the placeholders \n",
    "print(\"{1} love {0}!!\".format(\"GeeksforGeeks\", \n",
    "\t\t\t\t\t\t\t\t\t\"Geeks\")) \n",
    "\n",
    "\n",
    "print(\"Every {} should know the use of {} {} programming and {}\"\n",
    "\t.format(\"programmer\", \"Open\", \"Source\", \"Operating Systems\")) \n",
    "\n",
    "\n",
    "# Use the index numbers of the \n",
    "# values to change the order that \n",
    "# they appear in the string \n",
    "print(\"Every {3} should know the use of {2} {1} programming and {0}\"\n",
    "\t\t.format(\"programmer\", \"Open\", \"Source\", \"Operating Systems\")) \n",
    "\n",
    "\n",
    "# Keyword arguments are called \n",
    "# by their keyword name \n",
    "print(\"{gfg} is a {0} science portal for {1}\"\n",
    ".format(\"computer\", \"geeks\", gfg =\"GeeksforGeeks\")) \n"
   ]
  },
  {
   "cell_type": "code",
   "execution_count": null,
   "metadata": {},
   "outputs": [],
   "source": [
    "Mode\tDescription\n",
    "'r' \tOpen a file for reading. (default)\n",
    "'w' \tOpen a file for writing. Creates a new file if it does not exist or truncates the file if it exists.\n",
    "'x' \tOpen a file for exclusive creation. If the file already exists, the operation fails.\n",
    "'a'  \tOpen for appending at the end of the file without truncating it. Creates a new file if it does not exist.\n",
    "'t'  \tOpen in text mode. (default)\n",
    "'b' \tOpen in binary mode.\n",
    "'+' \tOpen a file for updating (reading and writing)\n",
    "\n",
    "\n",
    "\n",
    "buffering (optional)  - used for setting buffering policy\n",
    "encoding (optional)   - name of the encoding to encode or decode the file\n",
    "errors (optional)     - string specifying how to handle encoding/decoding errors\n",
    "newline (optional)   - how newlines mode works (available values: None, ' ', '\\n', 'r', and '\\r\\n'\n",
    "closefd (optional)    - must be True (default) if given otherwise an exception will be raised\n",
    "opener (optional)     - a custom opener; must return an open file descriptor"
   ]
  },
  {
   "cell_type": "code",
   "execution_count": 1,
   "metadata": {},
   "outputs": [
    {
     "ename": "FileNotFoundError",
     "evalue": "[Errno 2] No such file or directory: 'test.txt'",
     "output_type": "error",
     "traceback": [
      "\u001b[1;31m---------------------------------------------------------------------------\u001b[0m",
      "\u001b[1;31mFileNotFoundError\u001b[0m                         Traceback (most recent call last)",
      "\u001b[1;32m<ipython-input-1-78c157b7284a>\u001b[0m in \u001b[0;36m<module>\u001b[1;34m\u001b[0m\n\u001b[0;32m      1\u001b[0m \u001b[1;31m# opens test.text file of the current directory\u001b[0m\u001b[1;33m\u001b[0m\u001b[1;33m\u001b[0m\u001b[1;33m\u001b[0m\u001b[0m\n\u001b[1;32m----> 2\u001b[1;33m \u001b[0mf\u001b[0m \u001b[1;33m=\u001b[0m \u001b[0mopen\u001b[0m\u001b[1;33m(\u001b[0m\u001b[1;34m\"test.txt\"\u001b[0m\u001b[1;33m)\u001b[0m\u001b[1;33m\u001b[0m\u001b[1;33m\u001b[0m\u001b[0m\n\u001b[0m\u001b[0;32m      3\u001b[0m \u001b[1;31m# specifying full path\u001b[0m\u001b[1;33m\u001b[0m\u001b[1;33m\u001b[0m\u001b[1;33m\u001b[0m\u001b[0m\n\u001b[0;32m      4\u001b[0m \u001b[0mf\u001b[0m \u001b[1;33m=\u001b[0m \u001b[0mopen\u001b[0m\u001b[1;33m(\u001b[0m\u001b[1;34m\"C:/Python33/README.txt\"\u001b[0m\u001b[1;33m)\u001b[0m\u001b[1;33m\u001b[0m\u001b[1;33m\u001b[0m\u001b[0m\n",
      "\u001b[1;31mFileNotFoundError\u001b[0m: [Errno 2] No such file or directory: 'test.txt'"
     ]
    }
   ],
   "source": [
    "# opens test.text file of the current directory\n",
    "f = open(\"test.txt\")\n",
    "# specifying full path\n",
    "f = open(\"C:/Python33/README.txt\")\n"
   ]
  },
  {
   "cell_type": "code",
   "execution_count": null,
   "metadata": {},
   "outputs": [],
   "source": [
    "# opens for read\n",
    "f = open(\"path_to_file\", mode='r')\n",
    "# opens for write \n",
    "f = open(\"path_to_file\", mode = 'w')\n",
    "# opens for writing to the end \n",
    "f = open(\"path_to_file\", mode = 'a')"
   ]
  },
  {
   "cell_type": "code",
   "execution_count": 2,
   "metadata": {},
   "outputs": [
    {
     "name": "stdout",
     "output_type": "stream",
     "text": [
      "['__add__', '__class__', '__contains__', '__delattr__', '__delitem__', '__dir__', '__doc__', '__eq__', '__format__', '__ge__', '__getattribute__', '__getitem__', '__gt__', '__hash__', '__iadd__', '__imul__', '__init__', '__init_subclass__', '__iter__', '__le__', '__len__', '__lt__', '__mul__', '__ne__', '__new__', '__reduce__', '__reduce_ex__', '__repr__', '__reversed__', '__rmul__', '__setattr__', '__setitem__', '__sizeof__', '__str__', '__subclasshook__', 'append', 'clear', 'copy', 'count', 'extend', 'index', 'insert', 'pop', 'remove', 'reverse', 'sort']\n",
      "\n",
      "Return Value from empty dir()\n",
      "['In', 'Out', '_', '__', '___', '__builtin__', '__builtins__', '__doc__', '__loader__', '__name__', '__package__', '__spec__', '_dh', '_i', '_i1', '_i2', '_ih', '_ii', '_iii', '_oh', 'exit', 'get_ipython', 'number', 'quit']\n"
     ]
    }
   ],
   "source": [
    "#Returns a list of names in current local scope or a list of object attributes\n",
    "number = [1, 2, 3]\n",
    "print(dir(number))\n",
    "\n",
    "print('\\nReturn Value from empty dir()')\n",
    "print(dir())"
   ]
  },
  {
   "cell_type": "code",
   "execution_count": 3,
   "metadata": {},
   "outputs": [
    {
     "data": {
      "text/plain": [
       "{'__name__': '__main__',\n",
       " '__doc__': 'Automatically created module for IPython interactive environment',\n",
       " '__package__': None,\n",
       " '__loader__': None,\n",
       " '__spec__': None,\n",
       " '__builtin__': <module 'builtins' (built-in)>,\n",
       " '__builtins__': <module 'builtins' (built-in)>,\n",
       " '_ih': ['',\n",
       "  '# opens test.text file of the current directory\\nf = open(\"test.txt\")\\n# specifying full path\\nf = open(\"C:/Python33/README.txt\")',\n",
       "  \"#Returns a list of names in current local scope or a list of object attributes\\nnumber = [1, 2, 3]\\nprint(dir(number))\\n\\nprint('\\\\nReturn Value from empty dir()')\\nprint(dir())\",\n",
       "  'globals()'],\n",
       " '_oh': {},\n",
       " '_dh': ['C:\\\\Users\\\\nimra\\\\Downloads'],\n",
       " 'In': ['',\n",
       "  '# opens test.text file of the current directory\\nf = open(\"test.txt\")\\n# specifying full path\\nf = open(\"C:/Python33/README.txt\")',\n",
       "  \"#Returns a list of names in current local scope or a list of object attributes\\nnumber = [1, 2, 3]\\nprint(dir(number))\\n\\nprint('\\\\nReturn Value from empty dir()')\\nprint(dir())\",\n",
       "  'globals()'],\n",
       " 'Out': {},\n",
       " 'get_ipython': <bound method InteractiveShell.get_ipython of <ipykernel.zmqshell.ZMQInteractiveShell object at 0x00000202C70FC4E0>>,\n",
       " 'exit': <IPython.core.autocall.ZMQExitAutocall at 0x202c717b1d0>,\n",
       " 'quit': <IPython.core.autocall.ZMQExitAutocall at 0x202c717b1d0>,\n",
       " '_': '',\n",
       " '__': '',\n",
       " '___': '',\n",
       " '_i': \"#Returns a list of names in current local scope or a list of object attributes\\nnumber = [1, 2, 3]\\nprint(dir(number))\\n\\nprint('\\\\nReturn Value from empty dir()')\\nprint(dir())\",\n",
       " '_ii': '# opens test.text file of the current directory\\nf = open(\"test.txt\")\\n# specifying full path\\nf = open(\"C:/Python33/README.txt\")',\n",
       " '_iii': '',\n",
       " '_i1': '# opens test.text file of the current directory\\nf = open(\"test.txt\")\\n# specifying full path\\nf = open(\"C:/Python33/README.txt\")',\n",
       " '_i2': \"#Returns a list of names in current local scope or a list of object attributes\\nnumber = [1, 2, 3]\\nprint(dir(number))\\n\\nprint('\\\\nReturn Value from empty dir()')\\nprint(dir())\",\n",
       " 'number': [1, 2, 3],\n",
       " '_i3': 'globals()'}"
      ]
     },
     "execution_count": 3,
     "metadata": {},
     "output_type": "execute_result"
    }
   ],
   "source": [
    "globals()"
   ]
  },
  {
   "cell_type": "code",
   "execution_count": 4,
   "metadata": {},
   "outputs": [
    {
     "name": "stdout",
     "output_type": "stream",
     "text": [
      "id of 5 = 140715376751568\n",
      "id of a = 140715376751568\n",
      "id of b = 140715376751568\n",
      "id of c = 2210954925520\n"
     ]
    }
   ],
   "source": [
    "print('id of 5 =',id(5))\n",
    "\n",
    "a = 5\n",
    "print('id of a =',id(a))\n",
    "\n",
    "b = a\n",
    "print('id of b =',id(b))\n",
    "\n",
    "c = 5.0\n",
    "print('id of c =',id(c))"
   ]
  },
  {
   "cell_type": "code",
   "execution_count": 5,
   "metadata": {},
   "outputs": [
    {
     "data": {
      "text/plain": [
       "{'__name__': '__main__',\n",
       " '__doc__': 'Automatically created module for IPython interactive environment',\n",
       " '__package__': None,\n",
       " '__loader__': None,\n",
       " '__spec__': None,\n",
       " '__builtin__': <module 'builtins' (built-in)>,\n",
       " '__builtins__': <module 'builtins' (built-in)>,\n",
       " '_ih': ['',\n",
       "  '# opens test.text file of the current directory\\nf = open(\"test.txt\")\\n# specifying full path\\nf = open(\"C:/Python33/README.txt\")',\n",
       "  \"#Returns a list of names in current local scope or a list of object attributes\\nnumber = [1, 2, 3]\\nprint(dir(number))\\n\\nprint('\\\\nReturn Value from empty dir()')\\nprint(dir())\",\n",
       "  'globals()',\n",
       "  \"print('id of 5 =',id(5))\\n\\na = 5\\nprint('id of a =',id(a))\\n\\nb = a\\nprint('id of b =',id(b))\\n\\nc = 5.0\\nprint('id of c =',id(c))\",\n",
       "  'locals()'],\n",
       " '_oh': {3: {...}},\n",
       " '_dh': ['C:\\\\Users\\\\nimra\\\\Downloads'],\n",
       " 'In': ['',\n",
       "  '# opens test.text file of the current directory\\nf = open(\"test.txt\")\\n# specifying full path\\nf = open(\"C:/Python33/README.txt\")',\n",
       "  \"#Returns a list of names in current local scope or a list of object attributes\\nnumber = [1, 2, 3]\\nprint(dir(number))\\n\\nprint('\\\\nReturn Value from empty dir()')\\nprint(dir())\",\n",
       "  'globals()',\n",
       "  \"print('id of 5 =',id(5))\\n\\na = 5\\nprint('id of a =',id(a))\\n\\nb = a\\nprint('id of b =',id(b))\\n\\nc = 5.0\\nprint('id of c =',id(c))\",\n",
       "  'locals()'],\n",
       " 'Out': {3: {...}},\n",
       " 'get_ipython': <bound method InteractiveShell.get_ipython of <ipykernel.zmqshell.ZMQInteractiveShell object at 0x00000202C70FC4E0>>,\n",
       " 'exit': <IPython.core.autocall.ZMQExitAutocall at 0x202c717b1d0>,\n",
       " 'quit': <IPython.core.autocall.ZMQExitAutocall at 0x202c717b1d0>,\n",
       " '_': {...},\n",
       " '__': '',\n",
       " '___': '',\n",
       " '_i': \"print('id of 5 =',id(5))\\n\\na = 5\\nprint('id of a =',id(a))\\n\\nb = a\\nprint('id of b =',id(b))\\n\\nc = 5.0\\nprint('id of c =',id(c))\",\n",
       " '_ii': 'globals()',\n",
       " '_iii': \"#Returns a list of names in current local scope or a list of object attributes\\nnumber = [1, 2, 3]\\nprint(dir(number))\\n\\nprint('\\\\nReturn Value from empty dir()')\\nprint(dir())\",\n",
       " '_i1': '# opens test.text file of the current directory\\nf = open(\"test.txt\")\\n# specifying full path\\nf = open(\"C:/Python33/README.txt\")',\n",
       " '_i2': \"#Returns a list of names in current local scope or a list of object attributes\\nnumber = [1, 2, 3]\\nprint(dir(number))\\n\\nprint('\\\\nReturn Value from empty dir()')\\nprint(dir())\",\n",
       " 'number': [1, 2, 3],\n",
       " '_i3': 'globals()',\n",
       " '_3': {...},\n",
       " '_i4': \"print('id of 5 =',id(5))\\n\\na = 5\\nprint('id of a =',id(a))\\n\\nb = a\\nprint('id of b =',id(b))\\n\\nc = 5.0\\nprint('id of c =',id(c))\",\n",
       " 'a': 5,\n",
       " 'b': 5,\n",
       " 'c': 5.0,\n",
       " '_i5': 'locals()'}"
      ]
     },
     "execution_count": 5,
     "metadata": {},
     "output_type": "execute_result"
    }
   ],
   "source": [
    "locals()"
   ]
  },
  {
   "cell_type": "code",
   "execution_count": 6,
   "metadata": {},
   "outputs": [
    {
     "data": {
      "text/plain": [
       "mappingproxy({'__repr__': <slot wrapper '__repr__' of 'list' objects>,\n",
       "              '__hash__': None,\n",
       "              '__getattribute__': <slot wrapper '__getattribute__' of 'list' objects>,\n",
       "              '__lt__': <slot wrapper '__lt__' of 'list' objects>,\n",
       "              '__le__': <slot wrapper '__le__' of 'list' objects>,\n",
       "              '__eq__': <slot wrapper '__eq__' of 'list' objects>,\n",
       "              '__ne__': <slot wrapper '__ne__' of 'list' objects>,\n",
       "              '__gt__': <slot wrapper '__gt__' of 'list' objects>,\n",
       "              '__ge__': <slot wrapper '__ge__' of 'list' objects>,\n",
       "              '__iter__': <slot wrapper '__iter__' of 'list' objects>,\n",
       "              '__init__': <slot wrapper '__init__' of 'list' objects>,\n",
       "              '__len__': <slot wrapper '__len__' of 'list' objects>,\n",
       "              '__getitem__': <method '__getitem__' of 'list' objects>,\n",
       "              '__setitem__': <slot wrapper '__setitem__' of 'list' objects>,\n",
       "              '__delitem__': <slot wrapper '__delitem__' of 'list' objects>,\n",
       "              '__add__': <slot wrapper '__add__' of 'list' objects>,\n",
       "              '__mul__': <slot wrapper '__mul__' of 'list' objects>,\n",
       "              '__rmul__': <slot wrapper '__rmul__' of 'list' objects>,\n",
       "              '__contains__': <slot wrapper '__contains__' of 'list' objects>,\n",
       "              '__iadd__': <slot wrapper '__iadd__' of 'list' objects>,\n",
       "              '__imul__': <slot wrapper '__imul__' of 'list' objects>,\n",
       "              '__new__': <function list.__new__(*args, **kwargs)>,\n",
       "              '__reversed__': <method '__reversed__' of 'list' objects>,\n",
       "              '__sizeof__': <method '__sizeof__' of 'list' objects>,\n",
       "              'clear': <method 'clear' of 'list' objects>,\n",
       "              'copy': <method 'copy' of 'list' objects>,\n",
       "              'append': <method 'append' of 'list' objects>,\n",
       "              'insert': <method 'insert' of 'list' objects>,\n",
       "              'extend': <method 'extend' of 'list' objects>,\n",
       "              'pop': <method 'pop' of 'list' objects>,\n",
       "              'remove': <method 'remove' of 'list' objects>,\n",
       "              'index': <method 'index' of 'list' objects>,\n",
       "              'count': <method 'count' of 'list' objects>,\n",
       "              'reverse': <method 'reverse' of 'list' objects>,\n",
       "              'sort': <method 'sort' of 'list' objects>,\n",
       "              '__doc__': 'Built-in mutable sequence.\\n\\nIf no argument is given, the constructor creates a new empty list.\\nThe argument must be an iterable if specified.'})"
      ]
     },
     "execution_count": 6,
     "metadata": {},
     "output_type": "execute_result"
    }
   ],
   "source": [
    "vars(list)"
   ]
  },
  {
   "cell_type": "code",
   "execution_count": 1,
   "metadata": {},
   "outputs": [
    {
     "name": "stdout",
     "output_type": "stream",
     "text": [
      "False\n",
      "True\n"
     ]
    }
   ],
   "source": [
    "x = 5\n",
    "print(callable(x))\n",
    "\n",
    "def testFunction():\n",
    "  print(\"Test\")\n",
    "\n",
    "y = testFunction\n",
    "print(callable(y))"
   ]
  },
  {
   "cell_type": "code",
   "execution_count": 1,
   "metadata": {},
   "outputs": [
    {
     "name": "stdout",
     "output_type": "stream",
     "text": [
      "['__builtins__', 'pow', 'squareRoot']\n",
      "3.0\n"
     ]
    }
   ],
   "source": [
    "from math import *\n",
    "exec('print(dir())', {'squareRoot': sqrt, 'pow': pow})\n",
    "\n",
    "# object can have squareRoot() module\n",
    "exec('print(squareRoot(9))', {'squareRoot': sqrt, 'pow': pow})"
   ]
  },
  {
   "cell_type": "code",
   "execution_count": 3,
   "metadata": {},
   "outputs": [
    {
     "name": "stdout",
     "output_type": "stream",
     "text": [
      "Hash for 181 is: 181\n",
      "Hash for 181.23 is: 530343892119126197\n",
      "Hash for Python is: -33047359367851494\n"
     ]
    }
   ],
   "source": [
    "#The hash() method returns the hash value of an object if it has one.\n",
    "#Hash values are just integers which are used to compare dictionary keys during a dictionary lookup quickly.\n",
    "\n",
    "\n",
    "# hash for integer unchanged\n",
    "print('Hash for 181 is:', hash(181))\n",
    "\n",
    "# hash for decimal\n",
    "print('Hash for 181.23 is:',hash(181.23))\n",
    "\n",
    "# hash for string\n",
    "print('Hash for Python is:', hash('Python'))"
   ]
  },
  {
   "cell_type": "code",
   "execution_count": 11,
   "metadata": {},
   "outputs": [
    {
     "name": "stdout",
     "output_type": "stream",
     "text": [
      "Help on built-in function pow in math:\n",
      "\n",
      "math.pow = pow(x, y, /)\n",
      "    Return x**y (x to the power of y).\n",
      "\n"
     ]
    }
   ],
   "source": [
    "#help('random thing')\n",
    "#help('print')\n",
    "#help('def')\n",
    "from math import * \n",
    "help('math.pow')"
   ]
  },
  {
   "cell_type": "code",
   "execution_count": 15,
   "metadata": {},
   "outputs": [
    {
     "name": "stdout",
     "output_type": "stream",
     "text": [
      "<memory at 0x0000021200F5AA08>\n",
      "65\n",
      "b'A'\n",
      "[65, 66, 67]\n"
     ]
    }
   ],
   "source": [
    "#random bytearray\n",
    "randomByteArray = bytearray('ABC', 'utf-8')\n",
    "\n",
    "mv = memoryview(randomByteArray)\n",
    "\n",
    "# access memory view's zeroth index\n",
    "print(mv)\n",
    "print(mv[0])\n",
    "\n",
    "# create byte from memory view\n",
    "print(bytes(mv[0:1]))\n",
    "\n",
    "# create list from memory view\n",
    "print(list(mv[0:3]))"
   ]
  },
  {
   "cell_type": "code",
   "execution_count": 17,
   "metadata": {},
   "outputs": [
    {
     "data": {
      "text/plain": [
       "'ni'"
      ]
     },
     "execution_count": 17,
     "metadata": {},
     "output_type": "execute_result"
    }
   ],
   "source": [
    "n='nimrah'\n",
    "n[0:2]"
   ]
  },
  {
   "cell_type": "code",
   "execution_count": 4,
   "metadata": {},
   "outputs": [
    {
     "data": {
      "text/plain": [
       "'202020'"
      ]
     },
     "execution_count": 4,
     "metadata": {},
     "output_type": "execute_result"
    }
   ],
   "source": [
    "a='20'\n",
    "b=3\n",
    "c=b*a\n",
    "c"
   ]
  },
  {
   "cell_type": "code",
   "execution_count": 7,
   "metadata": {},
   "outputs": [
    {
     "name": "stdout",
     "output_type": "stream",
     "text": [
      "how many miles did you bike this week?70\n"
     ]
    },
    {
     "ename": "TypeError",
     "evalue": "get_name() missing 1 required positional argument: 'biker'",
     "output_type": "error",
     "traceback": [
      "\u001b[1;31m---------------------------------------------------------------------------\u001b[0m",
      "\u001b[1;31mTypeError\u001b[0m                                 Traceback (most recent call last)",
      "\u001b[1;32m<ipython-input-7-a30babe678f7>\u001b[0m in \u001b[0;36m<module>\u001b[1;34m\u001b[0m\n\u001b[0;32m      7\u001b[0m \u001b[0mdistance\u001b[0m\u001b[1;33m=\u001b[0m\u001b[0mint\u001b[0m\u001b[1;33m(\u001b[0m\u001b[0minput\u001b[0m\u001b[1;33m(\u001b[0m\u001b[1;34m'how many miles did you bike this week?'\u001b[0m\u001b[1;33m)\u001b[0m\u001b[1;33m)\u001b[0m\u001b[1;33m\u001b[0m\u001b[1;33m\u001b[0m\u001b[0m\n\u001b[0;32m      8\u001b[0m \u001b[0mburn_rate\u001b[0m\u001b[1;33m=\u001b[0m\u001b[1;36m50\u001b[0m\u001b[1;33m\u001b[0m\u001b[1;33m\u001b[0m\u001b[0m\n\u001b[1;32m----> 9\u001b[1;33m \u001b[0mbiker\u001b[0m\u001b[1;33m=\u001b[0m\u001b[0mget_name\u001b[0m\u001b[1;33m(\u001b[0m\u001b[1;33m)\u001b[0m\u001b[1;33m\u001b[0m\u001b[1;33m\u001b[0m\u001b[0m\n\u001b[0m\u001b[0;32m     10\u001b[0m \u001b[0mcalories_burned\u001b[0m\u001b[1;33m=\u001b[0m\u001b[0mcalc_calories\u001b[0m\u001b[1;33m(\u001b[0m\u001b[0mdistance\u001b[0m\u001b[1;33m,\u001b[0m \u001b[0mburn_rate\u001b[0m\u001b[1;33m)\u001b[0m\u001b[1;33m\u001b[0m\u001b[1;33m\u001b[0m\u001b[0m\n\u001b[0;32m     11\u001b[0m \u001b[0mprint\u001b[0m\u001b[1;33m(\u001b[0m\u001b[0mbiker\u001b[0m\u001b[1;33m,\u001b[0m \u001b[1;34m'you burned about'\u001b[0m\u001b[1;33m,\u001b[0m\u001b[0mcalories_burned\u001b[0m\u001b[1;33m,\u001b[0m \u001b[1;34m'calories'\u001b[0m\u001b[1;33m)\u001b[0m\u001b[1;33m\u001b[0m\u001b[1;33m\u001b[0m\u001b[0m\n",
      "\u001b[1;31mTypeError\u001b[0m: get_name() missing 1 required positional argument: 'biker'"
     ]
    }
   ],
   "source": [
    "def get_name():\n",
    "    name=input('what is your name')\n",
    "    return name\n",
    "def calc_calories(miles,calories_per_mile):\n",
    "    calories=miles*calories_per_mile\n",
    "    return calories\n",
    "distance=int(input('how many miles did you bike this week?'))\n",
    "burn_rate=50\n",
    "biker=get_name()\n",
    "calories_burned=calc_calories(distance, burn_rate)\n",
    "print(biker, 'you burned about',calories_burned, 'calories')"
   ]
  },
  {
   "cell_type": "code",
   "execution_count": 12,
   "metadata": {},
   "outputs": [
    {
     "data": {
      "text/plain": [
       "3.0"
      ]
     },
     "execution_count": 12,
     "metadata": {},
     "output_type": "execute_result"
    }
   ],
   "source": [
    "from math import sqrt as squareRoot\n",
    "n=9\n",
    "squareRoot(n)"
   ]
  },
  {
   "cell_type": "code",
   "execution_count": 1,
   "metadata": {},
   "outputs": [
    {
     "name": "stdout",
     "output_type": "stream",
     "text": [
      "(1, 2, 3, 4)\n"
     ]
    }
   ],
   "source": [
    "print((1, 2) + (3, 4))"
   ]
  },
  {
   "cell_type": "code",
   "execution_count": 2,
   "metadata": {},
   "outputs": [
    {
     "name": "stdout",
     "output_type": "stream",
     "text": [
      "[0, 1, 4, 9]\n"
     ]
    }
   ],
   "source": [
    "n = [x*x for x in range(4)]\n",
    "print(n)"
   ]
  },
  {
   "cell_type": "code",
   "execution_count": 14,
   "metadata": {},
   "outputs": [
    {
     "ename": "SyntaxError",
     "evalue": "invalid syntax (<ipython-input-14-b4567f97c91b>, line 5)",
     "output_type": "error",
     "traceback": [
      "\u001b[1;36m  File \u001b[1;32m\"<ipython-input-14-b4567f97c91b>\"\u001b[1;36m, line \u001b[1;32m5\u001b[0m\n\u001b[1;33m    and value not ratio'''\u001b[0m\n\u001b[1;37m                          \n^\u001b[0m\n\u001b[1;31mSyntaxError\u001b[0m\u001b[1;31m:\u001b[0m invalid syntax\n"
     ]
    }
   ],
   "source": [
    "squares = {1:1, 2:4, 3:9, 4:16, 5:25} \n",
    "print(squares.pop(4))  \n",
    "print(squares)\n",
    "squares[2]                 #here :means key and value not ratio"
   ]
  },
  {
   "cell_type": "code",
   "execution_count": 11,
   "metadata": {},
   "outputs": [
    {
     "name": "stdout",
     "output_type": "stream",
     "text": [
      "Bill, Sean and John\n"
     ]
    }
   ],
   "source": [
    "names = \"{1}, {2} and {0}\".format('John', 'Bill', 'Sean')\n",
    "print(names)"
   ]
  },
  {
   "cell_type": "code",
   "execution_count": 15,
   "metadata": {},
   "outputs": [
    {
     "ename": "SyntaxError",
     "evalue": "invalid syntax (<ipython-input-15-7dcb77070eac>, line 1)",
     "output_type": "error",
     "traceback": [
      "\u001b[1;36m  File \u001b[1;32m\"<ipython-input-15-7dcb77070eac>\"\u001b[1;36m, line \u001b[1;32m1\u001b[0m\n\u001b[1;33m    set:\u001b[0m\n\u001b[1;37m        ^\u001b[0m\n\u001b[1;31mSyntaxError\u001b[0m\u001b[1;31m:\u001b[0m invalid syntax\n"
     ]
    }
   ],
   "source": [
    "set:\n",
    "A set is an unordered collection of items.\n",
    "Elements of set are unique.\n",
    "You can change elements of set unlike tuple.\n",
    "It can have any number of items and they may be of \n",
    "different types (integer, float, tuple, string etc.).\n",
    "But a set cannot have a mutable element, like list, \n",
    "set or dictionary, as its element."
   ]
  },
  {
   "cell_type": "code",
   "execution_count": 18,
   "metadata": {},
   "outputs": [
    {
     "name": "stdout",
     "output_type": "stream",
     "text": [
      "1+2+3+4\n"
     ]
    }
   ],
   "source": [
    "print(1,2,3,4,sep='+')"
   ]
  },
  {
   "cell_type": "code",
   "execution_count": 19,
   "metadata": {},
   "outputs": [
    {
     "name": "stdout",
     "output_type": "stream",
     "text": [
      "a = 30\n",
      "a = 30\n",
      "a = 30\n"
     ]
    }
   ],
   "source": [
    "def outer_function():\n",
    "    global a\n",
    "    a = 20\n",
    "    def inner_function():\n",
    "        global a\n",
    "        a = 30\n",
    "        print('a =',a)\n",
    "\n",
    "    inner_function()\n",
    "    print('a =',a)\n",
    "     \n",
    "a = 10\n",
    "outer_function()\n",
    "print('a =',a)"
   ]
  },
  {
   "cell_type": "code",
   "execution_count": 20,
   "metadata": {},
   "outputs": [
    {
     "data": {
      "text/plain": [
       "20"
      ]
     },
     "execution_count": 20,
     "metadata": {},
     "output_type": "execute_result"
    }
   ],
   "source": [
    "_a=20\n",
    "_a"
   ]
  },
  {
   "cell_type": "code",
   "execution_count": 21,
   "metadata": {},
   "outputs": [
    {
     "ename": "SyntaxError",
     "evalue": "can't assign to operator (<ipython-input-21-629319825097>, line 1)",
     "output_type": "error",
     "traceback": [
      "\u001b[1;36m  File \u001b[1;32m\"<ipython-input-21-629319825097>\"\u001b[1;36m, line \u001b[1;32m1\u001b[0m\n\u001b[1;33m    a@2=20\u001b[0m\n\u001b[1;37m          ^\u001b[0m\n\u001b[1;31mSyntaxError\u001b[0m\u001b[1;31m:\u001b[0m can't assign to operator\n"
     ]
    }
   ],
   "source": [
    "a@2=20\n",
    "a@2\n"
   ]
  },
  {
   "cell_type": "code",
   "execution_count": 4,
   "metadata": {},
   "outputs": [
    {
     "ename": "SyntaxError",
     "evalue": "invalid character in identifier (<ipython-input-4-b19d5cd60a3a>, line 2)",
     "output_type": "error",
     "traceback": [
      "\u001b[1;36m  File \u001b[1;32m\"<ipython-input-4-b19d5cd60a3a>\"\u001b[1;36m, line \u001b[1;32m2\u001b[0m\n\u001b[1;33m    print(“Hello”)\u001b[0m\n\u001b[1;37m                ^\u001b[0m\n\u001b[1;31mSyntaxError\u001b[0m\u001b[1;31m:\u001b[0m invalid character in identifier\n"
     ]
    }
   ],
   "source": [
    "if True:\n",
    "    print(“Hello”)"
   ]
  },
  {
   "cell_type": "code",
   "execution_count": 5,
   "metadata": {},
   "outputs": [
    {
     "name": "stdout",
     "output_type": "stream",
     "text": [
      "10\n"
     ]
    }
   ],
   "source": [
    "i = sum = 0\n",
    "while i <= 4:\n",
    "    sum += i\n",
    "    i = i+1\n",
    "print(sum)"
   ]
  },
  {
   "cell_type": "code",
   "execution_count": 41,
   "metadata": {},
   "outputs": [
    {
     "name": "stdout",
     "output_type": "stream",
     "text": [
      "P\n",
      "Y\n",
      "T\n",
      "H\n",
      "N\n",
      "this is printed first then break\n"
     ]
    }
   ],
   "source": [
    "for char in 'PYTHON STRING':\n",
    "    if char == ' ':\n",
    "        print('this is printed first then break')\n",
    "        break\n",
    "    #print(char)\n",
    "    elif char=='O':\n",
    "        continue\n",
    "    print(char)"
   ]
  },
  {
   "cell_type": "code",
   "execution_count": 32,
   "metadata": {},
   "outputs": [
    {
     "name": "stdout",
     "output_type": "stream",
     "text": [
      "PYTHN STRING"
     ]
    }
   ],
   "source": [
    "for i in 'PYTHON STRING':\n",
    "    if i == 'O':\n",
    "        continue\n",
    "    print(i,end='')"
   ]
  },
  {
   "cell_type": "code",
   "execution_count": null,
   "metadata": {},
   "outputs": [],
   "source": [
    "#We can generate a sequence of numbers using range() function. \n",
    "#range(10) will generate numbers from 0 to 9 (10 numbers)."
   ]
  },
  {
   "cell_type": "code",
   "execution_count": 47,
   "metadata": {},
   "outputs": [
    {
     "name": "stdout",
     "output_type": "stream",
     "text": [
      "range(0, 10)\n",
      "range(0, 10, 2)\n",
      "[0, 1, 2, 3, 4, 5, 6, 7, 8, 9]\n",
      "[0, 2, 4, 6, 8]\n"
     ]
    }
   ],
   "source": [
    "print(range(10))\n",
    "print(range(0,10,2))\n",
    "print(list(range(10)))\n",
    "print(list(range(0,10,2)))"
   ]
  },
  {
   "cell_type": "code",
   "execution_count": 53,
   "metadata": {},
   "outputs": [
    {
     "name": "stdout",
     "output_type": "stream",
     "text": [
      "i like mercedes\n",
      "i like honda\n",
      "i like civic\n"
     ]
    }
   ],
   "source": [
    "cars=['mercedes','honda','civic']\n",
    "for i in range(len(cars)):\n",
    "    print('i like ' + cars[i])\n"
   ]
  },
  {
   "cell_type": "code",
   "execution_count": 54,
   "metadata": {},
   "outputs": [
    {
     "name": "stdout",
     "output_type": "stream",
     "text": [
      "mercedes\n",
      "honda\n",
      "civic\n",
      "no item left\n"
     ]
    }
   ],
   "source": [
    "cars=['mercedes','honda','civic']\n",
    "for i in cars:\n",
    "    print(i)\n",
    "else:\n",
    "    print('no item left')"
   ]
  },
  {
   "cell_type": "code",
   "execution_count": 55,
   "metadata": {},
   "outputs": [
    {
     "name": "stdout",
     "output_type": "stream",
     "text": [
      "Hello ('Frodo', 'Sauron')\n"
     ]
    }
   ],
   "source": [
    "def greetPerson(*name):\n",
    "  print('Hello', name)\n",
    "greetPerson('Frodo', 'Sauron')"
   ]
  },
  {
   "cell_type": "code",
   "execution_count": 58,
   "metadata": {},
   "outputs": [
    {
     "name": "stdout",
     "output_type": "stream",
     "text": [
      "3.141592653589793\n"
     ]
    }
   ],
   "source": [
    "import math\n",
    "print(math.pi)"
   ]
  },
  {
   "cell_type": "code",
   "execution_count": 59,
   "metadata": {},
   "outputs": [
    {
     "name": "stdout",
     "output_type": "stream",
     "text": [
      "3.141592653589793\n"
     ]
    }
   ],
   "source": [
    "from math import pi\n",
    "print(pi)"
   ]
  },
  {
   "cell_type": "code",
   "execution_count": 60,
   "metadata": {},
   "outputs": [
    {
     "name": "stdout",
     "output_type": "stream",
     "text": [
      "(1, 3, 6)\n"
     ]
    }
   ],
   "source": [
    "numbers = [1, 3, 6]\n",
    "newNumbers = tuple(map(lambda x: x , numbers))\n",
    "print(newNumbers)"
   ]
  },
  {
   "cell_type": "code",
   "execution_count": 7,
   "metadata": {},
   "outputs": [
    {
     "name": "stdout",
     "output_type": "stream",
     "text": [
      "2019-10-27 14:37:58.635234\n"
     ]
    }
   ],
   "source": [
    "import datetime\n",
    "datetime_obj = datetime.datetime.now()\n",
    "print(datetime_obj)"
   ]
  },
  {
   "cell_type": "code",
   "execution_count": 8,
   "metadata": {},
   "outputs": [
    {
     "name": "stdout",
     "output_type": "stream",
     "text": [
      "2019-10-27\n"
     ]
    }
   ],
   "source": [
    "import datetime\n",
    "date_object = datetime.date.today()\n",
    "print(date_object)"
   ]
  },
  {
   "cell_type": "code",
   "execution_count": 9,
   "metadata": {},
   "outputs": [
    {
     "name": "stdout",
     "output_type": "stream",
     "text": [
      "['MAXYEAR', 'MINYEAR', '__builtins__', '__cached__', '__doc__', '__file__', '__loader__', '__name__', '__package__', '__spec__', 'date', 'datetime', 'datetime_CAPI', 'sys', 'time', 'timedelta', 'timezone', 'tzinfo']\n"
     ]
    }
   ],
   "source": [
    "import datetime\n",
    "print(dir(datetime))"
   ]
  },
  {
   "cell_type": "code",
   "execution_count": 11,
   "metadata": {},
   "outputs": [],
   "source": [
    "#natural language processing   seminar(google assistant)"
   ]
  },
  {
   "cell_type": "code",
   "execution_count": 13,
   "metadata": {},
   "outputs": [
    {
     "name": "stdout",
     "output_type": "stream",
     "text": [
      "2018-04-13\n"
     ]
    }
   ],
   "source": [
    "import datetime\n",
    "d = datetime.date(2018, 4, 13)\n",
    "print(d)"
   ]
  },
  {
   "cell_type": "code",
   "execution_count": 15,
   "metadata": {},
   "outputs": [
    {
     "name": "stdout",
     "output_type": "stream",
     "text": [
      "2018-04-13\n"
     ]
    }
   ],
   "source": [
    "from datetime import date\n",
    "a = date(2018, 4, 13)\n",
    "print(a)"
   ]
  },
  {
   "cell_type": "code",
   "execution_count": 14,
   "metadata": {},
   "outputs": [
    {
     "name": "stdout",
     "output_type": "stream",
     "text": [
      "hour 10\n",
      "min 55\n",
      "sec 34\n",
      "year 2016\n",
      "month 6\n",
      "day 2\n"
     ]
    }
   ],
   "source": [
    "import datetime\n",
    "#TIME\n",
    "t1=datetime.time(10,55,34) #(hour,minutes,second)\n",
    "print('hour',t1.hour)\n",
    "print('min',t1.minute)\n",
    "print('sec',t1.second)\n",
    "\n",
    "\n",
    "#DATE\n",
    "d1=datetime.date(2016,6,2)   #(year,month,day) if we put a number greater than 12 than it will show run time errorn\n",
    "\n",
    "print('year',d1.year)\n",
    "print('month',d1.month)\n",
    "print('day',d1.day)"
   ]
  },
  {
   "cell_type": "code",
   "execution_count": 24,
   "metadata": {},
   "outputs": [
    {
     "name": "stdout",
     "output_type": "stream",
     "text": [
      "2018-04-20\n"
     ]
    }
   ],
   "source": [
    "t1=datetime.date(2018,3,1)\n",
    "dt=datetime.timedelta(50)    #is date se 50 din agey count kr k date btaye ga\n",
    "print(t1+dt)"
   ]
  },
  {
   "cell_type": "code",
   "execution_count": 25,
   "metadata": {},
   "outputs": [
    {
     "name": "stdout",
     "output_type": "stream",
     "text": [
      "2018-01-10\n"
     ]
    }
   ],
   "source": [
    "t1=datetime.date(2018,3,1)\n",
    "dt=datetime.timedelta(-50)    #is date se 50 din peechey count kr k date btaye ga\n",
    "print(t1+dt)"
   ]
  },
  {
   "cell_type": "code",
   "execution_count": 37,
   "metadata": {},
   "outputs": [
    {
     "name": "stdout",
     "output_type": "stream",
     "text": [
      "Thursday,March 01,2018\n"
     ]
    }
   ],
   "source": [
    "print(t1.strftime('%A,%B %d,%Y'))"
   ]
  },
  {
   "cell_type": "code",
   "execution_count": 43,
   "metadata": {},
   "outputs": [
    {
     "name": "stdout",
     "output_type": "stream",
     "text": [
      "nimo is born on Thursday,March 01,2018\n"
     ]
    }
   ],
   "source": [
    "t1\n",
    "message='nimo is born on {:%A,%B %d,%Y}' #%A for day name,%B month name %d for day of month and %Y for year\n",
    "print(message.format(t1))"
   ]
  },
  {
   "cell_type": "code",
   "execution_count": 41,
   "metadata": {},
   "outputs": [
    {
     "name": "stdout",
     "output_type": "stream",
     "text": [
      "2019-10-27\n",
      "07:12:00\n",
      "2019-10-27 07:12:00\n"
     ]
    }
   ],
   "source": [
    "import datetime\n",
    "celebration_date=datetime.date(2019,10,27)\n",
    "celebration_time=datetime.time(7,12,0)\n",
    "celebration_datetime=datetime.datetime(2019,10,27,7,12,0)\n",
    "\n",
    "print(celebration_date)\n",
    "print(celebration_time)\n",
    "print(celebration_datetime)"
   ]
  },
  {
   "cell_type": "code",
   "execution_count": 48,
   "metadata": {},
   "outputs": [
    {
     "name": "stdout",
     "output_type": "stream",
     "text": [
      "1998-02-08 00:00:00\n"
     ]
    }
   ],
   "source": [
    "celebration='8/2/1998'\n",
    "print(datetime.datetime.strptime(celebration, '%d/%m/%Y'))\n"
   ]
  },
  {
   "cell_type": "code",
   "execution_count": 55,
   "metadata": {},
   "outputs": [
    {
     "name": "stdout",
     "output_type": "stream",
     "text": [
      "2019-10-28 00:00:28.931905\n",
      "2019/10/28, 00/00/28\n",
      "<class 'str'>\n"
     ]
    }
   ],
   "source": [
    "#strftime is to covert the datetime into required format string\n",
    "import datetime\n",
    "curr=datetime.datetime.now()\n",
    "print(curr)\n",
    "print(datetime.datetime.strftime(curr,'%Y/%m/%d, %H/%M/%S'))  #https://www.journaldev.com/23365/python-string-to-datetime-strptime\n",
    "print(type(datetime.datetime.strftime(curr,'%Y/%m/%d, %H/%M/%S')))"
   ]
  },
  {
   "cell_type": "code",
   "execution_count": 59,
   "metadata": {},
   "outputs": [
    {
     "name": "stdout",
     "output_type": "stream",
     "text": [
      "2019/2/3, 2/34/54\n",
      "2019-02-03 02:34:54\n",
      "<class 'datetime.datetime'>\n"
     ]
    }
   ],
   "source": [
    "#strptime is to covert the string into a datetime format (opposite to strftime)\n",
    "import datetime\n",
    "curr='2019/2/3, 2/34/54'\n",
    "print(curr)\n",
    "print(datetime.datetime.strptime(curr,'%Y/%m/%d, %H/%M/%S'))  #https://www.journaldev.com/23365/python-string-to-datetime-strptime\n",
    "print(type(datetime.datetime.strptime(curr,'%Y/%m/%d, %H/%M/%S')))"
   ]
  },
  {
   "cell_type": "code",
   "execution_count": null,
   "metadata": {},
   "outputs": [],
   "source": [
    "Commonly used classes in the datetime module are:\n",
    "\n",
    "date Class\n",
    "time Class\n",
    "datetime Class\n",
    "timedelta Class"
   ]
  },
  {
   "cell_type": "code",
   "execution_count": 75,
   "metadata": {},
   "outputs": [
    {
     "name": "stdout",
     "output_type": "stream",
     "text": [
      "Date = 1970-01-03\n"
     ]
    }
   ],
   "source": [
    "from datetime import date\n",
    "timestamp = date.fromtimestamp(200000)\n",
    "print(\"Date =\", timestamp)"
   ]
  },
  {
   "cell_type": "code",
   "execution_count": 69,
   "metadata": {},
   "outputs": [
    {
     "data": {
      "text/plain": [
       "'2015-06-17 19:03:40'"
      ]
     },
     "execution_count": 69,
     "metadata": {},
     "output_type": "execute_result"
    }
   ],
   "source": [
    "time= {\n",
    "            \"seconds\": 40, \n",
    "            \"year\": 115, \n",
    "            \"month\": 5, \n",
    "            \"hours\": 7, \n",
    "            \"time\": 1434549820776, \n",
    "            \"date\": 17, \n",
    "            \"minutes\": 3, \n",
    "            \"day\": 3, \n",
    "            \"timezoneOffset\": 420\n",
    "        }\n",
    "    \n",
    "    \n",
    "datetime.datetime.fromtimestamp(1434549820776/1000).strftime('%Y-%m-%d %H:%M:%S')"
   ]
  },
  {
   "cell_type": "code",
   "execution_count": 71,
   "metadata": {},
   "outputs": [
    {
     "data": {
      "text/plain": [
       "'2015-06-17 14:03:40'"
      ]
     },
     "execution_count": 71,
     "metadata": {},
     "output_type": "execute_result"
    }
   ],
   "source": [
    "datetime.datetime.utcfromtimestamp(1434549820776/1000).strftime('%Y-%m-%d %H:%M:%S')"
   ]
  },
  {
   "cell_type": "code",
   "execution_count": 85,
   "metadata": {},
   "outputs": [
    {
     "name": "stdout",
     "output_type": "stream",
     "text": [
      "None\n"
     ]
    }
   ],
   "source": [
    "#naive zone is' when there is no time (which is none)'\n",
    "from datetime import datetime\n",
    "dt=datetime(2019,8,2)\n",
    "print(dt.tzinfo)\n",
    "#now to mention the time zone u need to import pytz"
   ]
  },
  {
   "cell_type": "code",
   "execution_count": 92,
   "metadata": {},
   "outputs": [
    {
     "name": "stdout",
     "output_type": "stream",
     "text": [
      "2019-10-28 00:55:04.419049+05:00\n"
     ]
    }
   ],
   "source": [
    "import pytz\n",
    "#print(pytz.all_timezones)   #very large so im commenting it\n",
    "tz_pak=pytz.timezone(\"Asia/Karachi\")\n",
    "dt_pak=datetime.now(tz_pak)\n",
    "print(dt_pak)"
   ]
  },
  {
   "cell_type": "code",
   "execution_count": 96,
   "metadata": {},
   "outputs": [
    {
     "name": "stdout",
     "output_type": "stream",
     "text": [
      "1572206558.949794\n",
      "2019-10-28 01:02:38.949794\n"
     ]
    }
   ],
   "source": [
    "time=datetime.now().timestamp()      #seconds passed from 1/1/1970 till now  #timestamp change from date to seconds\n",
    "print(time)\n",
    "dt=datetime.fromtimestamp(time)     #fromtimestamp changes seconds to date\n",
    "print(dt)"
   ]
  },
  {
   "cell_type": "code",
   "execution_count": 2,
   "metadata": {},
   "outputs": [
    {
     "name": "stdout",
     "output_type": "stream",
     "text": [
      "t3 = 201 days, 0:00:00\n",
      "t6 = -333 days, 1:14:20\n",
      "type of t3 = <class 'datetime.timedelta'>\n",
      "type of t6 = <class 'datetime.timedelta'>\n"
     ]
    }
   ],
   "source": [
    "from datetime import datetime, date\n",
    "t1 = date(year = 2018, month = 7, day = 12)\n",
    "t2 = date(year = 2017, month = 12, day = 23)\n",
    "t3 = t1 - t2\n",
    "print(\"t3 =\", t3)\n",
    "t4 = datetime(year = 2018, month = 7, day = 12, hour = 7, minute = 9, second = 33)\n",
    "t5 = datetime(year = 2019, month = 6, day = 10, hour = 5, minute = 55, second = 13)\n",
    "t6 = t4 - t5\n",
    "print(\"t6 =\", t6)\n",
    "print(\"type of t3 =\", type(t3)) \n",
    "print(\"type of t6 =\", type(t6))"
   ]
  },
  {
   "cell_type": "code",
   "execution_count": 9,
   "metadata": {},
   "outputs": [
    {
     "name": "stdout",
     "output_type": "stream",
     "text": [
      "today: 2019-10-28 19:14:00.462463\n",
      "time_ahead 2 days, 3:15:00\n",
      "total 2019-10-30 22:29:00.462463\n",
      "today: 2019-10-28 19:14:00.463455\n",
      "time_ahead -3 days, 20:45:00\n",
      "total 2019-10-26 15:59:00.463455\n"
     ]
    }
   ],
   "source": [
    "#we have to find the time and  date after 2 days 3 hours 15 minutes\n",
    "from datetime import datetime,timedelta\n",
    "today=datetime.now()\n",
    "time_ahead=timedelta(days=2,hours=3,minutes=15)\n",
    "total=today+time_ahead\n",
    "print('today:',today)\n",
    "print('time_ahead',time_ahead)\n",
    "print('total',total)\n",
    "\n",
    "\n",
    "#we have to find the time and  date before 2 days 3 hours 15 minutes\n",
    "today=datetime.now()\n",
    "time_ahead=timedelta(days=-2,hours=-3,minutes=-15)\n",
    "total=today+time_ahead\n",
    "print('today:',today)\n",
    "print('time_ahead',time_ahead)\n",
    "print('total',total)"
   ]
  },
  {
   "cell_type": "code",
   "execution_count": 11,
   "metadata": {},
   "outputs": [
    {
     "name": "stdout",
     "output_type": "stream",
     "text": [
      "2019-10-28\n",
      "d1 = 28/10/2019\n",
      "d2 = October 28, 2019\n",
      "d3 = 10/28/19\n",
      "d4 = Oct-28-2019\n"
     ]
    }
   ],
   "source": [
    "from datetime import date\n",
    "today = date.today()\n",
    "print(today)\n",
    "# dd/mm/YY\n",
    "d1 = today.strftime(\"%d/%m/%Y\")\n",
    "print(\"d1 =\", d1)\n",
    "# Textual month, day and year\t\n",
    "d2 = today.strftime(\"%B %d, %Y\")\n",
    "print(\"d2 =\", d2)\n",
    "# mm/dd/y\n",
    "d3 = today.strftime(\"%m/%d/%y\")\n",
    "print(\"d3 =\", d3)\n",
    "# Month abbreviation, day and year\t\n",
    "d4 = today.strftime(\"%b-%d-%Y\")\n",
    "print(\"d4 =\", d4)"
   ]
  },
  {
   "cell_type": "code",
   "execution_count": 2,
   "metadata": {},
   "outputs": [
    {
     "ename": "AttributeError",
     "evalue": "type object 'datetime.date' has no attribute 'now'",
     "output_type": "error",
     "traceback": [
      "\u001b[1;31m---------------------------------------------------------------------------\u001b[0m",
      "\u001b[1;31mAttributeError\u001b[0m                            Traceback (most recent call last)",
      "\u001b[1;32m<ipython-input-2-b214a3496f91>\u001b[0m in \u001b[0;36m<module>\u001b[1;34m\u001b[0m\n\u001b[0;32m      1\u001b[0m \u001b[1;32mfrom\u001b[0m \u001b[0mdatetime\u001b[0m \u001b[1;32mimport\u001b[0m \u001b[0mdate\u001b[0m\u001b[1;33m\u001b[0m\u001b[1;33m\u001b[0m\u001b[0m\n\u001b[0;32m      2\u001b[0m \u001b[0ma\u001b[0m\u001b[1;33m=\u001b[0m\u001b[0mdate\u001b[0m\u001b[1;33m.\u001b[0m\u001b[0mtoday\u001b[0m\u001b[1;33m(\u001b[0m\u001b[1;33m)\u001b[0m\u001b[1;33m\u001b[0m\u001b[1;33m\u001b[0m\u001b[0m\n\u001b[1;32m----> 3\u001b[1;33m \u001b[0mb\u001b[0m\u001b[1;33m=\u001b[0m\u001b[0mdate\u001b[0m\u001b[1;33m.\u001b[0m\u001b[0mnow\u001b[0m\u001b[1;33m(\u001b[0m\u001b[1;33m)\u001b[0m\u001b[1;33m\u001b[0m\u001b[1;33m\u001b[0m\u001b[0m\n\u001b[0m\u001b[0;32m      4\u001b[0m \u001b[1;33m\u001b[0m\u001b[0m\n\u001b[0;32m      5\u001b[0m \u001b[0mprint\u001b[0m\u001b[1;33m(\u001b[0m\u001b[0ma\u001b[0m\u001b[1;33m)\u001b[0m\u001b[1;33m;\u001b[0m \u001b[0mprint\u001b[0m\u001b[1;33m(\u001b[0m\u001b[0mb\u001b[0m\u001b[1;33m)\u001b[0m\u001b[1;33m\u001b[0m\u001b[1;33m\u001b[0m\u001b[0m\n",
      "\u001b[1;31mAttributeError\u001b[0m: type object 'datetime.date' has no attribute 'now'"
     ]
    }
   ],
   "source": [
    "from datetime import date\n",
    "a=date.today()\n",
    "b=date.now()\n",
    "\n",
    "print(a); print(b)"
   ]
  },
  {
   "cell_type": "code",
   "execution_count": 25,
   "metadata": {},
   "outputs": [
    {
     "name": "stdout",
     "output_type": "stream",
     "text": [
      "now = 2019-10-28 20:16:11.182741\n"
     ]
    }
   ],
   "source": [
    "from datetime import datetime\n",
    "# datetime object containing current date and time\n",
    "now = datetime.now()\n",
    " \n",
    "print(\"now =\", now)"
   ]
  },
  {
   "cell_type": "code",
   "execution_count": 3,
   "metadata": {},
   "outputs": [
    {
     "name": "stdout",
     "output_type": "stream",
     "text": [
      "now = 20:28:02.333006\n",
      "type(now) = <class 'datetime.time'>\n"
     ]
    }
   ],
   "source": [
    "from datetime import datetime\n",
    "now = datetime.now().time() # time object\n",
    "print(\"now =\", now)\n",
    "print(\"type(now) =\", type(now))\t"
   ]
  },
  {
   "cell_type": "code",
   "execution_count": 12,
   "metadata": {},
   "outputs": [
    {
     "name": "stdout",
     "output_type": "stream",
     "text": [
      "time.struct_time(tm_year=2019, tm_mon=10, tm_mday=28, tm_hour=20, tm_min=31, tm_sec=28, tm_wday=0, tm_yday=301, tm_isdst=0)\n",
      "20:31:28\n"
     ]
    }
   ],
   "source": [
    "import time\n",
    "t=time.localtime()\n",
    "print(t)\n",
    "current_time = time.strftime(\"%H:%M:%S\", t)\n",
    "print(current_time)"
   ]
  },
  {
   "cell_type": "code",
   "execution_count": 13,
   "metadata": {},
   "outputs": [
    {
     "name": "stdout",
     "output_type": "stream",
     "text": [
      "Seconds since epoch = 1572276945.0331452\n"
     ]
    }
   ],
   "source": [
    "import time\n",
    "seconds = time.time()\n",
    "print(\"Seconds since epoch =\", seconds)"
   ]
  },
  {
   "cell_type": "code",
   "execution_count": 14,
   "metadata": {},
   "outputs": [
    {
     "name": "stdout",
     "output_type": "stream",
     "text": [
      "Local time: Thu Dec 27 20:49:29 2018\n"
     ]
    }
   ],
   "source": [
    "import time\n",
    "# seconds passed since epoch\n",
    "seconds = 1545925769.9618232\n",
    "local_time = time.ctime(seconds)\n",
    "print(\"Local time:\", local_time)"
   ]
  },
  {
   "cell_type": "code",
   "execution_count": 15,
   "metadata": {},
   "outputs": [
    {
     "name": "stdout",
     "output_type": "stream",
     "text": [
      "This is printed immediately.\n",
      "This is printed after 2.4 seconds.\n"
     ]
    }
   ],
   "source": [
    "import time\n",
    "print(\"This is printed immediately.\")\n",
    "time.sleep(2.4)\n",
    "print(\"This is printed after 2.4 seconds.\")"
   ]
  },
  {
   "cell_type": "code",
   "execution_count": 3,
   "metadata": {},
   "outputs": [
    {
     "name": "stdout",
     "output_type": "stream",
     "text": [
      "math.floor(-23.11) :  -24\n",
      "math.floor(300.16) :  300\n",
      "math.floor(300.72) :  300\n"
     ]
    }
   ],
   "source": [
    "# Python program to demonstrate the use of floor() method \n",
    "\n",
    "# This will import math module \n",
    "import math \n",
    "\n",
    "# prints the ceil using floor() method \n",
    "print ('math.floor(-23.11) : ', math.floor(-23.11)) \n",
    "print (\"math.floor(300.16) : \", math.floor(300.16) )\n",
    "print (\"math.floor(300.72) : \", math.floor(300.72)) \n"
   ]
  },
  {
   "cell_type": "code",
   "execution_count": 9,
   "metadata": {},
   "outputs": [
    {
     "data": {
      "text/plain": [
       "list"
      ]
     },
     "execution_count": 9,
     "metadata": {},
     "output_type": "execute_result"
    }
   ],
   "source": [
    "x2 = list({1,'apple',3}) #yahan ander waley bracket koi bhi hon round squrae ya curly  result same aye ga yani list bney gi\n",
    "type(x2)"
   ]
  },
  {
   "cell_type": "code",
   "execution_count": 10,
   "metadata": {},
   "outputs": [
    {
     "name": "stdout",
     "output_type": "stream",
     "text": [
      "[3, 1, 'apple']\n"
     ]
    }
   ],
   "source": [
    "print(x2)"
   ]
  },
  {
   "cell_type": "code",
   "execution_count": null,
   "metadata": {},
   "outputs": [],
   "source": [
    "print(x_set|y_set) #this work as union\n",
    "print(x_set & y_set) #this work as intersection"
   ]
  },
  {
   "cell_type": "code",
   "execution_count": null,
   "metadata": {},
   "outputs": [],
   "source": [
    "#Files\n",
    "\n",
    "#Files are traditionally a part of data structures.\n",
    "#And although big data is commonplace in the data science industry,\n",
    "#a programming language without the capability to store and retrieve\n",
    "#previously stored information would hardly be useful. You still have\n",
    "#to make use of the all the data sitting in files across databases and\n",
    "#you will learn how to do this.\n",
    "\n",
    "#The syntax to read and write files in Python is similar to other \n",
    "#programming languages but a lot easier to handle. Here are some of\n",
    "#the basic functions that will help you to work with files using Python:\n",
    "\n",
    "#open()       to open files in your system, the filename is the name of the file to be opened;\n",
    "#read()       to read entire files;\n",
    "#readline()   to read one line at a time;\n",
    "#write()      to write a string to a file, and return the number of characters written; And\n",
    "#close()      to close the file.\n",
    "\n",
    "\n",
    "# File modes (2nd argument): 'r'(read), 'w'(write), 'a'(appending), 'r+'(both reading and writing)\n",
    "f = open('file_name', 'w')\n",
    "\n",
    "# Reads entire file\n",
    "f.read() \n",
    "\n",
    "# Reads one line at a time\n",
    "f.readline() \n",
    "\n",
    "# Writes the string to the file, returning the number of char written\n",
    "f.write('Add this line.') \n",
    "\n",
    "f.close()\n",
    "\n",
    "#The second argument in the open() function is the file mode. It allows you to specify whether \n",
    "#you want to read (r), write (w), append (a) or both read and write (r+).\n",
    "#To learn more about file handling in Python, be sure to check out this page."
   ]
  },
  {
   "cell_type": "markdown",
   "metadata": {},
   "source": [
    "# file"
   ]
  },
  {
   "cell_type": "code",
   "execution_count": 1,
   "metadata": {},
   "outputs": [
    {
     "name": "stdout",
     "output_type": "stream",
     "text": [
      " 'r' is for read ,'w' is for write but in this way previous data will be lost so to append 'a' is used \n",
      "False\n"
     ]
    }
   ],
   "source": [
    "f=open('how.txt','r')-------------------------------------------------------------------------------\n",
    "print(f.read())-----------------------------------------------------------------------------------------------------------------------------------------------------------------------------------------------------------------------------------------------------------------------------------------------------------------------------------------------------------------------------------------------------------------------------------\n",
    "print(f.isatty())--------------------------------------------------------------------------------------------------------------------------------------------------------------------------------------------------------------------------------------------------------------------------------------------------------------------------------------------------------------------------------------------------------------------------------------------------------------------------------------------------------------------------------------------------------------------------------------------------------------------------------------------------------------------------------------------------\n",
    "f.close()"
   ]
  },
  {
   "cell_type": "code",
   "execution_count": 21,
   "metadata": {},
   "outputs": [],
   "source": [
    "#f=open----------------------------------------------------------------------------------------------------------------------------------------------------------------------------------------------------------------------------------------------------------------------------------------------------------------------------------------------------------------------------------------------------------------------------------------------------------------------------------------------------------------------------------------------------------------------------------------------------------------------------------------------------------------------------------------------------------------------------------------------------------------------------------------------------------------------------------------------------------------------------------------------------------------------------------------------------------------------------------------------------------------------------------------------------------------------------------------------------------------------------------------------------------------------------------------------------------------------------------------------------------------------------------------------------------------------------------------------------------------------------------------------------------------------------------------------------------------------------------------------------------------------------------------------------------------------------------------------------------------------------------------------------------------------------------------------------------------------------------------------------------------------------------------------------------------------------------------------------------------------------------------------------------------------------------------------------------------------------------------------------------------------------------------------------------------------------------------------------------------------------------------------------------------------------------------------------------------------------------------------------------------------------------------------------------------------------------------------------------------------------------------------------------------------------------------------------------------------------------------------------------------------------------------------------------------------------------------------------------------------('how.txt','w')\n",
    "#print(f.write(\" 'r' is for read ,'w' is for write but in this way previous data will be lost so to append 'a' is used \"))"
   ]
  },
  {
   "cell_type": "code",
   "execution_count": 40,
   "metadata": {},
   "outputs": [],
   "source": [
    "b=open('abc.txt','w')\n",
    "for data in f:\n",
    "    b.write(data)   #it will copy the data from how.txt to abc.txt\n",
    "b.close()"
   ]
  },
  {
   "cell_type": "code",
   "execution_count": 38,
   "metadata": {},
   "outputs": [
    {
     "name": "stdout",
     "output_type": "stream",
     "text": [
      "<_io.BufferedReader name='symbol.jpg'>\n",
      "<_io.BufferedReader name='symbol.jpg'>\n",
      "<_io.BufferedReader name='symbol.jpg'>\n",
      "<_io.BufferedReader name='symbol.jpg'>\n",
      "<_io.BufferedReader name='symbol.jpg'>\n",
      "<_io.BufferedReader name='symbol.jpg'>\n",
      "<_io.BufferedReader name='symbol.jpg'>\n",
      "<_io.BufferedReader name='symbol.jpg'>\n",
      "<_io.BufferedReader name='symbol.jpg'>\n",
      "<_io.BufferedReader name='symbol.jpg'>\n",
      "<_io.BufferedReader name='symbol.jpg'>\n",
      "<_io.BufferedReader name='symbol.jpg'>\n",
      "<_io.BufferedReader name='symbol.jpg'>\n",
      "<_io.BufferedReader name='symbol.jpg'>\n",
      "<_io.BufferedReader name='symbol.jpg'>\n",
      "<_io.BufferedReader name='symbol.jpg'>\n",
      "<_io.BufferedReader name='symbol.jpg'>\n",
      "<_io.BufferedReader name='symbol.jpg'>\n",
      "<_io.BufferedReader name='symbol.jpg'>\n",
      "<_io.BufferedReader name='symbol.jpg'>\n",
      "<_io.BufferedReader name='symbol.jpg'>\n",
      "<_io.BufferedReader name='symbol.jpg'>\n",
      "<_io.BufferedReader name='symbol.jpg'>\n",
      "<_io.BufferedReader name='symbol.jpg'>\n",
      "<_io.BufferedReader name='symbol.jpg'>\n",
      "<_io.BufferedReader name='symbol.jpg'>\n",
      "<_io.BufferedReader name='symbol.jpg'>\n",
      "<_io.BufferedReader name='symbol.jpg'>\n",
      "<_io.BufferedReader name='symbol.jpg'>\n",
      "<_io.BufferedReader name='symbol.jpg'>\n",
      "<_io.BufferedReader name='symbol.jpg'>\n",
      "<_io.BufferedReader name='symbol.jpg'>\n",
      "<_io.BufferedReader name='symbol.jpg'>\n",
      "<_io.BufferedReader name='symbol.jpg'>\n",
      "<_io.BufferedReader name='symbol.jpg'>\n",
      "<_io.BufferedReader name='symbol.jpg'>\n",
      "<_io.BufferedReader name='symbol.jpg'>\n",
      "<_io.BufferedReader name='symbol.jpg'>\n",
      "<_io.BufferedReader name='symbol.jpg'>\n",
      "<_io.BufferedReader name='symbol.jpg'>\n",
      "<_io.BufferedReader name='symbol.jpg'>\n",
      "<_io.BufferedReader name='symbol.jpg'>\n",
      "<_io.BufferedReader name='symbol.jpg'>\n",
      "<_io.BufferedReader name='symbol.jpg'>\n",
      "<_io.BufferedReader name='symbol.jpg'>\n",
      "<_io.BufferedReader name='symbol.jpg'>\n",
      "<_io.BufferedReader name='symbol.jpg'>\n",
      "<_io.BufferedReader name='symbol.jpg'>\n",
      "<_io.BufferedReader name='symbol.jpg'>\n",
      "<_io.BufferedReader name='symbol.jpg'>\n",
      "<_io.BufferedReader name='symbol.jpg'>\n",
      "<_io.BufferedReader name='symbol.jpg'>\n",
      "<_io.BufferedReader name='symbol.jpg'>\n",
      "<_io.BufferedReader name='symbol.jpg'>\n",
      "<_io.BufferedReader name='symbol.jpg'>\n",
      "<_io.BufferedReader name='symbol.jpg'>\n",
      "<_io.BufferedReader name='symbol.jpg'>\n",
      "<_io.BufferedReader name='symbol.jpg'>\n",
      "<_io.BufferedReader name='symbol.jpg'>\n",
      "<_io.BufferedReader name='symbol.jpg'>\n",
      "<_io.BufferedReader name='symbol.jpg'>\n",
      "<_io.BufferedReader name='symbol.jpg'>\n",
      "<_io.BufferedReader name='symbol.jpg'>\n",
      "<_io.BufferedReader name='symbol.jpg'>\n",
      "<_io.BufferedReader name='symbol.jpg'>\n",
      "<_io.BufferedReader name='symbol.jpg'>\n",
      "<_io.BufferedReader name='symbol.jpg'>\n",
      "<_io.BufferedReader name='symbol.jpg'>\n",
      "<_io.BufferedReader name='symbol.jpg'>\n",
      "<_io.BufferedReader name='symbol.jpg'>\n",
      "<_io.BufferedReader name='symbol.jpg'>\n",
      "<_io.BufferedReader name='symbol.jpg'>\n",
      "<_io.BufferedReader name='symbol.jpg'>\n",
      "<_io.BufferedReader name='symbol.jpg'>\n",
      "<_io.BufferedReader name='symbol.jpg'>\n",
      "<_io.BufferedReader name='symbol.jpg'>\n",
      "<_io.BufferedReader name='symbol.jpg'>\n",
      "<_io.BufferedReader name='symbol.jpg'>\n",
      "<_io.BufferedReader name='symbol.jpg'>\n",
      "<_io.BufferedReader name='symbol.jpg'>\n",
      "<_io.BufferedReader name='symbol.jpg'>\n",
      "<_io.BufferedReader name='symbol.jpg'>\n",
      "<_io.BufferedReader name='symbol.jpg'>\n",
      "<_io.BufferedReader name='symbol.jpg'>\n",
      "<_io.BufferedReader name='symbol.jpg'>\n",
      "<_io.BufferedReader name='symbol.jpg'>\n",
      "<_io.BufferedReader name='symbol.jpg'>\n",
      "<_io.BufferedReader name='symbol.jpg'>\n",
      "<_io.BufferedReader name='symbol.jpg'>\n",
      "<_io.BufferedReader name='symbol.jpg'>\n",
      "<_io.BufferedReader name='symbol.jpg'>\n",
      "<_io.BufferedReader name='symbol.jpg'>\n",
      "<_io.BufferedReader name='symbol.jpg'>\n",
      "<_io.BufferedReader name='symbol.jpg'>\n",
      "<_io.BufferedReader name='symbol.jpg'>\n",
      "<_io.BufferedReader name='symbol.jpg'>\n",
      "<_io.BufferedReader name='symbol.jpg'>\n",
      "<_io.BufferedReader name='symbol.jpg'>\n",
      "<_io.BufferedReader name='symbol.jpg'>\n",
      "<_io.BufferedReader name='symbol.jpg'>\n",
      "<_io.BufferedReader name='symbol.jpg'>\n",
      "<_io.BufferedReader name='symbol.jpg'>\n",
      "<_io.BufferedReader name='symbol.jpg'>\n",
      "<_io.BufferedReader name='symbol.jpg'>\n",
      "<_io.BufferedReader name='symbol.jpg'>\n",
      "<_io.BufferedReader name='symbol.jpg'>\n",
      "<_io.BufferedReader name='symbol.jpg'>\n",
      "<_io.BufferedReader name='symbol.jpg'>\n",
      "<_io.BufferedReader name='symbol.jpg'>\n",
      "<_io.BufferedReader name='symbol.jpg'>\n",
      "<_io.BufferedReader name='symbol.jpg'>\n",
      "<_io.BufferedReader name='symbol.jpg'>\n",
      "<_io.BufferedReader name='symbol.jpg'>\n",
      "<_io.BufferedReader name='symbol.jpg'>\n",
      "<_io.BufferedReader name='symbol.jpg'>\n",
      "<_io.BufferedReader name='symbol.jpg'>\n",
      "<_io.BufferedReader name='symbol.jpg'>\n",
      "<_io.BufferedReader name='symbol.jpg'>\n",
      "<_io.BufferedReader name='symbol.jpg'>\n",
      "<_io.BufferedReader name='symbol.jpg'>\n",
      "<_io.BufferedReader name='symbol.jpg'>\n",
      "<_io.BufferedReader name='symbol.jpg'>\n",
      "<_io.BufferedReader name='symbol.jpg'>\n",
      "<_io.BufferedReader name='symbol.jpg'>\n",
      "<_io.BufferedReader name='symbol.jpg'>\n",
      "<_io.BufferedReader name='symbol.jpg'>\n",
      "<_io.BufferedReader name='symbol.jpg'>\n",
      "<_io.BufferedReader name='symbol.jpg'>\n",
      "<_io.BufferedReader name='symbol.jpg'>\n",
      "<_io.BufferedReader name='symbol.jpg'>\n",
      "<_io.BufferedReader name='symbol.jpg'>\n",
      "<_io.BufferedReader name='symbol.jpg'>\n",
      "<_io.BufferedReader name='symbol.jpg'>\n",
      "<_io.BufferedReader name='symbol.jpg'>\n",
      "<_io.BufferedReader name='symbol.jpg'>\n",
      "<_io.BufferedReader name='symbol.jpg'>\n",
      "<_io.BufferedReader name='symbol.jpg'>\n",
      "<_io.BufferedReader name='symbol.jpg'>\n",
      "<_io.BufferedReader name='symbol.jpg'>\n",
      "<_io.BufferedReader name='symbol.jpg'>\n",
      "<_io.BufferedReader name='symbol.jpg'>\n",
      "<_io.BufferedReader name='symbol.jpg'>\n",
      "<_io.BufferedReader name='symbol.jpg'>\n",
      "<_io.BufferedReader name='symbol.jpg'>\n",
      "<_io.BufferedReader name='symbol.jpg'>\n",
      "<_io.BufferedReader name='symbol.jpg'>\n",
      "<_io.BufferedReader name='symbol.jpg'>\n",
      "<_io.BufferedReader name='symbol.jpg'>\n",
      "<_io.BufferedReader name='symbol.jpg'>\n",
      "<_io.BufferedReader name='symbol.jpg'>\n",
      "<_io.BufferedReader name='symbol.jpg'>\n",
      "<_io.BufferedReader name='symbol.jpg'>\n",
      "<_io.BufferedReader name='symbol.jpg'>\n",
      "<_io.BufferedReader name='symbol.jpg'>\n",
      "<_io.BufferedReader name='symbol.jpg'>\n",
      "<_io.BufferedReader name='symbol.jpg'>\n",
      "<_io.BufferedReader name='symbol.jpg'>\n",
      "<_io.BufferedReader name='symbol.jpg'>\n",
      "<_io.BufferedReader name='symbol.jpg'>\n",
      "<_io.BufferedReader name='symbol.jpg'>\n",
      "<_io.BufferedReader name='symbol.jpg'>\n",
      "<_io.BufferedReader name='symbol.jpg'>\n",
      "<_io.BufferedReader name='symbol.jpg'>\n",
      "<_io.BufferedReader name='symbol.jpg'>\n",
      "<_io.BufferedReader name='symbol.jpg'>\n",
      "<_io.BufferedReader name='symbol.jpg'>\n",
      "<_io.BufferedReader name='symbol.jpg'>\n",
      "<_io.BufferedReader name='symbol.jpg'>\n",
      "<_io.BufferedReader name='symbol.jpg'>\n",
      "<_io.BufferedReader name='symbol.jpg'>\n",
      "<_io.BufferedReader name='symbol.jpg'>\n",
      "<_io.BufferedReader name='symbol.jpg'>\n",
      "<_io.BufferedReader name='symbol.jpg'>\n",
      "<_io.BufferedReader name='symbol.jpg'>\n",
      "<_io.BufferedReader name='symbol.jpg'>\n",
      "<_io.BufferedReader name='symbol.jpg'>\n",
      "<_io.BufferedReader name='symbol.jpg'>\n",
      "<_io.BufferedReader name='symbol.jpg'>\n",
      "<_io.BufferedReader name='symbol.jpg'>\n",
      "<_io.BufferedReader name='symbol.jpg'>\n",
      "<_io.BufferedReader name='symbol.jpg'>\n",
      "<_io.BufferedReader name='symbol.jpg'>\n",
      "<_io.BufferedReader name='symbol.jpg'>\n",
      "<_io.BufferedReader name='symbol.jpg'>\n",
      "<_io.BufferedReader name='symbol.jpg'>\n",
      "<_io.BufferedReader name='symbol.jpg'>\n",
      "<_io.BufferedReader name='symbol.jpg'>\n",
      "<_io.BufferedReader name='symbol.jpg'>\n",
      "<_io.BufferedReader name='symbol.jpg'>\n",
      "<_io.BufferedReader name='symbol.jpg'>\n",
      "<_io.BufferedReader name='symbol.jpg'>\n",
      "<_io.BufferedReader name='symbol.jpg'>\n",
      "<_io.BufferedReader name='symbol.jpg'>\n",
      "<_io.BufferedReader name='symbol.jpg'>\n",
      "<_io.BufferedReader name='symbol.jpg'>\n",
      "<_io.BufferedReader name='symbol.jpg'>\n",
      "<_io.BufferedReader name='symbol.jpg'>\n",
      "<_io.BufferedReader name='symbol.jpg'>\n",
      "<_io.BufferedReader name='symbol.jpg'>\n",
      "<_io.BufferedReader name='symbol.jpg'>\n",
      "<_io.BufferedReader name='symbol.jpg'>\n",
      "<_io.BufferedReader name='symbol.jpg'>\n",
      "<_io.BufferedReader name='symbol.jpg'>\n",
      "<_io.BufferedReader name='symbol.jpg'>\n",
      "<_io.BufferedReader name='symbol.jpg'>\n",
      "<_io.BufferedReader name='symbol.jpg'>\n",
      "<_io.BufferedReader name='symbol.jpg'>\n",
      "<_io.BufferedReader name='symbol.jpg'>\n",
      "<_io.BufferedReader name='symbol.jpg'>\n",
      "<_io.BufferedReader name='symbol.jpg'>\n",
      "<_io.BufferedReader name='symbol.jpg'>\n",
      "<_io.BufferedReader name='symbol.jpg'>\n",
      "<_io.BufferedReader name='symbol.jpg'>\n",
      "<_io.BufferedReader name='symbol.jpg'>\n",
      "<_io.BufferedReader name='symbol.jpg'>\n",
      "<_io.BufferedReader name='symbol.jpg'>\n",
      "<_io.BufferedReader name='symbol.jpg'>\n",
      "<_io.BufferedReader name='symbol.jpg'>\n",
      "<_io.BufferedReader name='symbol.jpg'>\n",
      "<_io.BufferedReader name='symbol.jpg'>\n",
      "<_io.BufferedReader name='symbol.jpg'>\n",
      "<_io.BufferedReader name='symbol.jpg'>\n",
      "<_io.BufferedReader name='symbol.jpg'>\n",
      "<_io.BufferedReader name='symbol.jpg'>\n",
      "<_io.BufferedReader name='symbol.jpg'>\n",
      "<_io.BufferedReader name='symbol.jpg'>\n",
      "<_io.BufferedReader name='symbol.jpg'>\n",
      "<_io.BufferedReader name='symbol.jpg'>\n",
      "<_io.BufferedReader name='symbol.jpg'>\n",
      "<_io.BufferedReader name='symbol.jpg'>\n",
      "<_io.BufferedReader name='symbol.jpg'>\n",
      "<_io.BufferedReader name='symbol.jpg'>\n",
      "<_io.BufferedReader name='symbol.jpg'>\n",
      "<_io.BufferedReader name='symbol.jpg'>\n",
      "<_io.BufferedReader name='symbol.jpg'>\n",
      "<_io.BufferedReader name='symbol.jpg'>\n",
      "<_io.BufferedReader name='symbol.jpg'>\n",
      "<_io.BufferedReader name='symbol.jpg'>\n",
      "<_io.BufferedReader name='symbol.jpg'>\n",
      "<_io.BufferedReader name='symbol.jpg'>\n",
      "<_io.BufferedReader name='symbol.jpg'>\n",
      "<_io.BufferedReader name='symbol.jpg'>\n",
      "<_io.BufferedReader name='symbol.jpg'>\n",
      "<_io.BufferedReader name='symbol.jpg'>\n",
      "<_io.BufferedReader name='symbol.jpg'>\n",
      "<_io.BufferedReader name='symbol.jpg'>\n",
      "<_io.BufferedReader name='symbol.jpg'>\n",
      "<_io.BufferedReader name='symbol.jpg'>\n",
      "<_io.BufferedReader name='symbol.jpg'>\n",
      "<_io.BufferedReader name='symbol.jpg'>\n",
      "<_io.BufferedReader name='symbol.jpg'>\n",
      "<_io.BufferedReader name='symbol.jpg'>\n",
      "<_io.BufferedReader name='symbol.jpg'>\n",
      "<_io.BufferedReader name='symbol.jpg'>\n",
      "<_io.BufferedReader name='symbol.jpg'>\n",
      "<_io.BufferedReader name='symbol.jpg'>\n",
      "<_io.BufferedReader name='symbol.jpg'>\n",
      "<_io.BufferedReader name='symbol.jpg'>\n",
      "<_io.BufferedReader name='symbol.jpg'>\n",
      "<_io.BufferedReader name='symbol.jpg'>\n",
      "<_io.BufferedReader name='symbol.jpg'>\n",
      "<_io.BufferedReader name='symbol.jpg'>\n",
      "<_io.BufferedReader name='symbol.jpg'>\n",
      "<_io.BufferedReader name='symbol.jpg'>\n",
      "<_io.BufferedReader name='symbol.jpg'>\n",
      "<_io.BufferedReader name='symbol.jpg'>\n",
      "<_io.BufferedReader name='symbol.jpg'>\n",
      "<_io.BufferedReader name='symbol.jpg'>\n",
      "<_io.BufferedReader name='symbol.jpg'>\n",
      "<_io.BufferedReader name='symbol.jpg'>\n",
      "<_io.BufferedReader name='symbol.jpg'>\n",
      "<_io.BufferedReader name='symbol.jpg'>\n",
      "<_io.BufferedReader name='symbol.jpg'>\n",
      "<_io.BufferedReader name='symbol.jpg'>\n",
      "<_io.BufferedReader name='symbol.jpg'>\n",
      "<_io.BufferedReader name='symbol.jpg'>\n",
      "<_io.BufferedReader name='symbol.jpg'>\n",
      "<_io.BufferedReader name='symbol.jpg'>\n",
      "<_io.BufferedReader name='symbol.jpg'>\n",
      "<_io.BufferedReader name='symbol.jpg'>\n",
      "<_io.BufferedReader name='symbol.jpg'>\n",
      "<_io.BufferedReader name='symbol.jpg'>\n",
      "<_io.BufferedReader name='symbol.jpg'>\n",
      "<_io.BufferedReader name='symbol.jpg'>\n",
      "<_io.BufferedReader name='symbol.jpg'>\n",
      "<_io.BufferedReader name='symbol.jpg'>\n",
      "<_io.BufferedReader name='symbol.jpg'>\n",
      "<_io.BufferedReader name='symbol.jpg'>\n",
      "<_io.BufferedReader name='symbol.jpg'>\n",
      "<_io.BufferedReader name='symbol.jpg'>\n",
      "<_io.BufferedReader name='symbol.jpg'>\n",
      "<_io.BufferedReader name='symbol.jpg'>\n",
      "<_io.BufferedReader name='symbol.jpg'>\n",
      "<_io.BufferedReader name='symbol.jpg'>\n",
      "<_io.BufferedReader name='symbol.jpg'>\n",
      "<_io.BufferedReader name='symbol.jpg'>\n",
      "<_io.BufferedReader name='symbol.jpg'>\n",
      "<_io.BufferedReader name='symbol.jpg'>\n",
      "<_io.BufferedReader name='symbol.jpg'>\n",
      "<_io.BufferedReader name='symbol.jpg'>\n",
      "<_io.BufferedReader name='symbol.jpg'>\n",
      "<_io.BufferedReader name='symbol.jpg'>\n",
      "<_io.BufferedReader name='symbol.jpg'>\n",
      "<_io.BufferedReader name='symbol.jpg'>\n",
      "<_io.BufferedReader name='symbol.jpg'>\n",
      "<_io.BufferedReader name='symbol.jpg'>\n",
      "<_io.BufferedReader name='symbol.jpg'>\n",
      "<_io.BufferedReader name='symbol.jpg'>\n",
      "<_io.BufferedReader name='symbol.jpg'>\n",
      "<_io.BufferedReader name='symbol.jpg'>\n",
      "<_io.BufferedReader name='symbol.jpg'>\n",
      "<_io.BufferedReader name='symbol.jpg'>\n",
      "<_io.BufferedReader name='symbol.jpg'>\n",
      "<_io.BufferedReader name='symbol.jpg'>\n",
      "<_io.BufferedReader name='symbol.jpg'>\n",
      "<_io.BufferedReader name='symbol.jpg'>\n",
      "<_io.BufferedReader name='symbol.jpg'>\n",
      "<_io.BufferedReader name='symbol.jpg'>\n",
      "<_io.BufferedReader name='symbol.jpg'>\n",
      "<_io.BufferedReader name='symbol.jpg'>\n",
      "<_io.BufferedReader name='symbol.jpg'>\n",
      "<_io.BufferedReader name='symbol.jpg'>\n",
      "<_io.BufferedReader name='symbol.jpg'>\n",
      "<_io.BufferedReader name='symbol.jpg'>\n",
      "<_io.BufferedReader name='symbol.jpg'>\n",
      "<_io.BufferedReader name='symbol.jpg'>\n",
      "<_io.BufferedReader name='symbol.jpg'>\n",
      "<_io.BufferedReader name='symbol.jpg'>\n",
      "<_io.BufferedReader name='symbol.jpg'>\n",
      "<_io.BufferedReader name='symbol.jpg'>\n",
      "<_io.BufferedReader name='symbol.jpg'>\n",
      "<_io.BufferedReader name='symbol.jpg'>\n",
      "<_io.BufferedReader name='symbol.jpg'>\n",
      "<_io.BufferedReader name='symbol.jpg'>\n",
      "<_io.BufferedReader name='symbol.jpg'>\n",
      "<_io.BufferedReader name='symbol.jpg'>\n",
      "<_io.BufferedReader name='symbol.jpg'>\n",
      "<_io.BufferedReader name='symbol.jpg'>\n",
      "<_io.BufferedReader name='symbol.jpg'>\n",
      "<_io.BufferedReader name='symbol.jpg'>\n",
      "<_io.BufferedReader name='symbol.jpg'>\n",
      "<_io.BufferedReader name='symbol.jpg'>\n",
      "<_io.BufferedReader name='symbol.jpg'>\n",
      "<_io.BufferedReader name='symbol.jpg'>\n",
      "<_io.BufferedReader name='symbol.jpg'>\n",
      "<_io.BufferedReader name='symbol.jpg'>\n",
      "<_io.BufferedReader name='symbol.jpg'>\n",
      "<_io.BufferedReader name='symbol.jpg'>\n",
      "<_io.BufferedReader name='symbol.jpg'>\n",
      "<_io.BufferedReader name='symbol.jpg'>\n",
      "<_io.BufferedReader name='symbol.jpg'>\n",
      "<_io.BufferedReader name='symbol.jpg'>\n",
      "<_io.BufferedReader name='symbol.jpg'>\n",
      "<_io.BufferedReader name='symbol.jpg'>\n",
      "<_io.BufferedReader name='symbol.jpg'>\n",
      "<_io.BufferedReader name='symbol.jpg'>\n",
      "<_io.BufferedReader name='symbol.jpg'>\n",
      "<_io.BufferedReader name='symbol.jpg'>\n",
      "<_io.BufferedReader name='symbol.jpg'>\n",
      "<_io.BufferedReader name='symbol.jpg'>\n",
      "<_io.BufferedReader name='symbol.jpg'>\n",
      "<_io.BufferedReader name='symbol.jpg'>\n",
      "<_io.BufferedReader name='symbol.jpg'>\n",
      "<_io.BufferedReader name='symbol.jpg'>\n",
      "<_io.BufferedReader name='symbol.jpg'>\n",
      "<_io.BufferedReader name='symbol.jpg'>\n",
      "<_io.BufferedReader name='symbol.jpg'>\n",
      "<_io.BufferedReader name='symbol.jpg'>\n",
      "<_io.BufferedReader name='symbol.jpg'>\n",
      "<_io.BufferedReader name='symbol.jpg'>\n",
      "<_io.BufferedReader name='symbol.jpg'>\n",
      "<_io.BufferedReader name='symbol.jpg'>\n",
      "<_io.BufferedReader name='symbol.jpg'>\n",
      "<_io.BufferedReader name='symbol.jpg'>\n",
      "<_io.BufferedReader name='symbol.jpg'>\n",
      "<_io.BufferedReader name='symbol.jpg'>\n",
      "<_io.BufferedReader name='symbol.jpg'>\n",
      "<_io.BufferedReader name='symbol.jpg'>\n",
      "<_io.BufferedReader name='symbol.jpg'>\n",
      "<_io.BufferedReader name='symbol.jpg'>\n",
      "<_io.BufferedReader name='symbol.jpg'>\n",
      "<_io.BufferedReader name='symbol.jpg'>\n",
      "<_io.BufferedReader name='symbol.jpg'>\n",
      "<_io.BufferedReader name='symbol.jpg'>\n",
      "<_io.BufferedReader name='symbol.jpg'>\n",
      "<_io.BufferedReader name='symbol.jpg'>\n",
      "<_io.BufferedReader name='symbol.jpg'>\n",
      "<_io.BufferedReader name='symbol.jpg'>\n",
      "<_io.BufferedReader name='symbol.jpg'>\n",
      "<_io.BufferedReader name='symbol.jpg'>\n",
      "<_io.BufferedReader name='symbol.jpg'>\n",
      "<_io.BufferedReader name='symbol.jpg'>\n",
      "<_io.BufferedReader name='symbol.jpg'>\n",
      "<_io.BufferedReader name='symbol.jpg'>\n",
      "<_io.BufferedReader name='symbol.jpg'>\n",
      "<_io.BufferedReader name='symbol.jpg'>\n",
      "<_io.BufferedReader name='symbol.jpg'>\n",
      "<_io.BufferedReader name='symbol.jpg'>\n",
      "<_io.BufferedReader name='symbol.jpg'>\n",
      "<_io.BufferedReader name='symbol.jpg'>\n",
      "<_io.BufferedReader name='symbol.jpg'>\n",
      "<_io.BufferedReader name='symbol.jpg'>\n",
      "<_io.BufferedReader name='symbol.jpg'>\n",
      "<_io.BufferedReader name='symbol.jpg'>\n",
      "<_io.BufferedReader name='symbol.jpg'>\n",
      "<_io.BufferedReader name='symbol.jpg'>\n",
      "<_io.BufferedReader name='symbol.jpg'>\n",
      "<_io.BufferedReader name='symbol.jpg'>\n",
      "<_io.BufferedReader name='symbol.jpg'>\n",
      "<_io.BufferedReader name='symbol.jpg'>\n",
      "<_io.BufferedReader name='symbol.jpg'>\n",
      "<_io.BufferedReader name='symbol.jpg'>\n",
      "<_io.BufferedReader name='symbol.jpg'>\n",
      "<_io.BufferedReader name='symbol.jpg'>\n",
      "<_io.BufferedReader name='symbol.jpg'>\n",
      "<_io.BufferedReader name='symbol.jpg'>\n",
      "<_io.BufferedReader name='symbol.jpg'>\n",
      "<_io.BufferedReader name='symbol.jpg'>\n",
      "<_io.BufferedReader name='symbol.jpg'>\n",
      "<_io.BufferedReader name='symbol.jpg'>\n",
      "<_io.BufferedReader name='symbol.jpg'>\n",
      "<_io.BufferedReader name='symbol.jpg'>\n",
      "<_io.BufferedReader name='symbol.jpg'>\n",
      "<_io.BufferedReader name='symbol.jpg'>\n",
      "<_io.BufferedReader name='symbol.jpg'>\n",
      "<_io.BufferedReader name='symbol.jpg'>\n",
      "<_io.BufferedReader name='symbol.jpg'>\n",
      "<_io.BufferedReader name='symbol.jpg'>\n",
      "<_io.BufferedReader name='symbol.jpg'>\n",
      "<_io.BufferedReader name='symbol.jpg'>\n",
      "<_io.BufferedReader name='symbol.jpg'>\n",
      "<_io.BufferedReader name='symbol.jpg'>\n",
      "<_io.BufferedReader name='symbol.jpg'>\n",
      "<_io.BufferedReader name='symbol.jpg'>\n",
      "<_io.BufferedReader name='symbol.jpg'>\n",
      "<_io.BufferedReader name='symbol.jpg'>\n",
      "<_io.BufferedReader name='symbol.jpg'>\n",
      "<_io.BufferedReader name='symbol.jpg'>\n",
      "<_io.BufferedReader name='symbol.jpg'>\n",
      "<_io.BufferedReader name='symbol.jpg'>\n",
      "<_io.BufferedReader name='symbol.jpg'>\n",
      "<_io.BufferedReader name='symbol.jpg'>\n",
      "<_io.BufferedReader name='symbol.jpg'>\n",
      "<_io.BufferedReader name='symbol.jpg'>\n",
      "<_io.BufferedReader name='symbol.jpg'>\n",
      "<_io.BufferedReader name='symbol.jpg'>\n",
      "<_io.BufferedReader name='symbol.jpg'>\n",
      "<_io.BufferedReader name='symbol.jpg'>\n",
      "<_io.BufferedReader name='symbol.jpg'>\n",
      "<_io.BufferedReader name='symbol.jpg'>\n",
      "<_io.BufferedReader name='symbol.jpg'>\n",
      "<_io.BufferedReader name='symbol.jpg'>\n",
      "<_io.BufferedReader name='symbol.jpg'>\n",
      "<_io.BufferedReader name='symbol.jpg'>\n",
      "<_io.BufferedReader name='symbol.jpg'>\n",
      "<_io.BufferedReader name='symbol.jpg'>\n",
      "<_io.BufferedReader name='symbol.jpg'>\n",
      "<_io.BufferedReader name='symbol.jpg'>\n",
      "<_io.BufferedReader name='symbol.jpg'>\n",
      "<_io.BufferedReader name='symbol.jpg'>\n",
      "<_io.BufferedReader name='symbol.jpg'>\n",
      "<_io.BufferedReader name='symbol.jpg'>\n",
      "<_io.BufferedReader name='symbol.jpg'>\n",
      "<_io.BufferedReader name='symbol.jpg'>\n",
      "<_io.BufferedReader name='symbol.jpg'>\n",
      "<_io.BufferedReader name='symbol.jpg'>\n",
      "<_io.BufferedReader name='symbol.jpg'>\n",
      "<_io.BufferedReader name='symbol.jpg'>\n",
      "<_io.BufferedReader name='symbol.jpg'>\n",
      "<_io.BufferedReader name='symbol.jpg'>\n",
      "<_io.BufferedReader name='symbol.jpg'>\n",
      "<_io.BufferedReader name='symbol.jpg'>\n",
      "<_io.BufferedReader name='symbol.jpg'>\n",
      "<_io.BufferedReader name='symbol.jpg'>\n",
      "<_io.BufferedReader name='symbol.jpg'>\n",
      "<_io.BufferedReader name='symbol.jpg'>\n",
      "<_io.BufferedReader name='symbol.jpg'>\n",
      "<_io.BufferedReader name='symbol.jpg'>\n",
      "<_io.BufferedReader name='symbol.jpg'>\n",
      "<_io.BufferedReader name='symbol.jpg'>\n",
      "<_io.BufferedReader name='symbol.jpg'>\n",
      "<_io.BufferedReader name='symbol.jpg'>\n",
      "<_io.BufferedReader name='symbol.jpg'>\n",
      "<_io.BufferedReader name='symbol.jpg'>\n",
      "<_io.BufferedReader name='symbol.jpg'>\n",
      "<_io.BufferedReader name='symbol.jpg'>\n",
      "<_io.BufferedReader name='symbol.jpg'>\n",
      "<_io.BufferedReader name='symbol.jpg'>\n",
      "<_io.BufferedReader name='symbol.jpg'>\n",
      "<_io.BufferedReader name='symbol.jpg'>\n",
      "<_io.BufferedReader name='symbol.jpg'>\n",
      "<_io.BufferedReader name='symbol.jpg'>\n",
      "<_io.BufferedReader name='symbol.jpg'>\n",
      "<_io.BufferedReader name='symbol.jpg'>\n",
      "<_io.BufferedReader name='symbol.jpg'>\n",
      "<_io.BufferedReader name='symbol.jpg'>\n",
      "<_io.BufferedReader name='symbol.jpg'>\n",
      "<_io.BufferedReader name='symbol.jpg'>\n",
      "<_io.BufferedReader name='symbol.jpg'>\n",
      "<_io.BufferedReader name='symbol.jpg'>\n",
      "<_io.BufferedReader name='symbol.jpg'>\n",
      "<_io.BufferedReader name='symbol.jpg'>\n",
      "<_io.BufferedReader name='symbol.jpg'>\n",
      "<_io.BufferedReader name='symbol.jpg'>\n",
      "<_io.BufferedReader name='symbol.jpg'>\n",
      "<_io.BufferedReader name='symbol.jpg'>\n",
      "<_io.BufferedReader name='symbol.jpg'>\n",
      "<_io.BufferedReader name='symbol.jpg'>\n",
      "<_io.BufferedReader name='symbol.jpg'>\n",
      "<_io.BufferedReader name='symbol.jpg'>\n",
      "<_io.BufferedReader name='symbol.jpg'>\n",
      "<_io.BufferedReader name='symbol.jpg'>\n",
      "<_io.BufferedReader name='symbol.jpg'>\n",
      "<_io.BufferedReader name='symbol.jpg'>\n",
      "<_io.BufferedReader name='symbol.jpg'>\n",
      "<_io.BufferedReader name='symbol.jpg'>\n",
      "<_io.BufferedReader name='symbol.jpg'>\n",
      "<_io.BufferedReader name='symbol.jpg'>\n",
      "<_io.BufferedReader name='symbol.jpg'>\n",
      "<_io.BufferedReader name='symbol.jpg'>\n",
      "<_io.BufferedReader name='symbol.jpg'>\n",
      "<_io.BufferedReader name='symbol.jpg'>\n",
      "<_io.BufferedReader name='symbol.jpg'>\n",
      "<_io.BufferedReader name='symbol.jpg'>\n",
      "<_io.BufferedReader name='symbol.jpg'>\n",
      "<_io.BufferedReader name='symbol.jpg'>\n",
      "<_io.BufferedReader name='symbol.jpg'>\n",
      "<_io.BufferedReader name='symbol.jpg'>\n",
      "<_io.BufferedReader name='symbol.jpg'>\n",
      "<_io.BufferedReader name='symbol.jpg'>\n",
      "<_io.BufferedReader name='symbol.jpg'>\n",
      "<_io.BufferedReader name='symbol.jpg'>\n",
      "<_io.BufferedReader name='symbol.jpg'>\n",
      "<_io.BufferedReader name='symbol.jpg'>\n",
      "<_io.BufferedReader name='symbol.jpg'>\n",
      "<_io.BufferedReader name='symbol.jpg'>\n",
      "<_io.BufferedReader name='symbol.jpg'>\n",
      "<_io.BufferedReader name='symbol.jpg'>\n",
      "<_io.BufferedReader name='symbol.jpg'>\n",
      "<_io.BufferedReader name='symbol.jpg'>\n",
      "<_io.BufferedReader name='symbol.jpg'>\n",
      "<_io.BufferedReader name='symbol.jpg'>\n",
      "<_io.BufferedReader name='symbol.jpg'>\n",
      "<_io.BufferedReader name='symbol.jpg'>\n",
      "<_io.BufferedReader name='symbol.jpg'>\n",
      "<_io.BufferedReader name='symbol.jpg'>\n",
      "<_io.BufferedReader name='symbol.jpg'>\n",
      "<_io.BufferedReader name='symbol.jpg'>\n",
      "<_io.BufferedReader name='symbol.jpg'>\n",
      "<_io.BufferedReader name='symbol.jpg'>\n",
      "<_io.BufferedReader name='symbol.jpg'>\n",
      "<_io.BufferedReader name='symbol.jpg'>\n",
      "<_io.BufferedReader name='symbol.jpg'>\n",
      "<_io.BufferedReader name='symbol.jpg'>\n",
      "<_io.BufferedReader name='symbol.jpg'>\n",
      "<_io.BufferedReader name='symbol.jpg'>\n",
      "<_io.BufferedReader name='symbol.jpg'>\n",
      "<_io.BufferedReader name='symbol.jpg'>\n",
      "<_io.BufferedReader name='symbol.jpg'>\n",
      "<_io.BufferedReader name='symbol.jpg'>\n",
      "<_io.BufferedReader name='symbol.jpg'>\n",
      "<_io.BufferedReader name='symbol.jpg'>\n",
      "<_io.BufferedReader name='symbol.jpg'>\n",
      "<_io.BufferedReader name='symbol.jpg'>\n",
      "<_io.BufferedReader name='symbol.jpg'>\n",
      "<_io.BufferedReader name='symbol.jpg'>\n",
      "<_io.BufferedReader name='symbol.jpg'>\n",
      "<_io.BufferedReader name='symbol.jpg'>\n",
      "<_io.BufferedReader name='symbol.jpg'>\n",
      "<_io.BufferedReader name='symbol.jpg'>\n",
      "<_io.BufferedReader name='symbol.jpg'>\n",
      "<_io.BufferedReader name='symbol.jpg'>\n",
      "<_io.BufferedReader name='symbol.jpg'>\n",
      "<_io.BufferedReader name='symbol.jpg'>\n",
      "<_io.BufferedReader name='symbol.jpg'>\n",
      "<_io.BufferedReader name='symbol.jpg'>\n",
      "<_io.BufferedReader name='symbol.jpg'>\n",
      "<_io.BufferedReader name='symbol.jpg'>\n",
      "<_io.BufferedReader name='symbol.jpg'>\n",
      "<_io.BufferedReader name='symbol.jpg'>\n",
      "<_io.BufferedReader name='symbol.jpg'>\n",
      "<_io.BufferedReader name='symbol.jpg'>\n",
      "<_io.BufferedReader name='symbol.jpg'>\n",
      "<_io.BufferedReader name='symbol.jpg'>\n",
      "<_io.BufferedReader name='symbol.jpg'>\n",
      "<_io.BufferedReader name='symbol.jpg'>\n",
      "<_io.BufferedReader name='symbol.jpg'>\n",
      "<_io.BufferedReader name='symbol.jpg'>\n",
      "<_io.BufferedReader name='symbol.jpg'>\n",
      "<_io.BufferedReader name='symbol.jpg'>\n",
      "<_io.BufferedReader name='symbol.jpg'>\n",
      "<_io.BufferedReader name='symbol.jpg'>\n",
      "<_io.BufferedReader name='symbol.jpg'>\n",
      "<_io.BufferedReader name='symbol.jpg'>\n",
      "<_io.BufferedReader name='symbol.jpg'>\n",
      "<_io.BufferedReader name='symbol.jpg'>\n",
      "<_io.BufferedReader name='symbol.jpg'>\n",
      "<_io.BufferedReader name='symbol.jpg'>\n",
      "<_io.BufferedReader name='symbol.jpg'>\n",
      "<_io.BufferedReader name='symbol.jpg'>\n",
      "<_io.BufferedReader name='symbol.jpg'>\n",
      "<_io.BufferedReader name='symbol.jpg'>\n",
      "<_io.BufferedReader name='symbol.jpg'>\n",
      "<_io.BufferedReader name='symbol.jpg'>\n",
      "<_io.BufferedReader name='symbol.jpg'>\n",
      "<_io.BufferedReader name='symbol.jpg'>\n",
      "<_io.BufferedReader name='symbol.jpg'>\n",
      "<_io.BufferedReader name='symbol.jpg'>\n",
      "<_io.BufferedReader name='symbol.jpg'>\n",
      "<_io.BufferedReader name='symbol.jpg'>\n",
      "<_io.BufferedReader name='symbol.jpg'>\n",
      "<_io.BufferedReader name='symbol.jpg'>\n",
      "<_io.BufferedReader name='symbol.jpg'>\n",
      "<_io.BufferedReader name='symbol.jpg'>\n",
      "<_io.BufferedReader name='symbol.jpg'>\n",
      "<_io.BufferedReader name='symbol.jpg'>\n",
      "<_io.BufferedReader name='symbol.jpg'>\n",
      "<_io.BufferedReader name='symbol.jpg'>\n",
      "<_io.BufferedReader name='symbol.jpg'>\n",
      "<_io.BufferedReader name='symbol.jpg'>\n",
      "<_io.BufferedReader name='symbol.jpg'>\n",
      "<_io.BufferedReader name='symbol.jpg'>\n",
      "<_io.BufferedReader name='symbol.jpg'>\n",
      "<_io.BufferedReader name='symbol.jpg'>\n",
      "<_io.BufferedReader name='symbol.jpg'>\n",
      "<_io.BufferedReader name='symbol.jpg'>\n",
      "<_io.BufferedReader name='symbol.jpg'>\n",
      "<_io.BufferedReader name='symbol.jpg'>\n",
      "<_io.BufferedReader name='symbol.jpg'>\n",
      "<_io.BufferedReader name='symbol.jpg'>\n",
      "<_io.BufferedReader name='symbol.jpg'>\n",
      "<_io.BufferedReader name='symbol.jpg'>\n",
      "<_io.BufferedReader name='symbol.jpg'>\n",
      "<_io.BufferedReader name='symbol.jpg'>\n",
      "<_io.BufferedReader name='symbol.jpg'>\n",
      "<_io.BufferedReader name='symbol.jpg'>\n",
      "<_io.BufferedReader name='symbol.jpg'>\n",
      "<_io.BufferedReader name='symbol.jpg'>\n",
      "<_io.BufferedReader name='symbol.jpg'>\n",
      "<_io.BufferedReader name='symbol.jpg'>\n",
      "<_io.BufferedReader name='symbol.jpg'>\n",
      "<_io.BufferedReader name='symbol.jpg'>\n",
      "<_io.BufferedReader name='symbol.jpg'>\n",
      "<_io.BufferedReader name='symbol.jpg'>\n",
      "<_io.BufferedReader name='symbol.jpg'>\n",
      "<_io.BufferedReader name='symbol.jpg'>\n",
      "<_io.BufferedReader name='symbol.jpg'>\n",
      "<_io.BufferedReader name='symbol.jpg'>\n",
      "<_io.BufferedReader name='symbol.jpg'>\n",
      "<_io.BufferedReader name='symbol.jpg'>\n",
      "<_io.BufferedReader name='symbol.jpg'>\n",
      "<_io.BufferedReader name='symbol.jpg'>\n",
      "<_io.BufferedReader name='symbol.jpg'>\n",
      "<_io.BufferedReader name='symbol.jpg'>\n",
      "<_io.BufferedReader name='symbol.jpg'>\n",
      "<_io.BufferedReader name='symbol.jpg'>\n",
      "<_io.BufferedReader name='symbol.jpg'>\n",
      "<_io.BufferedReader name='symbol.jpg'>\n",
      "<_io.BufferedReader name='symbol.jpg'>\n",
      "<_io.BufferedReader name='symbol.jpg'>\n",
      "<_io.BufferedReader name='symbol.jpg'>\n",
      "<_io.BufferedReader name='symbol.jpg'>\n",
      "<_io.BufferedReader name='symbol.jpg'>\n",
      "<_io.BufferedReader name='symbol.jpg'>\n",
      "<_io.BufferedReader name='symbol.jpg'>\n",
      "<_io.BufferedReader name='symbol.jpg'>\n",
      "<_io.BufferedReader name='symbol.jpg'>\n",
      "<_io.BufferedReader name='symbol.jpg'>\n",
      "<_io.BufferedReader name='symbol.jpg'>\n",
      "<_io.BufferedReader name='symbol.jpg'>\n",
      "<_io.BufferedReader name='symbol.jpg'>\n",
      "<_io.BufferedReader name='symbol.jpg'>\n",
      "<_io.BufferedReader name='symbol.jpg'>\n",
      "<_io.BufferedReader name='symbol.jpg'>\n",
      "<_io.BufferedReader name='symbol.jpg'>\n",
      "<_io.BufferedReader name='symbol.jpg'>\n",
      "<_io.BufferedReader name='symbol.jpg'>\n",
      "<_io.BufferedReader name='symbol.jpg'>\n",
      "<_io.BufferedReader name='symbol.jpg'>\n",
      "<_io.BufferedReader name='symbol.jpg'>\n",
      "<_io.BufferedReader name='symbol.jpg'>\n",
      "<_io.BufferedReader name='symbol.jpg'>\n",
      "<_io.BufferedReader name='symbol.jpg'>\n",
      "<_io.BufferedReader name='symbol.jpg'>\n",
      "<_io.BufferedReader name='symbol.jpg'>\n",
      "<_io.BufferedReader name='symbol.jpg'>\n",
      "<_io.BufferedReader name='symbol.jpg'>\n",
      "<_io.BufferedReader name='symbol.jpg'>\n",
      "<_io.BufferedReader name='symbol.jpg'>\n",
      "<_io.BufferedReader name='symbol.jpg'>\n",
      "<_io.BufferedReader name='symbol.jpg'>\n",
      "<_io.BufferedReader name='symbol.jpg'>\n",
      "<_io.BufferedReader name='symbol.jpg'>\n",
      "<_io.BufferedReader name='symbol.jpg'>\n",
      "<_io.BufferedReader name='symbol.jpg'>\n",
      "<_io.BufferedReader name='symbol.jpg'>\n",
      "<_io.BufferedReader name='symbol.jpg'>\n",
      "<_io.BufferedReader name='symbol.jpg'>\n",
      "<_io.BufferedReader name='symbol.jpg'>\n",
      "<_io.BufferedReader name='symbol.jpg'>\n",
      "<_io.BufferedReader name='symbol.jpg'>\n",
      "<_io.BufferedReader name='symbol.jpg'>\n",
      "<_io.BufferedReader name='symbol.jpg'>\n",
      "<_io.BufferedReader name='symbol.jpg'>\n",
      "<_io.BufferedReader name='symbol.jpg'>\n",
      "<_io.BufferedReader name='symbol.jpg'>\n",
      "<_io.BufferedReader name='symbol.jpg'>\n",
      "<_io.BufferedReader name='symbol.jpg'>\n",
      "<_io.BufferedReader name='symbol.jpg'>\n",
      "<_io.BufferedReader name='symbol.jpg'>\n",
      "<_io.BufferedReader name='symbol.jpg'>\n",
      "<_io.BufferedReader name='symbol.jpg'>\n",
      "<_io.BufferedReader name='symbol.jpg'>\n",
      "<_io.BufferedReader name='symbol.jpg'>\n",
      "<_io.BufferedReader name='symbol.jpg'>\n",
      "<_io.BufferedReader name='symbol.jpg'>\n",
      "<_io.BufferedReader name='symbol.jpg'>\n",
      "<_io.BufferedReader name='symbol.jpg'>\n",
      "<_io.BufferedReader name='symbol.jpg'>\n",
      "<_io.BufferedReader name='symbol.jpg'>\n",
      "<_io.BufferedReader name='symbol.jpg'>\n",
      "<_io.BufferedReader name='symbol.jpg'>\n",
      "<_io.BufferedReader name='symbol.jpg'>\n",
      "<_io.BufferedReader name='symbol.jpg'>\n",
      "<_io.BufferedReader name='symbol.jpg'>\n",
      "<_io.BufferedReader name='symbol.jpg'>\n",
      "<_io.BufferedReader name='symbol.jpg'>\n",
      "<_io.BufferedReader name='symbol.jpg'>\n",
      "<_io.BufferedReader name='symbol.jpg'>\n",
      "<_io.BufferedReader name='symbol.jpg'>\n",
      "<_io.BufferedReader name='symbol.jpg'>\n",
      "<_io.BufferedReader name='symbol.jpg'>\n",
      "<_io.BufferedReader name='symbol.jpg'>\n",
      "<_io.BufferedReader name='symbol.jpg'>\n",
      "<_io.BufferedReader name='symbol.jpg'>\n",
      "<_io.BufferedReader name='symbol.jpg'>\n",
      "<_io.BufferedReader name='symbol.jpg'>\n",
      "<_io.BufferedReader name='symbol.jpg'>\n",
      "<_io.BufferedReader name='symbol.jpg'>\n",
      "<_io.BufferedReader name='symbol.jpg'>\n",
      "<_io.BufferedReader name='symbol.jpg'>\n",
      "<_io.BufferedReader name='symbol.jpg'>\n",
      "<_io.BufferedReader name='symbol.jpg'>\n",
      "<_io.BufferedReader name='symbol.jpg'>\n",
      "<_io.BufferedReader name='symbol.jpg'>\n",
      "<_io.BufferedReader name='symbol.jpg'>\n",
      "<_io.BufferedReader name='symbol.jpg'>\n",
      "<_io.BufferedReader name='symbol.jpg'>\n",
      "<_io.BufferedReader name='symbol.jpg'>\n",
      "<_io.BufferedReader name='symbol.jpg'>\n",
      "<_io.BufferedReader name='symbol.jpg'>\n",
      "<_io.BufferedReader name='symbol.jpg'>\n",
      "<_io.BufferedReader name='symbol.jpg'>\n",
      "<_io.BufferedReader name='symbol.jpg'>\n",
      "<_io.BufferedReader name='symbol.jpg'>\n",
      "<_io.BufferedReader name='symbol.jpg'>\n",
      "<_io.BufferedReader name='symbol.jpg'>\n",
      "<_io.BufferedReader name='symbol.jpg'>\n",
      "<_io.BufferedReader name='symbol.jpg'>\n",
      "<_io.BufferedReader name='symbol.jpg'>\n",
      "<_io.BufferedReader name='symbol.jpg'>\n"
     ]
    }
   ],
   "source": [
    "c=open('symbol.jpg','rb')    #rb means read binary\n",
    "for i in c:\n",
    "    print(c)    #print all the pixels r values of the image\n",
    "c.close()"
   ]
  },
  {
   "cell_type": "code",
   "execution_count": 37,
   "metadata": {},
   "outputs": [],
   "source": [
    "d=open('symbol.jpg','rb')    \n",
    "\n",
    "g=open('mypythonpic.jpg','wb')\n",
    "for i in d:\n",
    "    g.write(i)\n",
    "g.close()"
   ]
  },
  {
   "cell_type": "code",
   "execution_count": 36,
   "metadata": {},
   "outputs": [
    {
     "name": "stdout",
     "output_type": "stream",
     "text": [
      "<_io.BufferedReader name='mypythonpic.jpg'>\n"
     ]
    }
   ],
   "source": [
    "h=open('mypythonpic.jpg','rb')\n",
    "print(h)\n",
    "h.close()"
   ]
  },
  {
   "cell_type": "code",
   "execution_count": null,
   "metadata": {},
   "outputs": [],
   "source": [
    "Mode\tDescription\n",
    "'r' \tOpen a file for reading. (default)\n",
    "'w' \tOpen a file for writing. Creates a new file if it does not exist or truncates the file if it exists.\n",
    "'x' \tOpen a file for exclusive creation. If the file already exists, the operation fails.\n",
    "'a' \tOpen for appending at the end of the file without truncating it. Creates a new file if it does not exist.\n",
    "'t' \tOpen in text mode. (default)\n",
    "'b' \tOpen in binary mode.\n",
    "'+' \tOpen a file for updating (reading and writing)\n",
    "f = open(\"test.txt\")      # equivalent to 'r' or 'rt'\n",
    "f = open(\"test.txt\",'w')  # write in text mode\n",
    "f = open(\"img.bmp\",'r+b') # read and write in binary mode"
   ]
  },
  {
   "cell_type": "code",
   "execution_count": null,
   "metadata": {},
   "outputs": [],
   "source": [
    "# This method is not entirely safe. If an exception occurs when we are performing some operation with the file, the code exits without closing the file.\n",
    "\n",
    "# A safer way is to use a try...finally block.\n",
    "\n",
    "try:\n",
    "    f = open(\"test.txt\",encoding = 'utf-8')\n",
    "   # perform file operations\n",
    "finally:\n",
    "    f.close()\n",
    "# This way, we are guaranteed that the file is properly closed even if an exception is raised, causing program flow to stop.\n",
    "\n",
    "# The best way to do this is using the with statement. This ensures that the file is closed when the block inside with is exited.\n",
    "\n",
    "# We don't need to explicitly call the close() method. It is done internally.\n",
    "\n",
    "with open(\"test.txt\",encoding = 'utf-8') as f:\n",
    "   # perform file operations\n"
   ]
  },
  {
   "cell_type": "code",
   "execution_count": null,
   "metadata": {},
   "outputs": [],
   "source": [
    "There are various methods available for this purpose. We can use the read(size) method to read in size number of data. If size parameter is not specified, it reads and returns up to the end of the file.\n",
    "\n",
    ">>> f = open(\"test.txt\",'r',encoding = 'utf-8')\n",
    ">>> f.read(4)    # read the first 4 data\n",
    "'This'\n",
    ">>> f.read(4)    # read the next 4 data\n",
    "' is '\n",
    ">>> f.read()     # read in the rest till end of file\n",
    "'my first file\\nThis file\\ncontains three lines\\n'\n",
    ">>> f.read()  # further reading returns empty sting\n",
    "''\n",
    "\n",
    "\n",
    "\n",
    "\n",
    "\n",
    "We can see that, the read() method returns newline as '\\n'. Once the end of file is reached, we get empty string on further reading.\n",
    "\n",
    "We can change our current file cursor (position) using the seek() method. Similarly, the tell() method returns our current position (in number of bytes).\n",
    "\n",
    ">>> f.tell()    # get the current file position\n",
    "56\n",
    ">>> f.seek(0)   # bring file cursor to initial position\n",
    "0\n",
    ">>> print(f.read())  # read the entire file\n",
    "This is my first file\n",
    "This file\n",
    "contains three lines\n",
    "\n",
    "\n",
    "\n",
    "\n",
    "\n",
    "We can read a file line-by-line using a for loop. This is both efficient and fast.\n",
    "\n",
    ">>> for line in f:\n",
    "...     print(line, end = '')\n",
    "...\n",
    "This is my first file\n",
    "This file\n",
    "contains three lines"
   ]
  },
  {
   "cell_type": "code",
   "execution_count": null,
   "metadata": {},
   "outputs": [],
   "source": [
    "Python File Methods\n",
    "There are various methods available with the file object. Some of them have been used in above examples.\n",
    "\n",
    "Here is the complete list of methods in text mode with a brief description.\n",
    "\n",
    "Python File Methods\n",
    "Method      \tDescription\n",
    "close()     \tClose an open file. It has no effect if the file is already closed.\n",
    "detach()    \tSeparate the underlying binary buffer from the TextIOBase and return it.\n",
    "fileno()    \tReturn an integer number (file descriptor) of the file.\n",
    "flush()     \tFlush the write buffer of the file stream.\n",
    "isatty()    \tReturn True if the file stream is interactive.\n",
    "read(n)     \tRead atmost n characters form the file. Reads till end of file if it is negative or None.\n",
    "readable()  \tReturns True if the file stream can be read from.\n",
    "readline(n=-1) \tRead and return one line from the file. Reads in at most n bytes if specified.\n",
    "readlines(n=-1)\tRead and return a list of lines from the file. Reads in at most n bytes/characters if specified.\n",
    "seek(offset,from=SEEK_SET)\tChange the file position to offset bytes, in reference to from (start, current, end).\n",
    "seekable()  \tReturns True if the file stream supports random access.\n",
    "tell()      \tReturns the current file location.\n",
    "truncate(size=None)\tResize the file stream to size bytes. If size is not specified, resize to current location.\n",
    "writable()  \tReturns True if the file stream can be written to.\n",
    "write(s)    \tWrite string s to the file and return the number of characters written.\n",
    "writelines(lines)\tWrite a list of lines to the file."
   ]
  }
 ],
 "metadata": {
  "kernelspec": {
   "display_name": "Python 3",
   "language": "python",
   "name": "python3"
  },
  "language_info": {
   "codemirror_mode": {
    "name": "ipython",
    "version": 3
   },
   "file_extension": ".py",
   "mimetype": "text/x-python",
   "name": "python",
   "nbconvert_exporter": "python",
   "pygments_lexer": "ipython3",
   "version": "3.7.1"
  }
 },
 "nbformat": 4,
 "nbformat_minor": 2
}
